{
 "cells": [
  {
   "cell_type": "code",
   "execution_count": 18,
   "metadata": {},
   "outputs": [
    {
     "data": {
      "text/html": [
       "        <script type=\"text/javascript\">\n",
       "        window.PlotlyConfig = {MathJaxConfig: 'local'};\n",
       "        if (window.MathJax) {MathJax.Hub.Config({SVG: {font: \"STIX-Web\"}});}\n",
       "        if (typeof require !== 'undefined') {\n",
       "        require.undef(\"plotly\");\n",
       "        requirejs.config({\n",
       "            paths: {\n",
       "                'plotly': ['https://cdn.plot.ly/plotly-latest.min']\n",
       "            }\n",
       "        });\n",
       "        require(['plotly'], function(Plotly) {\n",
       "            window._Plotly = Plotly;\n",
       "        });\n",
       "        }\n",
       "        </script>\n",
       "        "
      ]
     },
     "metadata": {},
     "output_type": "display_data"
    }
   ],
   "source": [
    "import numpy as np\n",
    "import pandas as pd\n",
    "pd.set_option('display.max_rows', 1000)\n",
    "pd.set_option('display.max_columns', 120)\n",
    "\n",
    "from sklearn.preprocessing import StandardScaler\n",
    "from sklearn.cluster import KMeans\n",
    "from sklearn.metrics import silhouette_score\n",
    "from sklearn.metrics import silhouette_samples\n",
    "\n",
    "import matplotlib.pyplot as plt\n",
    "\n",
    "import plotly.graph_objects as go\n",
    "import plotly.express as px\n",
    "from plotly.offline import init_notebook_mode\n",
    "init_notebook_mode(connected = True)"
   ]
  },
  {
   "cell_type": "code",
   "execution_count": 2,
   "metadata": {},
   "outputs": [],
   "source": [
    "def read_df_fbref(path, sep):\n",
    "    \n",
    "    df= pd.read_csv(path, sep= sep)\n",
    "    df.columns= df.iloc[0]\n",
    "    df.drop([0], inplace= True)\n",
    "    df.reset_index(drop= True, inplace= True)\n",
    "    \n",
    "    return df"
   ]
  },
  {
   "cell_type": "code",
   "execution_count": 3,
   "metadata": {},
   "outputs": [
    {
     "data": {
      "text/html": [
       "<div>\n",
       "<style scoped>\n",
       "    .dataframe tbody tr th:only-of-type {\n",
       "        vertical-align: middle;\n",
       "    }\n",
       "\n",
       "    .dataframe tbody tr th {\n",
       "        vertical-align: top;\n",
       "    }\n",
       "\n",
       "    .dataframe thead th {\n",
       "        text-align: right;\n",
       "    }\n",
       "</style>\n",
       "<table border=\"1\" class=\"dataframe\">\n",
       "  <thead>\n",
       "    <tr style=\"text-align: right;\">\n",
       "      <th></th>\n",
       "      <th>Rk</th>\n",
       "      <th>Squad</th>\n",
       "      <th>MP</th>\n",
       "      <th>W</th>\n",
       "      <th>D</th>\n",
       "      <th>L</th>\n",
       "      <th>GF</th>\n",
       "      <th>GA</th>\n",
       "      <th>GDiff</th>\n",
       "      <th>Pts</th>\n",
       "      <th>xG</th>\n",
       "      <th>xGA</th>\n",
       "      <th>xGDiff</th>\n",
       "      <th>xGDiff/90</th>\n",
       "      <th>Last 5</th>\n",
       "      <th>Attendance</th>\n",
       "      <th>Top Team Scorer</th>\n",
       "      <th>Goalkeeper</th>\n",
       "      <th>Notes</th>\n",
       "    </tr>\n",
       "  </thead>\n",
       "  <tbody>\n",
       "    <tr>\n",
       "      <th>0</th>\n",
       "      <td>1</td>\n",
       "      <td>Atlético Madrid</td>\n",
       "      <td>18</td>\n",
       "      <td>15</td>\n",
       "      <td>2</td>\n",
       "      <td>1</td>\n",
       "      <td>36</td>\n",
       "      <td>8</td>\n",
       "      <td>28</td>\n",
       "      <td>47</td>\n",
       "      <td>24.4</td>\n",
       "      <td>13.6</td>\n",
       "      <td>10.8</td>\n",
       "      <td>0.60</td>\n",
       "      <td>W W W W W</td>\n",
       "      <td>NaN</td>\n",
       "      <td>Luis Suárez - 12</td>\n",
       "      <td>Jan Oblak</td>\n",
       "      <td>NaN</td>\n",
       "    </tr>\n",
       "    <tr>\n",
       "      <th>1</th>\n",
       "      <td>2</td>\n",
       "      <td>Real Madrid</td>\n",
       "      <td>19</td>\n",
       "      <td>12</td>\n",
       "      <td>4</td>\n",
       "      <td>3</td>\n",
       "      <td>34</td>\n",
       "      <td>16</td>\n",
       "      <td>18</td>\n",
       "      <td>40</td>\n",
       "      <td>30.8</td>\n",
       "      <td>20.4</td>\n",
       "      <td>10.5</td>\n",
       "      <td>0.55</td>\n",
       "      <td>W D W D W</td>\n",
       "      <td>NaN</td>\n",
       "      <td>Karim Benzema - 10</td>\n",
       "      <td>Thibaut Courtois</td>\n",
       "      <td>NaN</td>\n",
       "    </tr>\n",
       "    <tr>\n",
       "      <th>2</th>\n",
       "      <td>3</td>\n",
       "      <td>Barcelona</td>\n",
       "      <td>19</td>\n",
       "      <td>11</td>\n",
       "      <td>4</td>\n",
       "      <td>4</td>\n",
       "      <td>39</td>\n",
       "      <td>17</td>\n",
       "      <td>22</td>\n",
       "      <td>37</td>\n",
       "      <td>41.6</td>\n",
       "      <td>21.6</td>\n",
       "      <td>19.9</td>\n",
       "      <td>1.05</td>\n",
       "      <td>D W W W W</td>\n",
       "      <td>NaN</td>\n",
       "      <td>Lionel Messi - 11</td>\n",
       "      <td>Marc-André ter Stegen</td>\n",
       "      <td>NaN</td>\n",
       "    </tr>\n",
       "    <tr>\n",
       "      <th>3</th>\n",
       "      <td>4</td>\n",
       "      <td>Sevilla</td>\n",
       "      <td>19</td>\n",
       "      <td>11</td>\n",
       "      <td>3</td>\n",
       "      <td>5</td>\n",
       "      <td>26</td>\n",
       "      <td>16</td>\n",
       "      <td>10</td>\n",
       "      <td>36</td>\n",
       "      <td>25.1</td>\n",
       "      <td>18.5</td>\n",
       "      <td>6.6</td>\n",
       "      <td>0.35</td>\n",
       "      <td>D W L W W</td>\n",
       "      <td>NaN</td>\n",
       "      <td>Youssef En-Nesyri - 12</td>\n",
       "      <td>Yassine Bounou</td>\n",
       "      <td>NaN</td>\n",
       "    </tr>\n",
       "    <tr>\n",
       "      <th>4</th>\n",
       "      <td>5</td>\n",
       "      <td>Villarreal</td>\n",
       "      <td>20</td>\n",
       "      <td>8</td>\n",
       "      <td>10</td>\n",
       "      <td>2</td>\n",
       "      <td>28</td>\n",
       "      <td>19</td>\n",
       "      <td>9</td>\n",
       "      <td>34</td>\n",
       "      <td>29.6</td>\n",
       "      <td>16.7</td>\n",
       "      <td>12.9</td>\n",
       "      <td>0.64</td>\n",
       "      <td>L W W D D</td>\n",
       "      <td>NaN</td>\n",
       "      <td>Gerard Moreno - 10</td>\n",
       "      <td>Sergio Asenjo</td>\n",
       "      <td>NaN</td>\n",
       "    </tr>\n",
       "  </tbody>\n",
       "</table>\n",
       "</div>"
      ],
      "text/plain": [
       "   Rk            Squad  MP   W   D  L  GF  GA  GDiff  Pts    xG   xGA  xGDiff  \\\n",
       "0   1  Atlético Madrid  18  15   2  1  36   8     28   47  24.4  13.6    10.8   \n",
       "1   2      Real Madrid  19  12   4  3  34  16     18   40  30.8  20.4    10.5   \n",
       "2   3        Barcelona  19  11   4  4  39  17     22   37  41.6  21.6    19.9   \n",
       "3   4          Sevilla  19  11   3  5  26  16     10   36  25.1  18.5     6.6   \n",
       "4   5       Villarreal  20   8  10  2  28  19      9   34  29.6  16.7    12.9   \n",
       "\n",
       "   xGDiff/90     Last 5  Attendance         Top Team Scorer  \\\n",
       "0       0.60  W W W W W         NaN        Luis Suárez - 12   \n",
       "1       0.55  W D W D W         NaN      Karim Benzema - 10   \n",
       "2       1.05  D W W W W         NaN       Lionel Messi - 11   \n",
       "3       0.35  D W L W W         NaN  Youssef En-Nesyri - 12   \n",
       "4       0.64  L W W D D         NaN      Gerard Moreno - 10   \n",
       "\n",
       "              Goalkeeper  Notes  \n",
       "0              Jan Oblak    NaN  \n",
       "1       Thibaut Courtois    NaN  \n",
       "2  Marc-André ter Stegen    NaN  \n",
       "3         Yassine Bounou    NaN  \n",
       "4          Sergio Asenjo    NaN  "
      ]
     },
     "execution_count": 3,
     "metadata": {},
     "output_type": "execute_result"
    }
   ],
   "source": [
    "laliga_raw_data= pd.read_csv('./data/laliga_data_2020_2021.txt', sep=',')\n",
    "laliga_raw_data.head(5)"
   ]
  },
  {
   "cell_type": "code",
   "execution_count": 4,
   "metadata": {},
   "outputs": [
    {
     "data": {
      "text/html": [
       "<div>\n",
       "<style scoped>\n",
       "    .dataframe tbody tr th:only-of-type {\n",
       "        vertical-align: middle;\n",
       "    }\n",
       "\n",
       "    .dataframe tbody tr th {\n",
       "        vertical-align: top;\n",
       "    }\n",
       "\n",
       "    .dataframe thead th {\n",
       "        text-align: right;\n",
       "    }\n",
       "</style>\n",
       "<table border=\"1\" class=\"dataframe\">\n",
       "  <thead>\n",
       "    <tr style=\"text-align: right;\">\n",
       "      <th></th>\n",
       "      <th>Squad</th>\n",
       "      <th># Pl</th>\n",
       "      <th>90s</th>\n",
       "      <th>GA</th>\n",
       "      <th>PKA</th>\n",
       "      <th>FK</th>\n",
       "      <th>CK</th>\n",
       "      <th>OG</th>\n",
       "      <th>PSxG</th>\n",
       "      <th>PSxG/SoT</th>\n",
       "      <th>PSxG+/-</th>\n",
       "      <th>/90</th>\n",
       "      <th>Cmp</th>\n",
       "      <th>Att</th>\n",
       "      <th>Cmp%</th>\n",
       "      <th>Att</th>\n",
       "      <th>Thr</th>\n",
       "      <th>Launch%</th>\n",
       "      <th>AvgLen</th>\n",
       "      <th>Att</th>\n",
       "      <th>Launch%</th>\n",
       "      <th>AvgLen</th>\n",
       "      <th>Opp</th>\n",
       "      <th>Stp</th>\n",
       "      <th>Stp%</th>\n",
       "      <th>#OPA</th>\n",
       "      <th>#OPA/90</th>\n",
       "      <th>AvgDist</th>\n",
       "    </tr>\n",
       "  </thead>\n",
       "  <tbody>\n",
       "    <tr>\n",
       "      <th>0</th>\n",
       "      <td>Alavés</td>\n",
       "      <td>1</td>\n",
       "      <td>20.0</td>\n",
       "      <td>29</td>\n",
       "      <td>1</td>\n",
       "      <td>0</td>\n",
       "      <td>4</td>\n",
       "      <td>0</td>\n",
       "      <td>27.9</td>\n",
       "      <td>0.34</td>\n",
       "      <td>-1.1</td>\n",
       "      <td>-0.05</td>\n",
       "      <td>191</td>\n",
       "      <td>368</td>\n",
       "      <td>51.9</td>\n",
       "      <td>425</td>\n",
       "      <td>59</td>\n",
       "      <td>61.4</td>\n",
       "      <td>45.5</td>\n",
       "      <td>169</td>\n",
       "      <td>63.3</td>\n",
       "      <td>47.2</td>\n",
       "      <td>178</td>\n",
       "      <td>16</td>\n",
       "      <td>9.0</td>\n",
       "      <td>15</td>\n",
       "      <td>0.75</td>\n",
       "      <td>15.1</td>\n",
       "    </tr>\n",
       "    <tr>\n",
       "      <th>1</th>\n",
       "      <td>Athletic Club</td>\n",
       "      <td>1</td>\n",
       "      <td>18.0</td>\n",
       "      <td>22</td>\n",
       "      <td>3</td>\n",
       "      <td>0</td>\n",
       "      <td>4</td>\n",
       "      <td>1</td>\n",
       "      <td>17.6</td>\n",
       "      <td>0.31</td>\n",
       "      <td>-3.4</td>\n",
       "      <td>-0.19</td>\n",
       "      <td>147</td>\n",
       "      <td>339</td>\n",
       "      <td>43.4</td>\n",
       "      <td>457</td>\n",
       "      <td>85</td>\n",
       "      <td>50.5</td>\n",
       "      <td>42.7</td>\n",
       "      <td>124</td>\n",
       "      <td>87.1</td>\n",
       "      <td>64.6</td>\n",
       "      <td>169</td>\n",
       "      <td>11</td>\n",
       "      <td>6.5</td>\n",
       "      <td>13</td>\n",
       "      <td>0.72</td>\n",
       "      <td>14.1</td>\n",
       "    </tr>\n",
       "    <tr>\n",
       "      <th>2</th>\n",
       "      <td>Atlético Madrid</td>\n",
       "      <td>1</td>\n",
       "      <td>18.0</td>\n",
       "      <td>8</td>\n",
       "      <td>1</td>\n",
       "      <td>0</td>\n",
       "      <td>2</td>\n",
       "      <td>2</td>\n",
       "      <td>11.9</td>\n",
       "      <td>0.21</td>\n",
       "      <td>+5.9</td>\n",
       "      <td>+0.33</td>\n",
       "      <td>133</td>\n",
       "      <td>307</td>\n",
       "      <td>43.3</td>\n",
       "      <td>342</td>\n",
       "      <td>53</td>\n",
       "      <td>58.8</td>\n",
       "      <td>43.9</td>\n",
       "      <td>157</td>\n",
       "      <td>67.5</td>\n",
       "      <td>49.4</td>\n",
       "      <td>168</td>\n",
       "      <td>10</td>\n",
       "      <td>6.0</td>\n",
       "      <td>5</td>\n",
       "      <td>0.28</td>\n",
       "      <td>13.9</td>\n",
       "    </tr>\n",
       "    <tr>\n",
       "      <th>3</th>\n",
       "      <td>Barcelona</td>\n",
       "      <td>2</td>\n",
       "      <td>19.0</td>\n",
       "      <td>17</td>\n",
       "      <td>2</td>\n",
       "      <td>0</td>\n",
       "      <td>4</td>\n",
       "      <td>0</td>\n",
       "      <td>20.5</td>\n",
       "      <td>0.27</td>\n",
       "      <td>+3.5</td>\n",
       "      <td>+0.18</td>\n",
       "      <td>90</td>\n",
       "      <td>145</td>\n",
       "      <td>62.1</td>\n",
       "      <td>507</td>\n",
       "      <td>102</td>\n",
       "      <td>21.7</td>\n",
       "      <td>28.7</td>\n",
       "      <td>110</td>\n",
       "      <td>31.8</td>\n",
       "      <td>32.1</td>\n",
       "      <td>125</td>\n",
       "      <td>12</td>\n",
       "      <td>9.6</td>\n",
       "      <td>13</td>\n",
       "      <td>0.68</td>\n",
       "      <td>16.4</td>\n",
       "    </tr>\n",
       "    <tr>\n",
       "      <th>4</th>\n",
       "      <td>Betis</td>\n",
       "      <td>2</td>\n",
       "      <td>20.0</td>\n",
       "      <td>34</td>\n",
       "      <td>5</td>\n",
       "      <td>0</td>\n",
       "      <td>7</td>\n",
       "      <td>2</td>\n",
       "      <td>33.3</td>\n",
       "      <td>0.41</td>\n",
       "      <td>+1.3</td>\n",
       "      <td>+0.06</td>\n",
       "      <td>136</td>\n",
       "      <td>354</td>\n",
       "      <td>38.4</td>\n",
       "      <td>532</td>\n",
       "      <td>78</td>\n",
       "      <td>53.2</td>\n",
       "      <td>43.0</td>\n",
       "      <td>124</td>\n",
       "      <td>57.3</td>\n",
       "      <td>46.3</td>\n",
       "      <td>150</td>\n",
       "      <td>8</td>\n",
       "      <td>5.3</td>\n",
       "      <td>12</td>\n",
       "      <td>0.60</td>\n",
       "      <td>15.3</td>\n",
       "    </tr>\n",
       "  </tbody>\n",
       "</table>\n",
       "</div>"
      ],
      "text/plain": [
       "0            Squad # Pl   90s  GA PKA FK CK OG  PSxG PSxG/SoT PSxG+/-    /90  \\\n",
       "0           Alavés    1  20.0  29   1  0  4  0  27.9     0.34    -1.1  -0.05   \n",
       "1    Athletic Club    1  18.0  22   3  0  4  1  17.6     0.31    -3.4  -0.19   \n",
       "2  Atlético Madrid    1  18.0   8   1  0  2  2  11.9     0.21    +5.9  +0.33   \n",
       "3        Barcelona    2  19.0  17   2  0  4  0  20.5     0.27    +3.5  +0.18   \n",
       "4            Betis    2  20.0  34   5  0  7  2  33.3     0.41    +1.3  +0.06   \n",
       "\n",
       "0  Cmp  Att  Cmp%  Att  Thr Launch% AvgLen  Att Launch% AvgLen  Opp Stp Stp%  \\\n",
       "0  191  368  51.9  425   59    61.4   45.5  169    63.3   47.2  178  16  9.0   \n",
       "1  147  339  43.4  457   85    50.5   42.7  124    87.1   64.6  169  11  6.5   \n",
       "2  133  307  43.3  342   53    58.8   43.9  157    67.5   49.4  168  10  6.0   \n",
       "3   90  145  62.1  507  102    21.7   28.7  110    31.8   32.1  125  12  9.6   \n",
       "4  136  354  38.4  532   78    53.2   43.0  124    57.3   46.3  150   8  5.3   \n",
       "\n",
       "0 #OPA #OPA/90 AvgDist  \n",
       "0   15    0.75    15.1  \n",
       "1   13    0.72    14.1  \n",
       "2    5    0.28    13.9  \n",
       "3   13    0.68    16.4  \n",
       "4   12    0.60    15.3  "
      ]
     },
     "execution_count": 4,
     "metadata": {},
     "output_type": "execute_result"
    }
   ],
   "source": [
    "laliga_gk_stats= read_df_fbref('./data/stats_advanced_gk.txt', ',')\n",
    "laliga_gk_stats.head(5)"
   ]
  },
  {
   "cell_type": "code",
   "execution_count": 5,
   "metadata": {
    "scrolled": false
   },
   "outputs": [],
   "source": [
    "laliga_xg_xga= laliga_raw_data.loc[:,['Squad','MP','Pts', 'GF', 'GA', 'xG', 'xGA']]"
   ]
  },
  {
   "cell_type": "code",
   "execution_count": 6,
   "metadata": {},
   "outputs": [],
   "source": [
    "laliga_xg_xga['GF_per90']= round(laliga_xg_xga['GF']/laliga_xg_xga['MP'],2)\n",
    "laliga_xg_xga['GA_per90']= round(laliga_xg_xga['GA']/laliga_xg_xga['MP'],2)\n",
    "laliga_xg_xga['xG_per90']= round(laliga_xg_xga['xG']/laliga_xg_xga['MP'],2)\n",
    "laliga_xg_xga['xGA_per90']= round(laliga_xg_xga['xGA']/laliga_xg_xga['MP'],2)"
   ]
  },
  {
   "cell_type": "code",
   "execution_count": 7,
   "metadata": {},
   "outputs": [],
   "source": [
    "laliga_stats= laliga_xg_xga.merge(laliga_gk_stats[['Squad', 'PSxG']], how= 'inner', on= 'Squad')"
   ]
  },
  {
   "cell_type": "code",
   "execution_count": 8,
   "metadata": {},
   "outputs": [
    {
     "name": "stdout",
     "output_type": "stream",
     "text": [
      "<class 'pandas.core.frame.DataFrame'>\n",
      "Int64Index: 20 entries, 0 to 19\n",
      "Data columns (total 12 columns):\n",
      " #   Column     Non-Null Count  Dtype  \n",
      "---  ------     --------------  -----  \n",
      " 0   Squad      20 non-null     object \n",
      " 1   MP         20 non-null     int64  \n",
      " 2   Pts        20 non-null     int64  \n",
      " 3   GF         20 non-null     int64  \n",
      " 4   GA         20 non-null     int64  \n",
      " 5   xG         20 non-null     float64\n",
      " 6   xGA        20 non-null     float64\n",
      " 7   GF_per90   20 non-null     float64\n",
      " 8   GA_per90   20 non-null     float64\n",
      " 9   xG_per90   20 non-null     float64\n",
      " 10  xGA_per90  20 non-null     float64\n",
      " 11  PSxG       20 non-null     object \n",
      "dtypes: float64(6), int64(4), object(2)\n",
      "memory usage: 2.0+ KB\n"
     ]
    }
   ],
   "source": [
    "laliga_stats.info()"
   ]
  },
  {
   "cell_type": "code",
   "execution_count": 9,
   "metadata": {},
   "outputs": [
    {
     "name": "stdout",
     "output_type": "stream",
     "text": [
      "<class 'pandas.core.frame.DataFrame'>\n",
      "Int64Index: 20 entries, 0 to 19\n",
      "Data columns (total 12 columns):\n",
      " #   Column     Non-Null Count  Dtype  \n",
      "---  ------     --------------  -----  \n",
      " 0   Squad      20 non-null     object \n",
      " 1   MP         20 non-null     int64  \n",
      " 2   Pts        20 non-null     int64  \n",
      " 3   GF         20 non-null     int64  \n",
      " 4   GA         20 non-null     int64  \n",
      " 5   xG         20 non-null     float64\n",
      " 6   xGA        20 non-null     float64\n",
      " 7   GF_per90   20 non-null     float64\n",
      " 8   GA_per90   20 non-null     float64\n",
      " 9   xG_per90   20 non-null     float64\n",
      " 10  xGA_per90  20 non-null     float64\n",
      " 11  PSxG       20 non-null     float64\n",
      "dtypes: float64(7), int64(4), object(1)\n",
      "memory usage: 2.0+ KB\n"
     ]
    }
   ],
   "source": [
    "laliga_stats['PSxG']= laliga_stats['PSxG'].apply(lambda x: float(x))\n",
    "laliga_stats.info()"
   ]
  },
  {
   "cell_type": "code",
   "execution_count": 10,
   "metadata": {},
   "outputs": [],
   "source": [
    "xGpg_avg = laliga_stats['xG_per90'].mean()\n",
    "xGApg_avg = laliga_stats['xGA_per90'].mean()\n",
    "Gpg_avg = laliga_stats['GF_per90'].mean()\n",
    "GApg_avg = laliga_stats['GA_per90'].mean()"
   ]
  },
  {
   "cell_type": "code",
   "execution_count": 11,
   "metadata": {},
   "outputs": [],
   "source": [
    "def status_xG_xGA(df):\n",
    "    \n",
    "    conditions= [(laliga_stats['xG_per90'] < xGpg_avg) & (laliga_stats['xGA_per90'] > xGApg_avg),\n",
    "                (laliga_stats['xG_per90'] > xGpg_avg) & (laliga_stats['xGA_per90'] > xGApg_avg),\n",
    "                (laliga_stats['xG_per90'] < xGpg_avg) & (laliga_stats['xGA_per90'] < xGApg_avg),\n",
    "                (laliga_stats['xG_per90'] > xGpg_avg) & (laliga_stats['xGA_per90'] < xGApg_avg)]\n",
    "    values= ['Bad xG | Bad xGA', 'Good xG | Bad xGA', \n",
    "             'Bad xG | Good xGA' , 'Good xG | Good xGA']\n",
    "    \n",
    "    df['Status_xG_xGA']= np.select(conditions, values)\n",
    "    \n",
    "    return df\n",
    "\n",
    "def status_GF_GA(df):\n",
    "    \n",
    "    conditions= [(laliga_stats['GF_per90'] < Gpg_avg) & (laliga_stats['GA_per90'] > GApg_avg),\n",
    "                (laliga_stats['GF_per90'] > Gpg_avg) & (laliga_stats['GA_per90'] > GApg_avg),\n",
    "                (laliga_stats['GF_per90'] < Gpg_avg) & (laliga_stats['GA_per90'] < GApg_avg),\n",
    "                (laliga_stats['GF_per90'] > Gpg_avg) & (laliga_stats['GA_per90'] < GApg_avg)]\n",
    "    values= ['Bad Attack | Bad Defense', 'Good Attack | Bad Defense', \n",
    "             'Bad Attack | Good Defense' , 'Good Attack | Good Defense']\n",
    "    \n",
    "    df['Status_GF_GA']= np.select(conditions, values)\n",
    "    \n",
    "    return df"
   ]
  },
  {
   "cell_type": "code",
   "execution_count": 12,
   "metadata": {},
   "outputs": [
    {
     "data": {
      "text/html": [
       "<div>\n",
       "<style scoped>\n",
       "    .dataframe tbody tr th:only-of-type {\n",
       "        vertical-align: middle;\n",
       "    }\n",
       "\n",
       "    .dataframe tbody tr th {\n",
       "        vertical-align: top;\n",
       "    }\n",
       "\n",
       "    .dataframe thead th {\n",
       "        text-align: right;\n",
       "    }\n",
       "</style>\n",
       "<table border=\"1\" class=\"dataframe\">\n",
       "  <thead>\n",
       "    <tr style=\"text-align: right;\">\n",
       "      <th></th>\n",
       "      <th>Squad</th>\n",
       "      <th>MP</th>\n",
       "      <th>Pts</th>\n",
       "      <th>GF</th>\n",
       "      <th>GA</th>\n",
       "      <th>xG</th>\n",
       "      <th>xGA</th>\n",
       "      <th>GF_per90</th>\n",
       "      <th>GA_per90</th>\n",
       "      <th>xG_per90</th>\n",
       "      <th>xGA_per90</th>\n",
       "      <th>PSxG</th>\n",
       "      <th>Status_xG_xGA</th>\n",
       "    </tr>\n",
       "  </thead>\n",
       "  <tbody>\n",
       "    <tr>\n",
       "      <th>8</th>\n",
       "      <td>Celta Vigo</td>\n",
       "      <td>20</td>\n",
       "      <td>24</td>\n",
       "      <td>24</td>\n",
       "      <td>31</td>\n",
       "      <td>27.6</td>\n",
       "      <td>22.8</td>\n",
       "      <td>1.2</td>\n",
       "      <td>1.55</td>\n",
       "      <td>1.38</td>\n",
       "      <td>1.14</td>\n",
       "      <td>27.3</td>\n",
       "      <td>Good xG | Good xGA</td>\n",
       "    </tr>\n",
       "    <tr>\n",
       "      <th>6</th>\n",
       "      <td>Granada</td>\n",
       "      <td>20</td>\n",
       "      <td>28</td>\n",
       "      <td>24</td>\n",
       "      <td>34</td>\n",
       "      <td>20.7</td>\n",
       "      <td>28.5</td>\n",
       "      <td>1.2</td>\n",
       "      <td>1.70</td>\n",
       "      <td>1.03</td>\n",
       "      <td>1.42</td>\n",
       "      <td>32.6</td>\n",
       "      <td>Bad xG | Bad xGA</td>\n",
       "    </tr>\n",
       "    <tr>\n",
       "      <th>13</th>\n",
       "      <td>Valencia</td>\n",
       "      <td>20</td>\n",
       "      <td>20</td>\n",
       "      <td>26</td>\n",
       "      <td>29</td>\n",
       "      <td>22.6</td>\n",
       "      <td>30.2</td>\n",
       "      <td>1.3</td>\n",
       "      <td>1.45</td>\n",
       "      <td>1.13</td>\n",
       "      <td>1.51</td>\n",
       "      <td>29.9</td>\n",
       "      <td>Bad xG | Bad xGA</td>\n",
       "    </tr>\n",
       "    <tr>\n",
       "      <th>0</th>\n",
       "      <td>Atlético Madrid</td>\n",
       "      <td>18</td>\n",
       "      <td>47</td>\n",
       "      <td>36</td>\n",
       "      <td>8</td>\n",
       "      <td>24.4</td>\n",
       "      <td>13.6</td>\n",
       "      <td>2.0</td>\n",
       "      <td>0.44</td>\n",
       "      <td>1.36</td>\n",
       "      <td>0.76</td>\n",
       "      <td>11.9</td>\n",
       "      <td>Good xG | Good xGA</td>\n",
       "    </tr>\n",
       "    <tr>\n",
       "      <th>4</th>\n",
       "      <td>Villarreal</td>\n",
       "      <td>20</td>\n",
       "      <td>34</td>\n",
       "      <td>28</td>\n",
       "      <td>19</td>\n",
       "      <td>29.6</td>\n",
       "      <td>16.7</td>\n",
       "      <td>1.4</td>\n",
       "      <td>0.95</td>\n",
       "      <td>1.48</td>\n",
       "      <td>0.84</td>\n",
       "      <td>15.2</td>\n",
       "      <td>Good xG | Good xGA</td>\n",
       "    </tr>\n",
       "  </tbody>\n",
       "</table>\n",
       "</div>"
      ],
      "text/plain": [
       "              Squad  MP  Pts  GF  GA    xG   xGA  GF_per90  GA_per90  \\\n",
       "8        Celta Vigo  20   24  24  31  27.6  22.8       1.2      1.55   \n",
       "6           Granada  20   28  24  34  20.7  28.5       1.2      1.70   \n",
       "13         Valencia  20   20  26  29  22.6  30.2       1.3      1.45   \n",
       "0   Atlético Madrid  18   47  36   8  24.4  13.6       2.0      0.44   \n",
       "4        Villarreal  20   34  28  19  29.6  16.7       1.4      0.95   \n",
       "\n",
       "    xG_per90  xGA_per90  PSxG       Status_xG_xGA  \n",
       "8       1.38       1.14  27.3  Good xG | Good xGA  \n",
       "6       1.03       1.42  32.6    Bad xG | Bad xGA  \n",
       "13      1.13       1.51  29.9    Bad xG | Bad xGA  \n",
       "0       1.36       0.76  11.9  Good xG | Good xGA  \n",
       "4       1.48       0.84  15.2  Good xG | Good xGA  "
      ]
     },
     "execution_count": 12,
     "metadata": {},
     "output_type": "execute_result"
    }
   ],
   "source": [
    "status_xG_xGA(laliga_stats).sample(5)"
   ]
  },
  {
   "cell_type": "code",
   "execution_count": 13,
   "metadata": {},
   "outputs": [
    {
     "data": {
      "text/html": [
       "<div>\n",
       "<style scoped>\n",
       "    .dataframe tbody tr th:only-of-type {\n",
       "        vertical-align: middle;\n",
       "    }\n",
       "\n",
       "    .dataframe tbody tr th {\n",
       "        vertical-align: top;\n",
       "    }\n",
       "\n",
       "    .dataframe thead th {\n",
       "        text-align: right;\n",
       "    }\n",
       "</style>\n",
       "<table border=\"1\" class=\"dataframe\">\n",
       "  <thead>\n",
       "    <tr style=\"text-align: right;\">\n",
       "      <th></th>\n",
       "      <th>Squad</th>\n",
       "      <th>MP</th>\n",
       "      <th>Pts</th>\n",
       "      <th>GF</th>\n",
       "      <th>GA</th>\n",
       "      <th>xG</th>\n",
       "      <th>xGA</th>\n",
       "      <th>GF_per90</th>\n",
       "      <th>GA_per90</th>\n",
       "      <th>xG_per90</th>\n",
       "      <th>xGA_per90</th>\n",
       "      <th>PSxG</th>\n",
       "      <th>Status_xG_xGA</th>\n",
       "      <th>Status_GF_GA</th>\n",
       "    </tr>\n",
       "  </thead>\n",
       "  <tbody>\n",
       "    <tr>\n",
       "      <th>3</th>\n",
       "      <td>Sevilla</td>\n",
       "      <td>19</td>\n",
       "      <td>36</td>\n",
       "      <td>26</td>\n",
       "      <td>16</td>\n",
       "      <td>25.1</td>\n",
       "      <td>18.5</td>\n",
       "      <td>1.37</td>\n",
       "      <td>0.84</td>\n",
       "      <td>1.32</td>\n",
       "      <td>0.97</td>\n",
       "      <td>14.5</td>\n",
       "      <td>Good xG | Good xGA</td>\n",
       "      <td>Good Attack | Good Defense</td>\n",
       "    </tr>\n",
       "    <tr>\n",
       "      <th>17</th>\n",
       "      <td>Alavés</td>\n",
       "      <td>20</td>\n",
       "      <td>18</td>\n",
       "      <td>18</td>\n",
       "      <td>29</td>\n",
       "      <td>22.9</td>\n",
       "      <td>28.6</td>\n",
       "      <td>0.90</td>\n",
       "      <td>1.45</td>\n",
       "      <td>1.14</td>\n",
       "      <td>1.43</td>\n",
       "      <td>27.9</td>\n",
       "      <td>Bad xG | Bad xGA</td>\n",
       "      <td>Bad Attack | Bad Defense</td>\n",
       "    </tr>\n",
       "    <tr>\n",
       "      <th>2</th>\n",
       "      <td>Barcelona</td>\n",
       "      <td>19</td>\n",
       "      <td>37</td>\n",
       "      <td>39</td>\n",
       "      <td>17</td>\n",
       "      <td>41.6</td>\n",
       "      <td>21.6</td>\n",
       "      <td>2.05</td>\n",
       "      <td>0.89</td>\n",
       "      <td>2.19</td>\n",
       "      <td>1.14</td>\n",
       "      <td>20.5</td>\n",
       "      <td>Good xG | Good xGA</td>\n",
       "      <td>Good Attack | Good Defense</td>\n",
       "    </tr>\n",
       "    <tr>\n",
       "      <th>18</th>\n",
       "      <td>Elche</td>\n",
       "      <td>18</td>\n",
       "      <td>17</td>\n",
       "      <td>16</td>\n",
       "      <td>25</td>\n",
       "      <td>13.1</td>\n",
       "      <td>30.3</td>\n",
       "      <td>0.89</td>\n",
       "      <td>1.39</td>\n",
       "      <td>0.73</td>\n",
       "      <td>1.68</td>\n",
       "      <td>27.0</td>\n",
       "      <td>Bad xG | Bad xGA</td>\n",
       "      <td>Bad Attack | Bad Defense</td>\n",
       "    </tr>\n",
       "    <tr>\n",
       "      <th>0</th>\n",
       "      <td>Atlético Madrid</td>\n",
       "      <td>18</td>\n",
       "      <td>47</td>\n",
       "      <td>36</td>\n",
       "      <td>8</td>\n",
       "      <td>24.4</td>\n",
       "      <td>13.6</td>\n",
       "      <td>2.00</td>\n",
       "      <td>0.44</td>\n",
       "      <td>1.36</td>\n",
       "      <td>0.76</td>\n",
       "      <td>11.9</td>\n",
       "      <td>Good xG | Good xGA</td>\n",
       "      <td>Good Attack | Good Defense</td>\n",
       "    </tr>\n",
       "  </tbody>\n",
       "</table>\n",
       "</div>"
      ],
      "text/plain": [
       "              Squad  MP  Pts  GF  GA    xG   xGA  GF_per90  GA_per90  \\\n",
       "3           Sevilla  19   36  26  16  25.1  18.5      1.37      0.84   \n",
       "17           Alavés  20   18  18  29  22.9  28.6      0.90      1.45   \n",
       "2         Barcelona  19   37  39  17  41.6  21.6      2.05      0.89   \n",
       "18            Elche  18   17  16  25  13.1  30.3      0.89      1.39   \n",
       "0   Atlético Madrid  18   47  36   8  24.4  13.6      2.00      0.44   \n",
       "\n",
       "    xG_per90  xGA_per90  PSxG       Status_xG_xGA                Status_GF_GA  \n",
       "3       1.32       0.97  14.5  Good xG | Good xGA  Good Attack | Good Defense  \n",
       "17      1.14       1.43  27.9    Bad xG | Bad xGA    Bad Attack | Bad Defense  \n",
       "2       2.19       1.14  20.5  Good xG | Good xGA  Good Attack | Good Defense  \n",
       "18      0.73       1.68  27.0    Bad xG | Bad xGA    Bad Attack | Bad Defense  \n",
       "0       1.36       0.76  11.9  Good xG | Good xGA  Good Attack | Good Defense  "
      ]
     },
     "execution_count": 13,
     "metadata": {},
     "output_type": "execute_result"
    }
   ],
   "source": [
    "status_GF_GA(laliga_stats).sample(5)"
   ]
  },
  {
   "cell_type": "code",
   "execution_count": 14,
   "metadata": {},
   "outputs": [],
   "source": [
    "laliga_stats['GF-xG']= laliga_stats['GF']-laliga_stats['xG']\n",
    "laliga_stats['xGA-GA']= laliga_stats['xGA']-laliga_stats['GA']\n",
    "laliga_stats['PsxG-GA']= laliga_stats['PSxG']-laliga_stats['GA']"
   ]
  },
  {
   "cell_type": "code",
   "execution_count": 15,
   "metadata": {},
   "outputs": [
    {
     "data": {
      "text/plain": [
       "array(['Squad', 'MP', 'Pts', 'GF', 'GA', 'xG', 'xGA', 'GF_per90',\n",
       "       'GA_per90', 'xG_per90', 'xGA_per90', 'PSxG', 'Status_xG_xGA',\n",
       "       'Status_GF_GA', 'GF-xG', 'xGA-GA', 'PsxG-GA', 'Posicion'],\n",
       "      dtype=object)"
      ]
     },
     "execution_count": 15,
     "metadata": {},
     "output_type": "execute_result"
    }
   ],
   "source": [
    "laliga_stats['Posicion']= np.arange(1,21)\n",
    "laliga_stats.columns.values"
   ]
  },
  {
   "cell_type": "code",
   "execution_count": 16,
   "metadata": {},
   "outputs": [
    {
     "data": {
      "text/html": [
       "<div>\n",
       "<style scoped>\n",
       "    .dataframe tbody tr th:only-of-type {\n",
       "        vertical-align: middle;\n",
       "    }\n",
       "\n",
       "    .dataframe tbody tr th {\n",
       "        vertical-align: top;\n",
       "    }\n",
       "\n",
       "    .dataframe thead th {\n",
       "        text-align: right;\n",
       "    }\n",
       "</style>\n",
       "<table border=\"1\" class=\"dataframe\">\n",
       "  <thead>\n",
       "    <tr style=\"text-align: right;\">\n",
       "      <th></th>\n",
       "      <th>Squad</th>\n",
       "      <th>Posicion</th>\n",
       "      <th>MP</th>\n",
       "      <th>Pts</th>\n",
       "      <th>GF</th>\n",
       "      <th>GA</th>\n",
       "      <th>xG</th>\n",
       "      <th>xGA</th>\n",
       "      <th>PSxG</th>\n",
       "      <th>GF_per90</th>\n",
       "      <th>GA_per90</th>\n",
       "      <th>xG_per90</th>\n",
       "      <th>xGA_per90</th>\n",
       "      <th>Status_xG_xGA</th>\n",
       "      <th>Status_GF_GA</th>\n",
       "      <th>GF-xG</th>\n",
       "      <th>xGA-GA</th>\n",
       "      <th>PsxG-GA</th>\n",
       "    </tr>\n",
       "  </thead>\n",
       "  <tbody>\n",
       "    <tr>\n",
       "      <th>0</th>\n",
       "      <td>Atlético Madrid</td>\n",
       "      <td>1</td>\n",
       "      <td>18</td>\n",
       "      <td>47</td>\n",
       "      <td>36</td>\n",
       "      <td>8</td>\n",
       "      <td>24.4</td>\n",
       "      <td>13.6</td>\n",
       "      <td>11.9</td>\n",
       "      <td>2.00</td>\n",
       "      <td>0.44</td>\n",
       "      <td>1.36</td>\n",
       "      <td>0.76</td>\n",
       "      <td>Good xG | Good xGA</td>\n",
       "      <td>Good Attack | Good Defense</td>\n",
       "      <td>11.6</td>\n",
       "      <td>5.6</td>\n",
       "      <td>3.9</td>\n",
       "    </tr>\n",
       "    <tr>\n",
       "      <th>1</th>\n",
       "      <td>Real Madrid</td>\n",
       "      <td>2</td>\n",
       "      <td>19</td>\n",
       "      <td>40</td>\n",
       "      <td>34</td>\n",
       "      <td>16</td>\n",
       "      <td>30.8</td>\n",
       "      <td>20.4</td>\n",
       "      <td>15.5</td>\n",
       "      <td>1.79</td>\n",
       "      <td>0.84</td>\n",
       "      <td>1.62</td>\n",
       "      <td>1.07</td>\n",
       "      <td>Good xG | Good xGA</td>\n",
       "      <td>Good Attack | Good Defense</td>\n",
       "      <td>3.2</td>\n",
       "      <td>4.4</td>\n",
       "      <td>-0.5</td>\n",
       "    </tr>\n",
       "    <tr>\n",
       "      <th>2</th>\n",
       "      <td>Barcelona</td>\n",
       "      <td>3</td>\n",
       "      <td>19</td>\n",
       "      <td>37</td>\n",
       "      <td>39</td>\n",
       "      <td>17</td>\n",
       "      <td>41.6</td>\n",
       "      <td>21.6</td>\n",
       "      <td>20.5</td>\n",
       "      <td>2.05</td>\n",
       "      <td>0.89</td>\n",
       "      <td>2.19</td>\n",
       "      <td>1.14</td>\n",
       "      <td>Good xG | Good xGA</td>\n",
       "      <td>Good Attack | Good Defense</td>\n",
       "      <td>-2.6</td>\n",
       "      <td>4.6</td>\n",
       "      <td>3.5</td>\n",
       "    </tr>\n",
       "    <tr>\n",
       "      <th>3</th>\n",
       "      <td>Sevilla</td>\n",
       "      <td>4</td>\n",
       "      <td>19</td>\n",
       "      <td>36</td>\n",
       "      <td>26</td>\n",
       "      <td>16</td>\n",
       "      <td>25.1</td>\n",
       "      <td>18.5</td>\n",
       "      <td>14.5</td>\n",
       "      <td>1.37</td>\n",
       "      <td>0.84</td>\n",
       "      <td>1.32</td>\n",
       "      <td>0.97</td>\n",
       "      <td>Good xG | Good xGA</td>\n",
       "      <td>Good Attack | Good Defense</td>\n",
       "      <td>0.9</td>\n",
       "      <td>2.5</td>\n",
       "      <td>-1.5</td>\n",
       "    </tr>\n",
       "    <tr>\n",
       "      <th>4</th>\n",
       "      <td>Villarreal</td>\n",
       "      <td>5</td>\n",
       "      <td>20</td>\n",
       "      <td>34</td>\n",
       "      <td>28</td>\n",
       "      <td>19</td>\n",
       "      <td>29.6</td>\n",
       "      <td>16.7</td>\n",
       "      <td>15.2</td>\n",
       "      <td>1.40</td>\n",
       "      <td>0.95</td>\n",
       "      <td>1.48</td>\n",
       "      <td>0.84</td>\n",
       "      <td>Good xG | Good xGA</td>\n",
       "      <td>Good Attack | Good Defense</td>\n",
       "      <td>-1.6</td>\n",
       "      <td>-2.3</td>\n",
       "      <td>-3.8</td>\n",
       "    </tr>\n",
       "  </tbody>\n",
       "</table>\n",
       "</div>"
      ],
      "text/plain": [
       "             Squad  Posicion  MP  Pts  GF  GA    xG   xGA  PSxG  GF_per90  \\\n",
       "0  Atlético Madrid         1  18   47  36   8  24.4  13.6  11.9      2.00   \n",
       "1      Real Madrid         2  19   40  34  16  30.8  20.4  15.5      1.79   \n",
       "2        Barcelona         3  19   37  39  17  41.6  21.6  20.5      2.05   \n",
       "3          Sevilla         4  19   36  26  16  25.1  18.5  14.5      1.37   \n",
       "4       Villarreal         5  20   34  28  19  29.6  16.7  15.2      1.40   \n",
       "\n",
       "   GA_per90  xG_per90  xGA_per90       Status_xG_xGA  \\\n",
       "0      0.44      1.36       0.76  Good xG | Good xGA   \n",
       "1      0.84      1.62       1.07  Good xG | Good xGA   \n",
       "2      0.89      2.19       1.14  Good xG | Good xGA   \n",
       "3      0.84      1.32       0.97  Good xG | Good xGA   \n",
       "4      0.95      1.48       0.84  Good xG | Good xGA   \n",
       "\n",
       "                 Status_GF_GA  GF-xG  xGA-GA  PsxG-GA  \n",
       "0  Good Attack | Good Defense   11.6     5.6      3.9  \n",
       "1  Good Attack | Good Defense    3.2     4.4     -0.5  \n",
       "2  Good Attack | Good Defense   -2.6     4.6      3.5  \n",
       "3  Good Attack | Good Defense    0.9     2.5     -1.5  \n",
       "4  Good Attack | Good Defense   -1.6    -2.3     -3.8  "
      ]
     },
     "execution_count": 16,
     "metadata": {},
     "output_type": "execute_result"
    }
   ],
   "source": [
    "columns= ['Squad', 'Posicion', 'MP', 'Pts', 'GF', 'GA', 'xG', 'xGA', 'PSxG', 'GF_per90',\n",
    "       'GA_per90', 'xG_per90', 'xGA_per90', 'Status_xG_xGA',\n",
    "       'Status_GF_GA', 'GF-xG', 'xGA-GA', 'PsxG-GA']\n",
    "\n",
    "laliga_stats= laliga_stats[columns]\n",
    "laliga_stats.head(5)"
   ]
  },
  {
   "cell_type": "code",
   "execution_count": 73,
   "metadata": {},
   "outputs": [],
   "source": [
    "laliga_clusters = laliga_stats.iloc[:,4:9]"
   ]
  },
  {
   "cell_type": "code",
   "execution_count": 76,
   "metadata": {},
   "outputs": [],
   "source": [
    "def exec_kmeans(k, df):\n",
    "    \n",
    "    X = StandardScaler().fit_transform(df)\n",
    "    \n",
    "    kmean = KMeans(n_clusters= k, random_state= 42)\n",
    "    y_pred = kmean.fit_predict(X)\n",
    "    \n",
    "    df['Cluster'] = y_pred\n",
    "    \n",
    "    plt.figure(figsize= (16, 6))\n",
    "    cls = ['red', 'green', 'blue', 'yellow', 'black']\n",
    "    assign = []\n",
    "    \n",
    "    for i in y_pred:\n",
    "        assign.append(cls[i])\n",
    "        \n",
    "    plt.scatter(X[:,0], X[:,1], c= assign, s= 70)\n",
    "    \n",
    "    plt.show()\n",
    "    \n",
    "    return df"
   ]
  },
  {
   "cell_type": "code",
   "execution_count": 84,
   "metadata": {},
   "outputs": [
    {
     "data": {
      "image/png": "[encoded data removed]",
      "text/plain": [
       "<Figure size 1152x432 with 1 Axes>"
      ]
     },
     "metadata": {
      "needs_background": "light"
     },
     "output_type": "display_data"
    },
    {
     "data": {
      "text/html": [
       "<div>\n",
       "<style scoped>\n",
       "    .dataframe tbody tr th:only-of-type {\n",
       "        vertical-align: middle;\n",
       "    }\n",
       "\n",
       "    .dataframe tbody tr th {\n",
       "        vertical-align: top;\n",
       "    }\n",
       "\n",
       "    .dataframe thead th {\n",
       "        text-align: right;\n",
       "    }\n",
       "</style>\n",
       "<table border=\"1\" class=\"dataframe\">\n",
       "  <thead>\n",
       "    <tr style=\"text-align: right;\">\n",
       "      <th></th>\n",
       "      <th>GF</th>\n",
       "      <th>GA</th>\n",
       "      <th>xG</th>\n",
       "      <th>xGA</th>\n",
       "      <th>PSxG</th>\n",
       "      <th>Cluster</th>\n",
       "    </tr>\n",
       "  </thead>\n",
       "  <tbody>\n",
       "    <tr>\n",
       "      <th>0</th>\n",
       "      <td>36</td>\n",
       "      <td>8</td>\n",
       "      <td>24.4</td>\n",
       "      <td>13.6</td>\n",
       "      <td>11.9</td>\n",
       "      <td>1</td>\n",
       "    </tr>\n",
       "    <tr>\n",
       "      <th>1</th>\n",
       "      <td>34</td>\n",
       "      <td>16</td>\n",
       "      <td>30.8</td>\n",
       "      <td>20.4</td>\n",
       "      <td>15.5</td>\n",
       "      <td>1</td>\n",
       "    </tr>\n",
       "    <tr>\n",
       "      <th>2</th>\n",
       "      <td>39</td>\n",
       "      <td>17</td>\n",
       "      <td>41.6</td>\n",
       "      <td>21.6</td>\n",
       "      <td>20.5</td>\n",
       "      <td>1</td>\n",
       "    </tr>\n",
       "    <tr>\n",
       "      <th>3</th>\n",
       "      <td>26</td>\n",
       "      <td>16</td>\n",
       "      <td>25.1</td>\n",
       "      <td>18.5</td>\n",
       "      <td>14.5</td>\n",
       "      <td>1</td>\n",
       "    </tr>\n",
       "    <tr>\n",
       "      <th>4</th>\n",
       "      <td>28</td>\n",
       "      <td>19</td>\n",
       "      <td>29.6</td>\n",
       "      <td>16.7</td>\n",
       "      <td>15.2</td>\n",
       "      <td>1</td>\n",
       "    </tr>\n",
       "    <tr>\n",
       "      <th>5</th>\n",
       "      <td>31</td>\n",
       "      <td>18</td>\n",
       "      <td>32.4</td>\n",
       "      <td>18.0</td>\n",
       "      <td>16.3</td>\n",
       "      <td>1</td>\n",
       "    </tr>\n",
       "    <tr>\n",
       "      <th>6</th>\n",
       "      <td>24</td>\n",
       "      <td>34</td>\n",
       "      <td>20.7</td>\n",
       "      <td>28.5</td>\n",
       "      <td>32.6</td>\n",
       "      <td>2</td>\n",
       "    </tr>\n",
       "    <tr>\n",
       "      <th>7</th>\n",
       "      <td>26</td>\n",
       "      <td>34</td>\n",
       "      <td>23.7</td>\n",
       "      <td>28.9</td>\n",
       "      <td>33.3</td>\n",
       "      <td>2</td>\n",
       "    </tr>\n",
       "    <tr>\n",
       "      <th>8</th>\n",
       "      <td>24</td>\n",
       "      <td>31</td>\n",
       "      <td>27.6</td>\n",
       "      <td>22.8</td>\n",
       "      <td>27.3</td>\n",
       "      <td>2</td>\n",
       "    </tr>\n",
       "    <tr>\n",
       "      <th>9</th>\n",
       "      <td>17</td>\n",
       "      <td>27</td>\n",
       "      <td>18.1</td>\n",
       "      <td>22.1</td>\n",
       "      <td>21.7</td>\n",
       "      <td>0</td>\n",
       "    </tr>\n",
       "    <tr>\n",
       "      <th>10</th>\n",
       "      <td>27</td>\n",
       "      <td>28</td>\n",
       "      <td>23.1</td>\n",
       "      <td>25.2</td>\n",
       "      <td>27.0</td>\n",
       "      <td>2</td>\n",
       "    </tr>\n",
       "    <tr>\n",
       "      <th>11</th>\n",
       "      <td>16</td>\n",
       "      <td>18</td>\n",
       "      <td>16.2</td>\n",
       "      <td>19.7</td>\n",
       "      <td>17.3</td>\n",
       "      <td>0</td>\n",
       "    </tr>\n",
       "    <tr>\n",
       "      <th>12</th>\n",
       "      <td>21</td>\n",
       "      <td>22</td>\n",
       "      <td>20.4</td>\n",
       "      <td>16.9</td>\n",
       "      <td>17.6</td>\n",
       "      <td>0</td>\n",
       "    </tr>\n",
       "    <tr>\n",
       "      <th>13</th>\n",
       "      <td>26</td>\n",
       "      <td>29</td>\n",
       "      <td>22.6</td>\n",
       "      <td>30.2</td>\n",
       "      <td>29.9</td>\n",
       "      <td>2</td>\n",
       "    </tr>\n",
       "    <tr>\n",
       "      <th>14</th>\n",
       "      <td>17</td>\n",
       "      <td>21</td>\n",
       "      <td>21.0</td>\n",
       "      <td>25.2</td>\n",
       "      <td>24.2</td>\n",
       "      <td>0</td>\n",
       "    </tr>\n",
       "    <tr>\n",
       "      <th>15</th>\n",
       "      <td>20</td>\n",
       "      <td>29</td>\n",
       "      <td>18.9</td>\n",
       "      <td>29.3</td>\n",
       "      <td>30.5</td>\n",
       "      <td>2</td>\n",
       "    </tr>\n",
       "    <tr>\n",
       "      <th>16</th>\n",
       "      <td>19</td>\n",
       "      <td>29</td>\n",
       "      <td>18.9</td>\n",
       "      <td>26.8</td>\n",
       "      <td>29.1</td>\n",
       "      <td>2</td>\n",
       "    </tr>\n",
       "    <tr>\n",
       "      <th>17</th>\n",
       "      <td>18</td>\n",
       "      <td>29</td>\n",
       "      <td>22.9</td>\n",
       "      <td>28.6</td>\n",
       "      <td>27.9</td>\n",
       "      <td>2</td>\n",
       "    </tr>\n",
       "    <tr>\n",
       "      <th>18</th>\n",
       "      <td>16</td>\n",
       "      <td>25</td>\n",
       "      <td>13.1</td>\n",
       "      <td>30.3</td>\n",
       "      <td>27.0</td>\n",
       "      <td>2</td>\n",
       "    </tr>\n",
       "    <tr>\n",
       "      <th>19</th>\n",
       "      <td>14</td>\n",
       "      <td>29</td>\n",
       "      <td>17.0</td>\n",
       "      <td>24.9</td>\n",
       "      <td>25.5</td>\n",
       "      <td>0</td>\n",
       "    </tr>\n",
       "  </tbody>\n",
       "</table>\n",
       "</div>"
      ],
      "text/plain": [
       "    GF  GA    xG   xGA  PSxG  Cluster\n",
       "0   36   8  24.4  13.6  11.9        1\n",
       "1   34  16  30.8  20.4  15.5        1\n",
       "2   39  17  41.6  21.6  20.5        1\n",
       "3   26  16  25.1  18.5  14.5        1\n",
       "4   28  19  29.6  16.7  15.2        1\n",
       "5   31  18  32.4  18.0  16.3        1\n",
       "6   24  34  20.7  28.5  32.6        2\n",
       "7   26  34  23.7  28.9  33.3        2\n",
       "8   24  31  27.6  22.8  27.3        2\n",
       "9   17  27  18.1  22.1  21.7        0\n",
       "10  27  28  23.1  25.2  27.0        2\n",
       "11  16  18  16.2  19.7  17.3        0\n",
       "12  21  22  20.4  16.9  17.6        0\n",
       "13  26  29  22.6  30.2  29.9        2\n",
       "14  17  21  21.0  25.2  24.2        0\n",
       "15  20  29  18.9  29.3  30.5        2\n",
       "16  19  29  18.9  26.8  29.1        2\n",
       "17  18  29  22.9  28.6  27.9        2\n",
       "18  16  25  13.1  30.3  27.0        2\n",
       "19  14  29  17.0  24.9  25.5        0"
      ]
     },
     "execution_count": 84,
     "metadata": {},
     "output_type": "execute_result"
    }
   ],
   "source": [
    "exec_kmeans(3, laliga_clusters)"
   ]
  },
  {
   "cell_type": "code",
   "execution_count": 78,
   "metadata": {},
   "outputs": [
    {
     "data": {
      "image/png": "[encoded data removed]",
      "text/plain": [
       "<Figure size 576x252 with 1 Axes>"
      ]
     },
     "metadata": {
      "needs_background": "light"
     },
     "output_type": "display_data"
    }
   ],
   "source": [
    "X = StandardScaler().fit_transform(laliga_clusters)\n",
    "\n",
    "kmeans_per_k = [KMeans(n_clusters= k, random_state= 42).fit(X) for k in range(1,6)]\n",
    "inertias = [model.inertia_ for model in kmeans_per_k]\n",
    "\n",
    "plt.figure(figsize=(8, 3.5))\n",
    "plt.plot(range(1, 6), inertias, \"bo-\")\n",
    "plt.xlabel(\"$k$\", fontsize=14)\n",
    "plt.ylabel(\"Inertia\", fontsize=14)\n",
    "\n",
    "plt.show()"
   ]
  },
  {
   "cell_type": "code",
   "execution_count": 83,
   "metadata": {},
   "outputs": [
    {
     "data": {
      "image/png": "[encoded data removed]",
      "text/plain": [
       "<Figure size 576x216 with 1 Axes>"
      ]
     },
     "metadata": {
      "needs_background": "light"
     },
     "output_type": "display_data"
    }
   ],
   "source": [
    "silhouette_scores = [silhouette_score(laliga_clusters, model.labels_) for model in kmeans_per_k[1:]]\n",
    "\n",
    "plt.figure(figsize=(8, 3))\n",
    "plt.plot(range(2, 6), silhouette_scores, \"bo-\")\n",
    "plt.xlabel(\"$k$\", fontsize=14)\n",
    "plt.ylabel(\"Silhouette score\", fontsize=14)\n",
    "\n",
    "plt.show()"
   ]
  },
  {
   "cell_type": "code",
   "execution_count": 69,
   "metadata": {},
   "outputs": [
    {
     "data": {
      "application/vnd.plotly.v1+json": {
       "config": {
        "plotlyServerURL": "https://plot.ly"
       },
       "data": [
        {
         "customdata": [
          [
           1
          ]
         ],
         "hovertemplate": "<b>%{hovertext}</b><br><br>Squad=Atlético Madrid<br>Status_xG_xGA=Good xG | Good xGA<br>xG_per90=%{x}<br>xGA_per90=%{y}<br>Pts=%{marker.size}<br>Posicion=%{customdata[0]}<extra></extra>",
         "hovertext": [
          "Atlético Madrid"
         ],
         "legendgroup": "Atlético Madrid",
         "marker": {
          "color": "#2E91E5",
          "opacity": 1,
          "size": [
           47
          ],
          "sizemode": "area",
          "sizeref": 0.1175,
          "symbol": "circle"
         },
         "mode": "markers",
         "name": "Atlético Madrid",
         "orientation": "v",
         "showlegend": true,
         "type": "scatter",
         "x": [
          1.36
         ],
         "xaxis": "x",
         "y": [
          0.76
         ],
         "yaxis": "y"
        },
        {
         "customdata": [
          [
           2
          ]
         ],
         "hovertemplate": "<b>%{hovertext}</b><br><br>Squad=Real Madrid<br>Status_xG_xGA=Good xG | Good xGA<br>xG_per90=%{x}<br>xGA_per90=%{y}<br>Pts=%{marker.size}<br>Posicion=%{customdata[0]}<extra></extra>",
         "hovertext": [
          "Real Madrid"
         ],
         "legendgroup": "Real Madrid",
         "marker": {
          "color": "#E15F99",
          "opacity": 1,
          "size": [
           40
          ],
          "sizemode": "area",
          "sizeref": 0.1175,
          "symbol": "circle"
         },
         "mode": "markers",
         "name": "Real Madrid",
         "orientation": "v",
         "showlegend": true,
         "type": "scatter",
         "x": [
          1.62
         ],
         "xaxis": "x",
         "y": [
          1.07
         ],
         "yaxis": "y"
        },
        {
         "customdata": [
          [
           3
          ]
         ],
         "hovertemplate": "<b>%{hovertext}</b><br><br>Squad=Barcelona<br>Status_xG_xGA=Good xG | Good xGA<br>xG_per90=%{x}<br>xGA_per90=%{y}<br>Pts=%{marker.size}<br>Posicion=%{customdata[0]}<extra></extra>",
         "hovertext": [
          "Barcelona"
         ],
         "legendgroup": "Barcelona",
         "marker": {
          "color": "#1CA71C",
          "opacity": 1,
          "size": [
           37
          ],
          "sizemode": "area",
          "sizeref": 0.1175,
          "symbol": "circle"
         },
         "mode": "markers",
         "name": "Barcelona",
         "orientation": "v",
         "showlegend": true,
         "type": "scatter",
         "x": [
          2.19
         ],
         "xaxis": "x",
         "y": [
          1.14
         ],
         "yaxis": "y"
        },
        {
         "customdata": [
          [
           4
          ]
         ],
         "hovertemplate": "<b>%{hovertext}</b><br><br>Squad=Sevilla<br>Status_xG_xGA=Good xG | Good xGA<br>xG_per90=%{x}<br>xGA_per90=%{y}<br>Pts=%{marker.size}<br>Posicion=%{customdata[0]}<extra></extra>",
         "hovertext": [
          "Sevilla"
         ],
         "legendgroup": "Sevilla",
         "marker": {
          "color": "#FB0D0D",
          "opacity": 1,
          "size": [
           36
          ],
          "sizemode": "area",
          "sizeref": 0.1175,
          "symbol": "circle"
         },
         "mode": "markers",
         "name": "Sevilla",
         "orientation": "v",
         "showlegend": true,
         "type": "scatter",
         "x": [
          1.32
         ],
         "xaxis": "x",
         "y": [
          0.97
         ],
         "yaxis": "y"
        },
        {
         "customdata": [
          [
           5
          ]
         ],
         "hovertemplate": "<b>%{hovertext}</b><br><br>Squad=Villarreal<br>Status_xG_xGA=Good xG | Good xGA<br>xG_per90=%{x}<br>xGA_per90=%{y}<br>Pts=%{marker.size}<br>Posicion=%{customdata[0]}<extra></extra>",
         "hovertext": [
          "Villarreal"
         ],
         "legendgroup": "Villarreal",
         "marker": {
          "color": "#DA16FF",
          "opacity": 1,
          "size": [
           34
          ],
          "sizemode": "area",
          "sizeref": 0.1175,
          "symbol": "circle"
         },
         "mode": "markers",
         "name": "Villarreal",
         "orientation": "v",
         "showlegend": true,
         "type": "scatter",
         "x": [
          1.48
         ],
         "xaxis": "x",
         "y": [
          0.84
         ],
         "yaxis": "y"
        },
        {
         "customdata": [
          [
           6
          ]
         ],
         "hovertemplate": "<b>%{hovertext}</b><br><br>Squad=Real Sociedad<br>Status_xG_xGA=Good xG | Good xGA<br>xG_per90=%{x}<br>xGA_per90=%{y}<br>Pts=%{marker.size}<br>Posicion=%{customdata[0]}<extra></extra>",
         "hovertext": [
          "Real Sociedad"
         ],
         "legendgroup": "Real Sociedad",
         "marker": {
          "color": "#222A2A",
          "opacity": 1,
          "size": [
           31
          ],
          "sizemode": "area",
          "sizeref": 0.1175,
          "symbol": "circle"
         },
         "mode": "markers",
         "name": "Real Sociedad",
         "orientation": "v",
         "showlegend": true,
         "type": "scatter",
         "x": [
          1.62
         ],
         "xaxis": "x",
         "y": [
          0.9
         ],
         "yaxis": "y"
        },
        {
         "customdata": [
          [
           7
          ]
         ],
         "hovertemplate": "<b>%{hovertext}</b><br><br>Squad=Granada<br>Status_xG_xGA=Bad xG | Bad xGA<br>xG_per90=%{x}<br>xGA_per90=%{y}<br>Pts=%{marker.size}<br>Posicion=%{customdata[0]}<extra></extra>",
         "hovertext": [
          "Granada"
         ],
         "legendgroup": "Granada",
         "marker": {
          "color": "#B68100",
          "opacity": 1,
          "size": [
           28
          ],
          "sizemode": "area",
          "sizeref": 0.1175,
          "symbol": "circle"
         },
         "mode": "markers",
         "name": "Granada",
         "orientation": "v",
         "showlegend": true,
         "type": "scatter",
         "x": [
          1.03
         ],
         "xaxis": "x4",
         "y": [
          1.42
         ],
         "yaxis": "y4"
        },
        {
         "customdata": [
          [
           8
          ]
         ],
         "hovertemplate": "<b>%{hovertext}</b><br><br>Squad=Betis<br>Status_xG_xGA=Bad xG | Bad xGA<br>xG_per90=%{x}<br>xGA_per90=%{y}<br>Pts=%{marker.size}<br>Posicion=%{customdata[0]}<extra></extra>",
         "hovertext": [
          "Betis"
         ],
         "legendgroup": "Betis",
         "marker": {
          "color": "#750D86",
          "opacity": 1,
          "size": [
           27
          ],
          "sizemode": "area",
          "sizeref": 0.1175,
          "symbol": "circle"
         },
         "mode": "markers",
         "name": "Betis",
         "orientation": "v",
         "showlegend": true,
         "type": "scatter",
         "x": [
          1.18
         ],
         "xaxis": "x4",
         "y": [
          1.44
         ],
         "yaxis": "y4"
        },
        {
         "customdata": [
          [
           9
          ]
         ],
         "hovertemplate": "<b>%{hovertext}</b><br><br>Squad=Celta Vigo<br>Status_xG_xGA=Good xG | Good xGA<br>xG_per90=%{x}<br>xGA_per90=%{y}<br>Pts=%{marker.size}<br>Posicion=%{customdata[0]}<extra></extra>",
         "hovertext": [
          "Celta Vigo"
         ],
         "legendgroup": "Celta Vigo",
         "marker": {
          "color": "#EB663B",
          "opacity": 1,
          "size": [
           24
          ],
          "sizemode": "area",
          "sizeref": 0.1175,
          "symbol": "circle"
         },
         "mode": "markers",
         "name": "Celta Vigo",
         "orientation": "v",
         "showlegend": true,
         "type": "scatter",
         "x": [
          1.38
         ],
         "xaxis": "x",
         "y": [
          1.14
         ],
         "yaxis": "y"
        },
        {
         "customdata": [
          [
           10
          ]
         ],
         "hovertemplate": "<b>%{hovertext}</b><br><br>Squad=Cádiz<br>Status_xG_xGA=Bad xG | Good xGA<br>xG_per90=%{x}<br>xGA_per90=%{y}<br>Pts=%{marker.size}<br>Posicion=%{customdata[0]}<extra></extra>",
         "hovertext": [
          "Cádiz"
         ],
         "legendgroup": "Cádiz",
         "marker": {
          "color": "#511CFB",
          "opacity": 1,
          "size": [
           24
          ],
          "sizemode": "area",
          "sizeref": 0.1175,
          "symbol": "circle"
         },
         "mode": "markers",
         "name": "Cádiz",
         "orientation": "v",
         "showlegend": true,
         "type": "scatter",
         "x": [
          0.9
         ],
         "xaxis": "x3",
         "y": [
          1.1
         ],
         "yaxis": "y3"
        },
        {
         "customdata": [
          [
           11
          ]
         ],
         "hovertemplate": "<b>%{hovertext}</b><br><br>Squad=Levante<br>Status_xG_xGA=Good xG | Bad xGA<br>xG_per90=%{x}<br>xGA_per90=%{y}<br>Pts=%{marker.size}<br>Posicion=%{customdata[0]}<extra></extra>",
         "hovertext": [
          "Levante"
         ],
         "legendgroup": "Levante",
         "marker": {
          "color": "#00A08B",
          "opacity": 1,
          "size": [
           23
          ],
          "sizemode": "area",
          "sizeref": 0.1175,
          "symbol": "circle"
         },
         "mode": "markers",
         "name": "Levante",
         "orientation": "v",
         "showlegend": true,
         "type": "scatter",
         "x": [
          1.22
         ],
         "xaxis": "x2",
         "y": [
          1.33
         ],
         "yaxis": "y2"
        },
        {
         "customdata": [
          [
           12
          ]
         ],
         "hovertemplate": "<b>%{hovertext}</b><br><br>Squad=Getafe<br>Status_xG_xGA=Bad xG | Good xGA<br>xG_per90=%{x}<br>xGA_per90=%{y}<br>Pts=%{marker.size}<br>Posicion=%{customdata[0]}<extra></extra>",
         "hovertext": [
          "Getafe"
         ],
         "legendgroup": "Getafe",
         "marker": {
          "color": "#FB00D1",
          "opacity": 1,
          "size": [
           23
          ],
          "sizemode": "area",
          "sizeref": 0.1175,
          "symbol": "circle"
         },
         "mode": "markers",
         "name": "Getafe",
         "orientation": "v",
         "showlegend": true,
         "type": "scatter",
         "x": [
          0.9
         ],
         "xaxis": "x3",
         "y": [
          1.09
         ],
         "yaxis": "y3"
        },
        {
         "customdata": [
          [
           13
          ]
         ],
         "hovertemplate": "<b>%{hovertext}</b><br><br>Squad=Athletic Club<br>Status_xG_xGA=Bad xG | Good xGA<br>xG_per90=%{x}<br>xGA_per90=%{y}<br>Pts=%{marker.size}<br>Posicion=%{customdata[0]}<extra></extra>",
         "hovertext": [
          "Athletic Club"
         ],
         "legendgroup": "Athletic Club",
         "marker": {
          "color": "#FC0080",
          "opacity": 1,
          "size": [
           21
          ],
          "sizemode": "area",
          "sizeref": 0.1175,
          "symbol": "circle"
         },
         "mode": "markers",
         "name": "Athletic Club",
         "orientation": "v",
         "showlegend": true,
         "type": "scatter",
         "x": [
          1.13
         ],
         "xaxis": "x3",
         "y": [
          0.94
         ],
         "yaxis": "y3"
        },
        {
         "customdata": [
          [
           14
          ]
         ],
         "hovertemplate": "<b>%{hovertext}</b><br><br>Squad=Valencia<br>Status_xG_xGA=Bad xG | Bad xGA<br>xG_per90=%{x}<br>xGA_per90=%{y}<br>Pts=%{marker.size}<br>Posicion=%{customdata[0]}<extra></extra>",
         "hovertext": [
          "Valencia"
         ],
         "legendgroup": "Valencia",
         "marker": {
          "color": "#B2828D",
          "opacity": 1,
          "size": [
           20
          ],
          "sizemode": "area",
          "sizeref": 0.1175,
          "symbol": "circle"
         },
         "mode": "markers",
         "name": "Valencia",
         "orientation": "v",
         "showlegend": true,
         "type": "scatter",
         "x": [
          1.13
         ],
         "xaxis": "x4",
         "y": [
          1.51
         ],
         "yaxis": "y4"
        },
        {
         "customdata": [
          [
           15
          ]
         ],
         "hovertemplate": "<b>%{hovertext}</b><br><br>Squad=Eibar<br>Status_xG_xGA=Bad xG | Bad xGA<br>xG_per90=%{x}<br>xGA_per90=%{y}<br>Pts=%{marker.size}<br>Posicion=%{customdata[0]}<extra></extra>",
         "hovertext": [
          "Eibar"
         ],
         "legendgroup": "Eibar",
         "marker": {
          "color": "#6C7C32",
          "opacity": 1,
          "size": [
           20
          ],
          "sizemode": "area",
          "sizeref": 0.1175,
          "symbol": "circle"
         },
         "mode": "markers",
         "name": "Eibar",
         "orientation": "v",
         "showlegend": true,
         "type": "scatter",
         "x": [
          1.05
         ],
         "xaxis": "x4",
         "y": [
          1.26
         ],
         "yaxis": "y4"
        },
        {
         "customdata": [
          [
           16
          ]
         ],
         "hovertemplate": "<b>%{hovertext}</b><br><br>Squad=Valladolid<br>Status_xG_xGA=Bad xG | Bad xGA<br>xG_per90=%{x}<br>xGA_per90=%{y}<br>Pts=%{marker.size}<br>Posicion=%{customdata[0]}<extra></extra>",
         "hovertext": [
          "Valladolid"
         ],
         "legendgroup": "Valladolid",
         "marker": {
          "color": "#778AAE",
          "opacity": 1,
          "size": [
           20
          ],
          "sizemode": "area",
          "sizeref": 0.1175,
          "symbol": "circle"
         },
         "mode": "markers",
         "name": "Valladolid",
         "orientation": "v",
         "showlegend": true,
         "type": "scatter",
         "x": [
          0.94
         ],
         "xaxis": "x4",
         "y": [
          1.46
         ],
         "yaxis": "y4"
        },
        {
         "customdata": [
          [
           17
          ]
         ],
         "hovertemplate": "<b>%{hovertext}</b><br><br>Squad=Osasuna<br>Status_xG_xGA=Bad xG | Bad xGA<br>xG_per90=%{x}<br>xGA_per90=%{y}<br>Pts=%{marker.size}<br>Posicion=%{customdata[0]}<extra></extra>",
         "hovertext": [
          "Osasuna"
         ],
         "legendgroup": "Osasuna",
         "marker": {
          "color": "#862A16",
          "opacity": 1,
          "size": [
           19
          ],
          "sizemode": "area",
          "sizeref": 0.1175,
          "symbol": "circle"
         },
         "mode": "markers",
         "name": "Osasuna",
         "orientation": "v",
         "showlegend": true,
         "type": "scatter",
         "x": [
          0.94
         ],
         "xaxis": "x4",
         "y": [
          1.34
         ],
         "yaxis": "y4"
        },
        {
         "customdata": [
          [
           18
          ]
         ],
         "hovertemplate": "<b>%{hovertext}</b><br><br>Squad=Alavés<br>Status_xG_xGA=Bad xG | Bad xGA<br>xG_per90=%{x}<br>xGA_per90=%{y}<br>Pts=%{marker.size}<br>Posicion=%{customdata[0]}<extra></extra>",
         "hovertext": [
          "Alavés"
         ],
         "legendgroup": "Alavés",
         "marker": {
          "color": "#A777F1",
          "opacity": 1,
          "size": [
           18
          ],
          "sizemode": "area",
          "sizeref": 0.1175,
          "symbol": "circle"
         },
         "mode": "markers",
         "name": "Alavés",
         "orientation": "v",
         "showlegend": true,
         "type": "scatter",
         "x": [
          1.14
         ],
         "xaxis": "x4",
         "y": [
          1.43
         ],
         "yaxis": "y4"
        },
        {
         "customdata": [
          [
           19
          ]
         ],
         "hovertemplate": "<b>%{hovertext}</b><br><br>Squad=Elche<br>Status_xG_xGA=Bad xG | Bad xGA<br>xG_per90=%{x}<br>xGA_per90=%{y}<br>Pts=%{marker.size}<br>Posicion=%{customdata[0]}<extra></extra>",
         "hovertext": [
          "Elche"
         ],
         "legendgroup": "Elche",
         "marker": {
          "color": "#620042",
          "opacity": 1,
          "size": [
           17
          ],
          "sizemode": "area",
          "sizeref": 0.1175,
          "symbol": "circle"
         },
         "mode": "markers",
         "name": "Elche",
         "orientation": "v",
         "showlegend": true,
         "type": "scatter",
         "x": [
          0.73
         ],
         "xaxis": "x4",
         "y": [
          1.68
         ],
         "yaxis": "y4"
        },
        {
         "customdata": [
          [
           20
          ]
         ],
         "hovertemplate": "<b>%{hovertext}</b><br><br>Squad=Huesca<br>Status_xG_xGA=Bad xG | Bad xGA<br>xG_per90=%{x}<br>xGA_per90=%{y}<br>Pts=%{marker.size}<br>Posicion=%{customdata[0]}<extra></extra>",
         "hovertext": [
          "Huesca"
         ],
         "legendgroup": "Huesca",
         "marker": {
          "color": "#1616A7",
          "opacity": 1,
          "size": [
           13
          ],
          "sizemode": "area",
          "sizeref": 0.1175,
          "symbol": "circle"
         },
         "mode": "markers",
         "name": "Huesca",
         "orientation": "v",
         "showlegend": true,
         "type": "scatter",
         "x": [
          0.85
         ],
         "xaxis": "x4",
         "y": [
          1.24
         ],
         "yaxis": "y4"
        }
       ],
       "layout": {
        "annotations": [
         {
          "font": {},
          "showarrow": false,
          "text": "Good xG | Good xGA",
          "x": 0.1175,
          "xanchor": "center",
          "xref": "paper",
          "y": 1,
          "yanchor": "bottom",
          "yref": "paper"
         },
         {
          "font": {},
          "showarrow": false,
          "text": "Good xG | Bad xGA",
          "x": 0.3725,
          "xanchor": "center",
          "xref": "paper",
          "y": 1,
          "yanchor": "bottom",
          "yref": "paper"
         },
         {
          "font": {},
          "showarrow": false,
          "text": "Bad xG | Good xGA",
          "x": 0.6275,
          "xanchor": "center",
          "xref": "paper",
          "y": 1,
          "yanchor": "bottom",
          "yref": "paper"
         },
         {
          "font": {},
          "showarrow": false,
          "text": "Bad xG | Bad xGA",
          "x": 0.8824999999999998,
          "xanchor": "center",
          "xref": "paper",
          "y": 1,
          "yanchor": "bottom",
          "yref": "paper"
         }
        ],
        "legend": {
         "itemsizing": "constant",
         "title": {
          "text": "Squad"
         },
         "tracegroupgap": 0
        },
        "template": {
         "data": {
          "bar": [
           {
            "error_x": {
             "color": "rgb(36,36,36)"
            },
            "error_y": {
             "color": "rgb(36,36,36)"
            },
            "marker": {
             "line": {
              "color": "rgb(234,234,242)",
              "width": 0.5
             }
            },
            "type": "bar"
           }
          ],
          "barpolar": [
           {
            "marker": {
             "line": {
              "color": "rgb(234,234,242)",
              "width": 0.5
             }
            },
            "type": "barpolar"
           }
          ],
          "carpet": [
           {
            "aaxis": {
             "endlinecolor": "rgb(36,36,36)",
             "gridcolor": "white",
             "linecolor": "white",
             "minorgridcolor": "white",
             "startlinecolor": "rgb(36,36,36)"
            },
            "baxis": {
             "endlinecolor": "rgb(36,36,36)",
             "gridcolor": "white",
             "linecolor": "white",
             "minorgridcolor": "white",
             "startlinecolor": "rgb(36,36,36)"
            },
            "type": "carpet"
           }
          ],
          "choropleth": [
           {
            "colorbar": {
             "outlinewidth": 0,
             "tickcolor": "rgb(36,36,36)",
             "ticklen": 8,
             "ticks": "outside",
             "tickwidth": 2
            },
            "type": "choropleth"
           }
          ],
          "contour": [
           {
            "colorbar": {
             "outlinewidth": 0,
             "tickcolor": "rgb(36,36,36)",
             "ticklen": 8,
             "ticks": "outside",
             "tickwidth": 2
            },
            "colorscale": [
             [
              0,
              "rgb(2,4,25)"
             ],
             [
              0.06274509803921569,
              "rgb(24,15,41)"
             ],
             [
              0.12549019607843137,
              "rgb(47,23,57)"
             ],
             [
              0.18823529411764706,
              "rgb(71,28,72)"
             ],
             [
              0.25098039215686274,
              "rgb(97,30,82)"
             ],
             [
              0.3137254901960784,
              "rgb(123,30,89)"
             ],
             [
              0.3764705882352941,
              "rgb(150,27,91)"
             ],
             [
              0.4392156862745098,
              "rgb(177,22,88)"
             ],
             [
              0.5019607843137255,
              "rgb(203,26,79)"
             ],
             [
              0.5647058823529412,
              "rgb(223,47,67)"
             ],
             [
              0.6274509803921569,
              "rgb(236,76,61)"
             ],
             [
              0.6901960784313725,
              "rgb(242,107,73)"
             ],
             [
              0.7529411764705882,
              "rgb(244,135,95)"
             ],
             [
              0.8156862745098039,
              "rgb(245,162,122)"
             ],
             [
              0.8784313725490196,
              "rgb(246,188,153)"
             ],
             [
              0.9411764705882353,
              "rgb(247,212,187)"
             ],
             [
              1,
              "rgb(250,234,220)"
             ]
            ],
            "type": "contour"
           }
          ],
          "contourcarpet": [
           {
            "colorbar": {
             "outlinewidth": 0,
             "tickcolor": "rgb(36,36,36)",
             "ticklen": 8,
             "ticks": "outside",
             "tickwidth": 2
            },
            "type": "contourcarpet"
           }
          ],
          "heatmap": [
           {
            "colorbar": {
             "outlinewidth": 0,
             "tickcolor": "rgb(36,36,36)",
             "ticklen": 8,
             "ticks": "outside",
             "tickwidth": 2
            },
            "colorscale": [
             [
              0,
              "rgb(2,4,25)"
             ],
             [
              0.06274509803921569,
              "rgb(24,15,41)"
             ],
             [
              0.12549019607843137,
              "rgb(47,23,57)"
             ],
             [
              0.18823529411764706,
              "rgb(71,28,72)"
             ],
             [
              0.25098039215686274,
              "rgb(97,30,82)"
             ],
             [
              0.3137254901960784,
              "rgb(123,30,89)"
             ],
             [
              0.3764705882352941,
              "rgb(150,27,91)"
             ],
             [
              0.4392156862745098,
              "rgb(177,22,88)"
             ],
             [
              0.5019607843137255,
              "rgb(203,26,79)"
             ],
             [
              0.5647058823529412,
              "rgb(223,47,67)"
             ],
             [
              0.6274509803921569,
              "rgb(236,76,61)"
             ],
             [
              0.6901960784313725,
              "rgb(242,107,73)"
             ],
             [
              0.7529411764705882,
              "rgb(244,135,95)"
             ],
             [
              0.8156862745098039,
              "rgb(245,162,122)"
             ],
             [
              0.8784313725490196,
              "rgb(246,188,153)"
             ],
             [
              0.9411764705882353,
              "rgb(247,212,187)"
             ],
             [
              1,
              "rgb(250,234,220)"
             ]
            ],
            "type": "heatmap"
           }
          ],
          "heatmapgl": [
           {
            "colorbar": {
             "outlinewidth": 0,
             "tickcolor": "rgb(36,36,36)",
             "ticklen": 8,
             "ticks": "outside",
             "tickwidth": 2
            },
            "colorscale": [
             [
              0,
              "rgb(2,4,25)"
             ],
             [
              0.06274509803921569,
              "rgb(24,15,41)"
             ],
             [
              0.12549019607843137,
              "rgb(47,23,57)"
             ],
             [
              0.18823529411764706,
              "rgb(71,28,72)"
             ],
             [
              0.25098039215686274,
              "rgb(97,30,82)"
             ],
             [
              0.3137254901960784,
              "rgb(123,30,89)"
             ],
             [
              0.3764705882352941,
              "rgb(150,27,91)"
             ],
             [
              0.4392156862745098,
              "rgb(177,22,88)"
             ],
             [
              0.5019607843137255,
              "rgb(203,26,79)"
             ],
             [
              0.5647058823529412,
              "rgb(223,47,67)"
             ],
             [
              0.6274509803921569,
              "rgb(236,76,61)"
             ],
             [
              0.6901960784313725,
              "rgb(242,107,73)"
             ],
             [
              0.7529411764705882,
              "rgb(244,135,95)"
             ],
             [
              0.8156862745098039,
              "rgb(245,162,122)"
             ],
             [
              0.8784313725490196,
              "rgb(246,188,153)"
             ],
             [
              0.9411764705882353,
              "rgb(247,212,187)"
             ],
             [
              1,
              "rgb(250,234,220)"
             ]
            ],
            "type": "heatmapgl"
           }
          ],
          "histogram": [
           {
            "marker": {
             "colorbar": {
              "outlinewidth": 0,
              "tickcolor": "rgb(36,36,36)",
              "ticklen": 8,
              "ticks": "outside",
              "tickwidth": 2
             }
            },
            "type": "histogram"
           }
          ],
          "histogram2d": [
           {
            "colorbar": {
             "outlinewidth": 0,
             "tickcolor": "rgb(36,36,36)",
             "ticklen": 8,
             "ticks": "outside",
             "tickwidth": 2
            },
            "colorscale": [
             [
              0,
              "rgb(2,4,25)"
             ],
             [
              0.06274509803921569,
              "rgb(24,15,41)"
             ],
             [
              0.12549019607843137,
              "rgb(47,23,57)"
             ],
             [
              0.18823529411764706,
              "rgb(71,28,72)"
             ],
             [
              0.25098039215686274,
              "rgb(97,30,82)"
             ],
             [
              0.3137254901960784,
              "rgb(123,30,89)"
             ],
             [
              0.3764705882352941,
              "rgb(150,27,91)"
             ],
             [
              0.4392156862745098,
              "rgb(177,22,88)"
             ],
             [
              0.5019607843137255,
              "rgb(203,26,79)"
             ],
             [
              0.5647058823529412,
              "rgb(223,47,67)"
             ],
             [
              0.6274509803921569,
              "rgb(236,76,61)"
             ],
             [
              0.6901960784313725,
              "rgb(242,107,73)"
             ],
             [
              0.7529411764705882,
              "rgb(244,135,95)"
             ],
             [
              0.8156862745098039,
              "rgb(245,162,122)"
             ],
             [
              0.8784313725490196,
              "rgb(246,188,153)"
             ],
             [
              0.9411764705882353,
              "rgb(247,212,187)"
             ],
             [
              1,
              "rgb(250,234,220)"
             ]
            ],
            "type": "histogram2d"
           }
          ],
          "histogram2dcontour": [
           {
            "colorbar": {
             "outlinewidth": 0,
             "tickcolor": "rgb(36,36,36)",
             "ticklen": 8,
             "ticks": "outside",
             "tickwidth": 2
            },
            "colorscale": [
             [
              0,
              "rgb(2,4,25)"
             ],
             [
              0.06274509803921569,
              "rgb(24,15,41)"
             ],
             [
              0.12549019607843137,
              "rgb(47,23,57)"
             ],
             [
              0.18823529411764706,
              "rgb(71,28,72)"
             ],
             [
              0.25098039215686274,
              "rgb(97,30,82)"
             ],
             [
              0.3137254901960784,
              "rgb(123,30,89)"
             ],
             [
              0.3764705882352941,
              "rgb(150,27,91)"
             ],
             [
              0.4392156862745098,
              "rgb(177,22,88)"
             ],
             [
              0.5019607843137255,
              "rgb(203,26,79)"
             ],
             [
              0.5647058823529412,
              "rgb(223,47,67)"
             ],
             [
              0.6274509803921569,
              "rgb(236,76,61)"
             ],
             [
              0.6901960784313725,
              "rgb(242,107,73)"
             ],
             [
              0.7529411764705882,
              "rgb(244,135,95)"
             ],
             [
              0.8156862745098039,
              "rgb(245,162,122)"
             ],
             [
              0.8784313725490196,
              "rgb(246,188,153)"
             ],
             [
              0.9411764705882353,
              "rgb(247,212,187)"
             ],
             [
              1,
              "rgb(250,234,220)"
             ]
            ],
            "type": "histogram2dcontour"
           }
          ],
          "mesh3d": [
           {
            "colorbar": {
             "outlinewidth": 0,
             "tickcolor": "rgb(36,36,36)",
             "ticklen": 8,
             "ticks": "outside",
             "tickwidth": 2
            },
            "type": "mesh3d"
           }
          ],
          "parcoords": [
           {
            "line": {
             "colorbar": {
              "outlinewidth": 0,
              "tickcolor": "rgb(36,36,36)",
              "ticklen": 8,
              "ticks": "outside",
              "tickwidth": 2
             }
            },
            "type": "parcoords"
           }
          ],
          "pie": [
           {
            "automargin": true,
            "type": "pie"
           }
          ],
          "scatter": [
           {
            "marker": {
             "colorbar": {
              "outlinewidth": 0,
              "tickcolor": "rgb(36,36,36)",
              "ticklen": 8,
              "ticks": "outside",
              "tickwidth": 2
             }
            },
            "type": "scatter"
           }
          ],
          "scatter3d": [
           {
            "line": {
             "colorbar": {
              "outlinewidth": 0,
              "tickcolor": "rgb(36,36,36)",
              "ticklen": 8,
              "ticks": "outside",
              "tickwidth": 2
             }
            },
            "marker": {
             "colorbar": {
              "outlinewidth": 0,
              "tickcolor": "rgb(36,36,36)",
              "ticklen": 8,
              "ticks": "outside",
              "tickwidth": 2
             }
            },
            "type": "scatter3d"
           }
          ],
          "scattercarpet": [
           {
            "marker": {
             "colorbar": {
              "outlinewidth": 0,
              "tickcolor": "rgb(36,36,36)",
              "ticklen": 8,
              "ticks": "outside",
              "tickwidth": 2
             }
            },
            "type": "scattercarpet"
           }
          ],
          "scattergeo": [
           {
            "marker": {
             "colorbar": {
              "outlinewidth": 0,
              "tickcolor": "rgb(36,36,36)",
              "ticklen": 8,
              "ticks": "outside",
              "tickwidth": 2
             }
            },
            "type": "scattergeo"
           }
          ],
          "scattergl": [
           {
            "marker": {
             "colorbar": {
              "outlinewidth": 0,
              "tickcolor": "rgb(36,36,36)",
              "ticklen": 8,
              "ticks": "outside",
              "tickwidth": 2
             }
            },
            "type": "scattergl"
           }
          ],
          "scattermapbox": [
           {
            "marker": {
             "colorbar": {
              "outlinewidth": 0,
              "tickcolor": "rgb(36,36,36)",
              "ticklen": 8,
              "ticks": "outside",
              "tickwidth": 2
             }
            },
            "type": "scattermapbox"
           }
          ],
          "scatterpolar": [
           {
            "marker": {
             "colorbar": {
              "outlinewidth": 0,
              "tickcolor": "rgb(36,36,36)",
              "ticklen": 8,
              "ticks": "outside",
              "tickwidth": 2
             }
            },
            "type": "scatterpolar"
           }
          ],
          "scatterpolargl": [
           {
            "marker": {
             "colorbar": {
              "outlinewidth": 0,
              "tickcolor": "rgb(36,36,36)",
              "ticklen": 8,
              "ticks": "outside",
              "tickwidth": 2
             }
            },
            "type": "scatterpolargl"
           }
          ],
          "scatterternary": [
           {
            "marker": {
             "colorbar": {
              "outlinewidth": 0,
              "tickcolor": "rgb(36,36,36)",
              "ticklen": 8,
              "ticks": "outside",
              "tickwidth": 2
             }
            },
            "type": "scatterternary"
           }
          ],
          "surface": [
           {
            "colorbar": {
             "outlinewidth": 0,
             "tickcolor": "rgb(36,36,36)",
             "ticklen": 8,
             "ticks": "outside",
             "tickwidth": 2
            },
            "colorscale": [
             [
              0,
              "rgb(2,4,25)"
             ],
             [
              0.06274509803921569,
              "rgb(24,15,41)"
             ],
             [
              0.12549019607843137,
              "rgb(47,23,57)"
             ],
             [
              0.18823529411764706,
              "rgb(71,28,72)"
             ],
             [
              0.25098039215686274,
              "rgb(97,30,82)"
             ],
             [
              0.3137254901960784,
              "rgb(123,30,89)"
             ],
             [
              0.3764705882352941,
              "rgb(150,27,91)"
             ],
             [
              0.4392156862745098,
              "rgb(177,22,88)"
             ],
             [
              0.5019607843137255,
              "rgb(203,26,79)"
             ],
             [
              0.5647058823529412,
              "rgb(223,47,67)"
             ],
             [
              0.6274509803921569,
              "rgb(236,76,61)"
             ],
             [
              0.6901960784313725,
              "rgb(242,107,73)"
             ],
             [
              0.7529411764705882,
              "rgb(244,135,95)"
             ],
             [
              0.8156862745098039,
              "rgb(245,162,122)"
             ],
             [
              0.8784313725490196,
              "rgb(246,188,153)"
             ],
             [
              0.9411764705882353,
              "rgb(247,212,187)"
             ],
             [
              1,
              "rgb(250,234,220)"
             ]
            ],
            "type": "surface"
           }
          ],
          "table": [
           {
            "cells": {
             "fill": {
              "color": "rgb(231,231,240)"
             },
             "line": {
              "color": "white"
             }
            },
            "header": {
             "fill": {
              "color": "rgb(183,183,191)"
             },
             "line": {
              "color": "white"
             }
            },
            "type": "table"
           }
          ]
         },
         "layout": {
          "annotationdefaults": {
           "arrowcolor": "rgb(67,103,167)"
          },
          "autotypenumbers": "strict",
          "coloraxis": {
           "colorbar": {
            "outlinewidth": 0,
            "tickcolor": "rgb(36,36,36)",
            "ticklen": 8,
            "ticks": "outside",
            "tickwidth": 2
           }
          },
          "colorscale": {
           "sequential": [
            [
             0,
             "rgb(2,4,25)"
            ],
            [
             0.06274509803921569,
             "rgb(24,15,41)"
            ],
            [
             0.12549019607843137,
             "rgb(47,23,57)"
            ],
            [
             0.18823529411764706,
             "rgb(71,28,72)"
            ],
            [
             0.25098039215686274,
             "rgb(97,30,82)"
            ],
            [
             0.3137254901960784,
             "rgb(123,30,89)"
            ],
            [
             0.3764705882352941,
             "rgb(150,27,91)"
            ],
            [
             0.4392156862745098,
             "rgb(177,22,88)"
            ],
            [
             0.5019607843137255,
             "rgb(203,26,79)"
            ],
            [
             0.5647058823529412,
             "rgb(223,47,67)"
            ],
            [
             0.6274509803921569,
             "rgb(236,76,61)"
            ],
            [
             0.6901960784313725,
             "rgb(242,107,73)"
            ],
            [
             0.7529411764705882,
             "rgb(244,135,95)"
            ],
            [
             0.8156862745098039,
             "rgb(245,162,122)"
            ],
            [
             0.8784313725490196,
             "rgb(246,188,153)"
            ],
            [
             0.9411764705882353,
             "rgb(247,212,187)"
            ],
            [
             1,
             "rgb(250,234,220)"
            ]
           ],
           "sequentialminus": [
            [
             0,
             "rgb(2,4,25)"
            ],
            [
             0.06274509803921569,
             "rgb(24,15,41)"
            ],
            [
             0.12549019607843137,
             "rgb(47,23,57)"
            ],
            [
             0.18823529411764706,
             "rgb(71,28,72)"
            ],
            [
             0.25098039215686274,
             "rgb(97,30,82)"
            ],
            [
             0.3137254901960784,
             "rgb(123,30,89)"
            ],
            [
             0.3764705882352941,
             "rgb(150,27,91)"
            ],
            [
             0.4392156862745098,
             "rgb(177,22,88)"
            ],
            [
             0.5019607843137255,
             "rgb(203,26,79)"
            ],
            [
             0.5647058823529412,
             "rgb(223,47,67)"
            ],
            [
             0.6274509803921569,
             "rgb(236,76,61)"
            ],
            [
             0.6901960784313725,
             "rgb(242,107,73)"
            ],
            [
             0.7529411764705882,
             "rgb(244,135,95)"
            ],
            [
             0.8156862745098039,
             "rgb(245,162,122)"
            ],
            [
             0.8784313725490196,
             "rgb(246,188,153)"
            ],
            [
             0.9411764705882353,
             "rgb(247,212,187)"
            ],
            [
             1,
             "rgb(250,234,220)"
            ]
           ]
          },
          "colorway": [
           "rgb(76,114,176)",
           "rgb(221,132,82)",
           "rgb(85,168,104)",
           "rgb(196,78,82)",
           "rgb(129,114,179)",
           "rgb(147,120,96)",
           "rgb(218,139,195)",
           "rgb(140,140,140)",
           "rgb(204,185,116)",
           "rgb(100,181,205)"
          ],
          "font": {
           "color": "rgb(36,36,36)"
          },
          "geo": {
           "bgcolor": "white",
           "lakecolor": "white",
           "landcolor": "rgb(234,234,242)",
           "showlakes": true,
           "showland": true,
           "subunitcolor": "white"
          },
          "hoverlabel": {
           "align": "left"
          },
          "hovermode": "closest",
          "paper_bgcolor": "white",
          "plot_bgcolor": "rgb(234,234,242)",
          "polar": {
           "angularaxis": {
            "gridcolor": "white",
            "linecolor": "white",
            "showgrid": true,
            "ticks": ""
           },
           "bgcolor": "rgb(234,234,242)",
           "radialaxis": {
            "gridcolor": "white",
            "linecolor": "white",
            "showgrid": true,
            "ticks": ""
           }
          },
          "scene": {
           "xaxis": {
            "backgroundcolor": "rgb(234,234,242)",
            "gridcolor": "white",
            "gridwidth": 2,
            "linecolor": "white",
            "showbackground": true,
            "showgrid": true,
            "ticks": "",
            "zerolinecolor": "white"
           },
           "yaxis": {
            "backgroundcolor": "rgb(234,234,242)",
            "gridcolor": "white",
            "gridwidth": 2,
            "linecolor": "white",
            "showbackground": true,
            "showgrid": true,
            "ticks": "",
            "zerolinecolor": "white"
           },
           "zaxis": {
            "backgroundcolor": "rgb(234,234,242)",
            "gridcolor": "white",
            "gridwidth": 2,
            "linecolor": "white",
            "showbackground": true,
            "showgrid": true,
            "ticks": "",
            "zerolinecolor": "white"
           }
          },
          "shapedefaults": {
           "fillcolor": "rgb(67,103,167)",
           "line": {
            "width": 0
           },
           "opacity": 0.5
          },
          "ternary": {
           "aaxis": {
            "gridcolor": "white",
            "linecolor": "white",
            "showgrid": true,
            "ticks": ""
           },
           "baxis": {
            "gridcolor": "white",
            "linecolor": "white",
            "showgrid": true,
            "ticks": ""
           },
           "bgcolor": "rgb(234,234,242)",
           "caxis": {
            "gridcolor": "white",
            "linecolor": "white",
            "showgrid": true,
            "ticks": ""
           }
          },
          "xaxis": {
           "automargin": true,
           "gridcolor": "white",
           "linecolor": "white",
           "showgrid": true,
           "ticks": "",
           "title": {
            "standoff": 15
           },
           "zerolinecolor": "white"
          },
          "yaxis": {
           "automargin": true,
           "gridcolor": "white",
           "linecolor": "white",
           "showgrid": true,
           "ticks": "",
           "title": {
            "standoff": 15
           },
           "zerolinecolor": "white"
          }
         }
        },
        "title": {
         "font": {
          "size": 25
         },
         "text": "<b>Quality of Shots Taken (xG) vs Quality of Shots Conceded (xGA)</b><br>La Liga 2020-2021 (Fixtures 1-20)",
         "xanchor": "center",
         "y": 0.95,
         "yanchor": "top"
        },
        "width": 950,
        "xaxis": {
         "anchor": "y",
         "domain": [
          0,
          0.235
         ],
         "title": {
          "text": "xG_per90"
         }
        },
        "xaxis2": {
         "anchor": "y2",
         "domain": [
          0.255,
          0.49
         ],
         "matches": "x",
         "title": {
          "text": "xG_per90"
         }
        },
        "xaxis3": {
         "anchor": "y3",
         "domain": [
          0.51,
          0.745
         ],
         "matches": "x",
         "title": {
          "text": "xG_per90"
         }
        },
        "xaxis4": {
         "anchor": "y4",
         "domain": [
          0.7649999999999999,
          0.9999999999999999
         ],
         "matches": "x",
         "title": {
          "text": "xG_per90"
         }
        },
        "yaxis": {
         "anchor": "x",
         "autorange": "reversed",
         "domain": [
          0,
          1
         ],
         "title": {
          "text": "xGA_per90"
         }
        },
        "yaxis2": {
         "anchor": "x2",
         "autorange": "reversed",
         "domain": [
          0,
          1
         ],
         "matches": "y",
         "showticklabels": false
        },
        "yaxis3": {
         "anchor": "x3",
         "autorange": "reversed",
         "domain": [
          0,
          1
         ],
         "matches": "y",
         "showticklabels": false
        },
        "yaxis4": {
         "anchor": "x4",
         "autorange": "reversed",
         "domain": [
          0,
          1
         ],
         "matches": "y",
         "showticklabels": false
        }
       }
      },
      "text/html": [
       "<div>                            <div id=\"47f84ee9-a747-4e37-8f32-66aa2a7a2501\" class=\"plotly-graph-div\" style=\"height:525px; width:950px;\"></div>            <script type=\"text/javascript\">                require([\"plotly\"], function(Plotly) {                    window.PLOTLYENV=window.PLOTLYENV || {};                                    if (document.getElementById(\"47f84ee9-a747-4e37-8f32-66aa2a7a2501\")) {                    Plotly.newPlot(                        \"47f84ee9-a747-4e37-8f32-66aa2a7a2501\",                        [{\"customdata\": [[1]], \"hovertemplate\": \"<b>%{hovertext}</b><br><br>Squad=Atl\\u00e9tico Madrid<br>Status_xG_xGA=Good xG | Good xGA<br>xG_per90=%{x}<br>xGA_per90=%{y}<br>Pts=%{marker.size}<br>Posicion=%{customdata[0]}<extra></extra>\", \"hovertext\": [\"Atl\\u00e9tico Madrid\"], \"legendgroup\": \"Atl\\u00e9tico Madrid\", \"marker\": {\"color\": \"#2E91E5\", \"opacity\": 1, \"size\": [47], \"sizemode\": \"area\", \"sizeref\": 0.1175, \"symbol\": \"circle\"}, \"mode\": \"markers\", \"name\": \"Atl\\u00e9tico Madrid\", \"orientation\": \"v\", \"showlegend\": true, \"type\": \"scatter\", \"x\": [1.36], \"xaxis\": \"x\", \"y\": [0.76], \"yaxis\": \"y\"}, {\"customdata\": [[2]], \"hovertemplate\": \"<b>%{hovertext}</b><br><br>Squad=Real Madrid<br>Status_xG_xGA=Good xG | Good xGA<br>xG_per90=%{x}<br>xGA_per90=%{y}<br>Pts=%{marker.size}<br>Posicion=%{customdata[0]}<extra></extra>\", \"hovertext\": [\"Real Madrid\"], \"legendgroup\": \"Real Madrid\", \"marker\": {\"color\": \"#E15F99\", \"opacity\": 1, \"size\": [40], \"sizemode\": \"area\", \"sizeref\": 0.1175, \"symbol\": \"circle\"}, \"mode\": \"markers\", \"name\": \"Real Madrid\", \"orientation\": \"v\", \"showlegend\": true, \"type\": \"scatter\", \"x\": [1.62], \"xaxis\": \"x\", \"y\": [1.07], \"yaxis\": \"y\"}, {\"customdata\": [[3]], \"hovertemplate\": \"<b>%{hovertext}</b><br><br>Squad=Barcelona<br>Status_xG_xGA=Good xG | Good xGA<br>xG_per90=%{x}<br>xGA_per90=%{y}<br>Pts=%{marker.size}<br>Posicion=%{customdata[0]}<extra></extra>\", \"hovertext\": [\"Barcelona\"], \"legendgroup\": \"Barcelona\", \"marker\": {\"color\": \"#1CA71C\", \"opacity\": 1, \"size\": [37], \"sizemode\": \"area\", \"sizeref\": 0.1175, \"symbol\": \"circle\"}, \"mode\": \"markers\", \"name\": \"Barcelona\", \"orientation\": \"v\", \"showlegend\": true, \"type\": \"scatter\", \"x\": [2.19], \"xaxis\": \"x\", \"y\": [1.14], \"yaxis\": \"y\"}, {\"customdata\": [[4]], \"hovertemplate\": \"<b>%{hovertext}</b><br><br>Squad=Sevilla<br>Status_xG_xGA=Good xG | Good xGA<br>xG_per90=%{x}<br>xGA_per90=%{y}<br>Pts=%{marker.size}<br>Posicion=%{customdata[0]}<extra></extra>\", \"hovertext\": [\"Sevilla\"], \"legendgroup\": \"Sevilla\", \"marker\": {\"color\": \"#FB0D0D\", \"opacity\": 1, \"size\": [36], \"sizemode\": \"area\", \"sizeref\": 0.1175, \"symbol\": \"circle\"}, \"mode\": \"markers\", \"name\": \"Sevilla\", \"orientation\": \"v\", \"showlegend\": true, \"type\": \"scatter\", \"x\": [1.32], \"xaxis\": \"x\", \"y\": [0.97], \"yaxis\": \"y\"}, {\"customdata\": [[5]], \"hovertemplate\": \"<b>%{hovertext}</b><br><br>Squad=Villarreal<br>Status_xG_xGA=Good xG | Good xGA<br>xG_per90=%{x}<br>xGA_per90=%{y}<br>Pts=%{marker.size}<br>Posicion=%{customdata[0]}<extra></extra>\", \"hovertext\": [\"Villarreal\"], \"legendgroup\": \"Villarreal\", \"marker\": {\"color\": \"#DA16FF\", \"opacity\": 1, \"size\": [34], \"sizemode\": \"area\", \"sizeref\": 0.1175, \"symbol\": \"circle\"}, \"mode\": \"markers\", \"name\": \"Villarreal\", \"orientation\": \"v\", \"showlegend\": true, \"type\": \"scatter\", \"x\": [1.48], \"xaxis\": \"x\", \"y\": [0.84], \"yaxis\": \"y\"}, {\"customdata\": [[6]], \"hovertemplate\": \"<b>%{hovertext}</b><br><br>Squad=Real Sociedad<br>Status_xG_xGA=Good xG | Good xGA<br>xG_per90=%{x}<br>xGA_per90=%{y}<br>Pts=%{marker.size}<br>Posicion=%{customdata[0]}<extra></extra>\", \"hovertext\": [\"Real Sociedad\"], \"legendgroup\": \"Real Sociedad\", \"marker\": {\"color\": \"#222A2A\", \"opacity\": 1, \"size\": [31], \"sizemode\": \"area\", \"sizeref\": 0.1175, \"symbol\": \"circle\"}, \"mode\": \"markers\", \"name\": \"Real Sociedad\", \"orientation\": \"v\", \"showlegend\": true, \"type\": \"scatter\", \"x\": [1.62], \"xaxis\": \"x\", \"y\": [0.9], \"yaxis\": \"y\"}, {\"customdata\": [[7]], \"hovertemplate\": \"<b>%{hovertext}</b><br><br>Squad=Granada<br>Status_xG_xGA=Bad xG | Bad xGA<br>xG_per90=%{x}<br>xGA_per90=%{y}<br>Pts=%{marker.size}<br>Posicion=%{customdata[0]}<extra></extra>\", \"hovertext\": [\"Granada\"], \"legendgroup\": \"Granada\", \"marker\": {\"color\": \"#B68100\", \"opacity\": 1, \"size\": [28], \"sizemode\": \"area\", \"sizeref\": 0.1175, \"symbol\": \"circle\"}, \"mode\": \"markers\", \"name\": \"Granada\", \"orientation\": \"v\", \"showlegend\": true, \"type\": \"scatter\", \"x\": [1.03], \"xaxis\": \"x4\", \"y\": [1.42], \"yaxis\": \"y4\"}, {\"customdata\": [[8]], \"hovertemplate\": \"<b>%{hovertext}</b><br><br>Squad=Betis<br>Status_xG_xGA=Bad xG | Bad xGA<br>xG_per90=%{x}<br>xGA_per90=%{y}<br>Pts=%{marker.size}<br>Posicion=%{customdata[0]}<extra></extra>\", \"hovertext\": [\"Betis\"], \"legendgroup\": \"Betis\", \"marker\": {\"color\": \"#750D86\", \"opacity\": 1, \"size\": [27], \"sizemode\": \"area\", \"sizeref\": 0.1175, \"symbol\": \"circle\"}, \"mode\": \"markers\", \"name\": \"Betis\", \"orientation\": \"v\", \"showlegend\": true, \"type\": \"scatter\", \"x\": [1.18], \"xaxis\": \"x4\", \"y\": [1.44], \"yaxis\": \"y4\"}, {\"customdata\": [[9]], \"hovertemplate\": \"<b>%{hovertext}</b><br><br>Squad=Celta Vigo<br>Status_xG_xGA=Good xG | Good xGA<br>xG_per90=%{x}<br>xGA_per90=%{y}<br>Pts=%{marker.size}<br>Posicion=%{customdata[0]}<extra></extra>\", \"hovertext\": [\"Celta Vigo\"], \"legendgroup\": \"Celta Vigo\", \"marker\": {\"color\": \"#EB663B\", \"opacity\": 1, \"size\": [24], \"sizemode\": \"area\", \"sizeref\": 0.1175, \"symbol\": \"circle\"}, \"mode\": \"markers\", \"name\": \"Celta Vigo\", \"orientation\": \"v\", \"showlegend\": true, \"type\": \"scatter\", \"x\": [1.38], \"xaxis\": \"x\", \"y\": [1.14], \"yaxis\": \"y\"}, {\"customdata\": [[10]], \"hovertemplate\": \"<b>%{hovertext}</b><br><br>Squad=C\\u00e1diz<br>Status_xG_xGA=Bad xG | Good xGA<br>xG_per90=%{x}<br>xGA_per90=%{y}<br>Pts=%{marker.size}<br>Posicion=%{customdata[0]}<extra></extra>\", \"hovertext\": [\"C\\u00e1diz\"], \"legendgroup\": \"C\\u00e1diz\", \"marker\": {\"color\": \"#511CFB\", \"opacity\": 1, \"size\": [24], \"sizemode\": \"area\", \"sizeref\": 0.1175, \"symbol\": \"circle\"}, \"mode\": \"markers\", \"name\": \"C\\u00e1diz\", \"orientation\": \"v\", \"showlegend\": true, \"type\": \"scatter\", \"x\": [0.9], \"xaxis\": \"x3\", \"y\": [1.1], \"yaxis\": \"y3\"}, {\"customdata\": [[11]], \"hovertemplate\": \"<b>%{hovertext}</b><br><br>Squad=Levante<br>Status_xG_xGA=Good xG | Bad xGA<br>xG_per90=%{x}<br>xGA_per90=%{y}<br>Pts=%{marker.size}<br>Posicion=%{customdata[0]}<extra></extra>\", \"hovertext\": [\"Levante\"], \"legendgroup\": \"Levante\", \"marker\": {\"color\": \"#00A08B\", \"opacity\": 1, \"size\": [23], \"sizemode\": \"area\", \"sizeref\": 0.1175, \"symbol\": \"circle\"}, \"mode\": \"markers\", \"name\": \"Levante\", \"orientation\": \"v\", \"showlegend\": true, \"type\": \"scatter\", \"x\": [1.22], \"xaxis\": \"x2\", \"y\": [1.33], \"yaxis\": \"y2\"}, {\"customdata\": [[12]], \"hovertemplate\": \"<b>%{hovertext}</b><br><br>Squad=Getafe<br>Status_xG_xGA=Bad xG | Good xGA<br>xG_per90=%{x}<br>xGA_per90=%{y}<br>Pts=%{marker.size}<br>Posicion=%{customdata[0]}<extra></extra>\", \"hovertext\": [\"Getafe\"], \"legendgroup\": \"Getafe\", \"marker\": {\"color\": \"#FB00D1\", \"opacity\": 1, \"size\": [23], \"sizemode\": \"area\", \"sizeref\": 0.1175, \"symbol\": \"circle\"}, \"mode\": \"markers\", \"name\": \"Getafe\", \"orientation\": \"v\", \"showlegend\": true, \"type\": \"scatter\", \"x\": [0.9], \"xaxis\": \"x3\", \"y\": [1.09], \"yaxis\": \"y3\"}, {\"customdata\": [[13]], \"hovertemplate\": \"<b>%{hovertext}</b><br><br>Squad=Athletic Club<br>Status_xG_xGA=Bad xG | Good xGA<br>xG_per90=%{x}<br>xGA_per90=%{y}<br>Pts=%{marker.size}<br>Posicion=%{customdata[0]}<extra></extra>\", \"hovertext\": [\"Athletic Club\"], \"legendgroup\": \"Athletic Club\", \"marker\": {\"color\": \"#FC0080\", \"opacity\": 1, \"size\": [21], \"sizemode\": \"area\", \"sizeref\": 0.1175, \"symbol\": \"circle\"}, \"mode\": \"markers\", \"name\": \"Athletic Club\", \"orientation\": \"v\", \"showlegend\": true, \"type\": \"scatter\", \"x\": [1.13], \"xaxis\": \"x3\", \"y\": [0.94], \"yaxis\": \"y3\"}, {\"customdata\": [[14]], \"hovertemplate\": \"<b>%{hovertext}</b><br><br>Squad=Valencia<br>Status_xG_xGA=Bad xG | Bad xGA<br>xG_per90=%{x}<br>xGA_per90=%{y}<br>Pts=%{marker.size}<br>Posicion=%{customdata[0]}<extra></extra>\", \"hovertext\": [\"Valencia\"], \"legendgroup\": \"Valencia\", \"marker\": {\"color\": \"#B2828D\", \"opacity\": 1, \"size\": [20], \"sizemode\": \"area\", \"sizeref\": 0.1175, \"symbol\": \"circle\"}, \"mode\": \"markers\", \"name\": \"Valencia\", \"orientation\": \"v\", \"showlegend\": true, \"type\": \"scatter\", \"x\": [1.13], \"xaxis\": \"x4\", \"y\": [1.51], \"yaxis\": \"y4\"}, {\"customdata\": [[15]], \"hovertemplate\": \"<b>%{hovertext}</b><br><br>Squad=Eibar<br>Status_xG_xGA=Bad xG | Bad xGA<br>xG_per90=%{x}<br>xGA_per90=%{y}<br>Pts=%{marker.size}<br>Posicion=%{customdata[0]}<extra></extra>\", \"hovertext\": [\"Eibar\"], \"legendgroup\": \"Eibar\", \"marker\": {\"color\": \"#6C7C32\", \"opacity\": 1, \"size\": [20], \"sizemode\": \"area\", \"sizeref\": 0.1175, \"symbol\": \"circle\"}, \"mode\": \"markers\", \"name\": \"Eibar\", \"orientation\": \"v\", \"showlegend\": true, \"type\": \"scatter\", \"x\": [1.05], \"xaxis\": \"x4\", \"y\": [1.26], \"yaxis\": \"y4\"}, {\"customdata\": [[16]], \"hovertemplate\": \"<b>%{hovertext}</b><br><br>Squad=Valladolid<br>Status_xG_xGA=Bad xG | Bad xGA<br>xG_per90=%{x}<br>xGA_per90=%{y}<br>Pts=%{marker.size}<br>Posicion=%{customdata[0]}<extra></extra>\", \"hovertext\": [\"Valladolid\"], \"legendgroup\": \"Valladolid\", \"marker\": {\"color\": \"#778AAE\", \"opacity\": 1, \"size\": [20], \"sizemode\": \"area\", \"sizeref\": 0.1175, \"symbol\": \"circle\"}, \"mode\": \"markers\", \"name\": \"Valladolid\", \"orientation\": \"v\", \"showlegend\": true, \"type\": \"scatter\", \"x\": [0.94], \"xaxis\": \"x4\", \"y\": [1.46], \"yaxis\": \"y4\"}, {\"customdata\": [[17]], \"hovertemplate\": \"<b>%{hovertext}</b><br><br>Squad=Osasuna<br>Status_xG_xGA=Bad xG | Bad xGA<br>xG_per90=%{x}<br>xGA_per90=%{y}<br>Pts=%{marker.size}<br>Posicion=%{customdata[0]}<extra></extra>\", \"hovertext\": [\"Osasuna\"], \"legendgroup\": \"Osasuna\", \"marker\": {\"color\": \"#862A16\", \"opacity\": 1, \"size\": [19], \"sizemode\": \"area\", \"sizeref\": 0.1175, \"symbol\": \"circle\"}, \"mode\": \"markers\", \"name\": \"Osasuna\", \"orientation\": \"v\", \"showlegend\": true, \"type\": \"scatter\", \"x\": [0.94], \"xaxis\": \"x4\", \"y\": [1.34], \"yaxis\": \"y4\"}, {\"customdata\": [[18]], \"hovertemplate\": \"<b>%{hovertext}</b><br><br>Squad=Alav\\u00e9s<br>Status_xG_xGA=Bad xG | Bad xGA<br>xG_per90=%{x}<br>xGA_per90=%{y}<br>Pts=%{marker.size}<br>Posicion=%{customdata[0]}<extra></extra>\", \"hovertext\": [\"Alav\\u00e9s\"], \"legendgroup\": \"Alav\\u00e9s\", \"marker\": {\"color\": \"#A777F1\", \"opacity\": 1, \"size\": [18], \"sizemode\": \"area\", \"sizeref\": 0.1175, \"symbol\": \"circle\"}, \"mode\": \"markers\", \"name\": \"Alav\\u00e9s\", \"orientation\": \"v\", \"showlegend\": true, \"type\": \"scatter\", \"x\": [1.14], \"xaxis\": \"x4\", \"y\": [1.43], \"yaxis\": \"y4\"}, {\"customdata\": [[19]], \"hovertemplate\": \"<b>%{hovertext}</b><br><br>Squad=Elche<br>Status_xG_xGA=Bad xG | Bad xGA<br>xG_per90=%{x}<br>xGA_per90=%{y}<br>Pts=%{marker.size}<br>Posicion=%{customdata[0]}<extra></extra>\", \"hovertext\": [\"Elche\"], \"legendgroup\": \"Elche\", \"marker\": {\"color\": \"#620042\", \"opacity\": 1, \"size\": [17], \"sizemode\": \"area\", \"sizeref\": 0.1175, \"symbol\": \"circle\"}, \"mode\": \"markers\", \"name\": \"Elche\", \"orientation\": \"v\", \"showlegend\": true, \"type\": \"scatter\", \"x\": [0.73], \"xaxis\": \"x4\", \"y\": [1.68], \"yaxis\": \"y4\"}, {\"customdata\": [[20]], \"hovertemplate\": \"<b>%{hovertext}</b><br><br>Squad=Huesca<br>Status_xG_xGA=Bad xG | Bad xGA<br>xG_per90=%{x}<br>xGA_per90=%{y}<br>Pts=%{marker.size}<br>Posicion=%{customdata[0]}<extra></extra>\", \"hovertext\": [\"Huesca\"], \"legendgroup\": \"Huesca\", \"marker\": {\"color\": \"#1616A7\", \"opacity\": 1, \"size\": [13], \"sizemode\": \"area\", \"sizeref\": 0.1175, \"symbol\": \"circle\"}, \"mode\": \"markers\", \"name\": \"Huesca\", \"orientation\": \"v\", \"showlegend\": true, \"type\": \"scatter\", \"x\": [0.85], \"xaxis\": \"x4\", \"y\": [1.24], \"yaxis\": \"y4\"}],                        {\"annotations\": [{\"font\": {}, \"showarrow\": false, \"text\": \"Good xG | Good xGA\", \"x\": 0.1175, \"xanchor\": \"center\", \"xref\": \"paper\", \"y\": 1.0, \"yanchor\": \"bottom\", \"yref\": \"paper\"}, {\"font\": {}, \"showarrow\": false, \"text\": \"Good xG | Bad xGA\", \"x\": 0.3725, \"xanchor\": \"center\", \"xref\": \"paper\", \"y\": 1.0, \"yanchor\": \"bottom\", \"yref\": \"paper\"}, {\"font\": {}, \"showarrow\": false, \"text\": \"Bad xG | Good xGA\", \"x\": 0.6275, \"xanchor\": \"center\", \"xref\": \"paper\", \"y\": 1.0, \"yanchor\": \"bottom\", \"yref\": \"paper\"}, {\"font\": {}, \"showarrow\": false, \"text\": \"Bad xG | Bad xGA\", \"x\": 0.8824999999999998, \"xanchor\": \"center\", \"xref\": \"paper\", \"y\": 1.0, \"yanchor\": \"bottom\", \"yref\": \"paper\"}], \"legend\": {\"itemsizing\": \"constant\", \"title\": {\"text\": \"Squad\"}, \"tracegroupgap\": 0}, \"template\": {\"data\": {\"bar\": [{\"error_x\": {\"color\": \"rgb(36,36,36)\"}, \"error_y\": {\"color\": \"rgb(36,36,36)\"}, \"marker\": {\"line\": {\"color\": \"rgb(234,234,242)\", \"width\": 0.5}}, \"type\": \"bar\"}], \"barpolar\": [{\"marker\": {\"line\": {\"color\": \"rgb(234,234,242)\", \"width\": 0.5}}, \"type\": \"barpolar\"}], \"carpet\": [{\"aaxis\": {\"endlinecolor\": \"rgb(36,36,36)\", \"gridcolor\": \"white\", \"linecolor\": \"white\", \"minorgridcolor\": \"white\", \"startlinecolor\": \"rgb(36,36,36)\"}, \"baxis\": {\"endlinecolor\": \"rgb(36,36,36)\", \"gridcolor\": \"white\", \"linecolor\": \"white\", \"minorgridcolor\": \"white\", \"startlinecolor\": \"rgb(36,36,36)\"}, \"type\": \"carpet\"}], \"choropleth\": [{\"colorbar\": {\"outlinewidth\": 0, \"tickcolor\": \"rgb(36,36,36)\", \"ticklen\": 8, \"ticks\": \"outside\", \"tickwidth\": 2}, \"type\": \"choropleth\"}], \"contour\": [{\"colorbar\": {\"outlinewidth\": 0, \"tickcolor\": \"rgb(36,36,36)\", \"ticklen\": 8, \"ticks\": \"outside\", \"tickwidth\": 2}, \"colorscale\": [[0.0, \"rgb(2,4,25)\"], [0.06274509803921569, \"rgb(24,15,41)\"], [0.12549019607843137, \"rgb(47,23,57)\"], [0.18823529411764706, \"rgb(71,28,72)\"], [0.25098039215686274, \"rgb(97,30,82)\"], [0.3137254901960784, \"rgb(123,30,89)\"], [0.3764705882352941, \"rgb(150,27,91)\"], [0.4392156862745098, \"rgb(177,22,88)\"], [0.5019607843137255, \"rgb(203,26,79)\"], [0.5647058823529412, \"rgb(223,47,67)\"], [0.6274509803921569, \"rgb(236,76,61)\"], [0.6901960784313725, \"rgb(242,107,73)\"], [0.7529411764705882, \"rgb(244,135,95)\"], [0.8156862745098039, \"rgb(245,162,122)\"], [0.8784313725490196, \"rgb(246,188,153)\"], [0.9411764705882353, \"rgb(247,212,187)\"], [1.0, \"rgb(250,234,220)\"]], \"type\": \"contour\"}], \"contourcarpet\": [{\"colorbar\": {\"outlinewidth\": 0, \"tickcolor\": \"rgb(36,36,36)\", \"ticklen\": 8, \"ticks\": \"outside\", \"tickwidth\": 2}, \"type\": \"contourcarpet\"}], \"heatmap\": [{\"colorbar\": {\"outlinewidth\": 0, \"tickcolor\": \"rgb(36,36,36)\", \"ticklen\": 8, \"ticks\": \"outside\", \"tickwidth\": 2}, \"colorscale\": [[0.0, \"rgb(2,4,25)\"], [0.06274509803921569, \"rgb(24,15,41)\"], [0.12549019607843137, \"rgb(47,23,57)\"], [0.18823529411764706, \"rgb(71,28,72)\"], [0.25098039215686274, \"rgb(97,30,82)\"], [0.3137254901960784, \"rgb(123,30,89)\"], [0.3764705882352941, \"rgb(150,27,91)\"], [0.4392156862745098, \"rgb(177,22,88)\"], [0.5019607843137255, \"rgb(203,26,79)\"], [0.5647058823529412, \"rgb(223,47,67)\"], [0.6274509803921569, \"rgb(236,76,61)\"], [0.6901960784313725, \"rgb(242,107,73)\"], [0.7529411764705882, \"rgb(244,135,95)\"], [0.8156862745098039, \"rgb(245,162,122)\"], [0.8784313725490196, \"rgb(246,188,153)\"], [0.9411764705882353, \"rgb(247,212,187)\"], [1.0, \"rgb(250,234,220)\"]], \"type\": \"heatmap\"}], \"heatmapgl\": [{\"colorbar\": {\"outlinewidth\": 0, \"tickcolor\": \"rgb(36,36,36)\", \"ticklen\": 8, \"ticks\": \"outside\", \"tickwidth\": 2}, \"colorscale\": [[0.0, \"rgb(2,4,25)\"], [0.06274509803921569, \"rgb(24,15,41)\"], [0.12549019607843137, \"rgb(47,23,57)\"], [0.18823529411764706, \"rgb(71,28,72)\"], [0.25098039215686274, \"rgb(97,30,82)\"], [0.3137254901960784, \"rgb(123,30,89)\"], [0.3764705882352941, \"rgb(150,27,91)\"], [0.4392156862745098, \"rgb(177,22,88)\"], [0.5019607843137255, \"rgb(203,26,79)\"], [0.5647058823529412, \"rgb(223,47,67)\"], [0.6274509803921569, \"rgb(236,76,61)\"], [0.6901960784313725, \"rgb(242,107,73)\"], [0.7529411764705882, \"rgb(244,135,95)\"], [0.8156862745098039, \"rgb(245,162,122)\"], [0.8784313725490196, \"rgb(246,188,153)\"], [0.9411764705882353, \"rgb(247,212,187)\"], [1.0, \"rgb(250,234,220)\"]], \"type\": \"heatmapgl\"}], \"histogram\": [{\"marker\": {\"colorbar\": {\"outlinewidth\": 0, \"tickcolor\": \"rgb(36,36,36)\", \"ticklen\": 8, \"ticks\": \"outside\", \"tickwidth\": 2}}, \"type\": \"histogram\"}], \"histogram2d\": [{\"colorbar\": {\"outlinewidth\": 0, \"tickcolor\": \"rgb(36,36,36)\", \"ticklen\": 8, \"ticks\": \"outside\", \"tickwidth\": 2}, \"colorscale\": [[0.0, \"rgb(2,4,25)\"], [0.06274509803921569, \"rgb(24,15,41)\"], [0.12549019607843137, \"rgb(47,23,57)\"], [0.18823529411764706, \"rgb(71,28,72)\"], [0.25098039215686274, \"rgb(97,30,82)\"], [0.3137254901960784, \"rgb(123,30,89)\"], [0.3764705882352941, \"rgb(150,27,91)\"], [0.4392156862745098, \"rgb(177,22,88)\"], [0.5019607843137255, \"rgb(203,26,79)\"], [0.5647058823529412, \"rgb(223,47,67)\"], [0.6274509803921569, \"rgb(236,76,61)\"], [0.6901960784313725, \"rgb(242,107,73)\"], [0.7529411764705882, \"rgb(244,135,95)\"], [0.8156862745098039, \"rgb(245,162,122)\"], [0.8784313725490196, \"rgb(246,188,153)\"], [0.9411764705882353, \"rgb(247,212,187)\"], [1.0, \"rgb(250,234,220)\"]], \"type\": \"histogram2d\"}], \"histogram2dcontour\": [{\"colorbar\": {\"outlinewidth\": 0, \"tickcolor\": \"rgb(36,36,36)\", \"ticklen\": 8, \"ticks\": \"outside\", \"tickwidth\": 2}, \"colorscale\": [[0.0, \"rgb(2,4,25)\"], [0.06274509803921569, \"rgb(24,15,41)\"], [0.12549019607843137, \"rgb(47,23,57)\"], [0.18823529411764706, \"rgb(71,28,72)\"], [0.25098039215686274, \"rgb(97,30,82)\"], [0.3137254901960784, \"rgb(123,30,89)\"], [0.3764705882352941, \"rgb(150,27,91)\"], [0.4392156862745098, \"rgb(177,22,88)\"], [0.5019607843137255, \"rgb(203,26,79)\"], [0.5647058823529412, \"rgb(223,47,67)\"], [0.6274509803921569, \"rgb(236,76,61)\"], [0.6901960784313725, \"rgb(242,107,73)\"], [0.7529411764705882, \"rgb(244,135,95)\"], [0.8156862745098039, \"rgb(245,162,122)\"], [0.8784313725490196, \"rgb(246,188,153)\"], [0.9411764705882353, \"rgb(247,212,187)\"], [1.0, \"rgb(250,234,220)\"]], \"type\": \"histogram2dcontour\"}], \"mesh3d\": [{\"colorbar\": {\"outlinewidth\": 0, \"tickcolor\": \"rgb(36,36,36)\", \"ticklen\": 8, \"ticks\": \"outside\", \"tickwidth\": 2}, \"type\": \"mesh3d\"}], \"parcoords\": [{\"line\": {\"colorbar\": {\"outlinewidth\": 0, \"tickcolor\": \"rgb(36,36,36)\", \"ticklen\": 8, \"ticks\": \"outside\", \"tickwidth\": 2}}, \"type\": \"parcoords\"}], \"pie\": [{\"automargin\": true, \"type\": \"pie\"}], \"scatter\": [{\"marker\": {\"colorbar\": {\"outlinewidth\": 0, \"tickcolor\": \"rgb(36,36,36)\", \"ticklen\": 8, \"ticks\": \"outside\", \"tickwidth\": 2}}, \"type\": \"scatter\"}], \"scatter3d\": [{\"line\": {\"colorbar\": {\"outlinewidth\": 0, \"tickcolor\": \"rgb(36,36,36)\", \"ticklen\": 8, \"ticks\": \"outside\", \"tickwidth\": 2}}, \"marker\": {\"colorbar\": {\"outlinewidth\": 0, \"tickcolor\": \"rgb(36,36,36)\", \"ticklen\": 8, \"ticks\": \"outside\", \"tickwidth\": 2}}, \"type\": \"scatter3d\"}], \"scattercarpet\": [{\"marker\": {\"colorbar\": {\"outlinewidth\": 0, \"tickcolor\": \"rgb(36,36,36)\", \"ticklen\": 8, \"ticks\": \"outside\", \"tickwidth\": 2}}, \"type\": \"scattercarpet\"}], \"scattergeo\": [{\"marker\": {\"colorbar\": {\"outlinewidth\": 0, \"tickcolor\": \"rgb(36,36,36)\", \"ticklen\": 8, \"ticks\": \"outside\", \"tickwidth\": 2}}, \"type\": \"scattergeo\"}], \"scattergl\": [{\"marker\": {\"colorbar\": {\"outlinewidth\": 0, \"tickcolor\": \"rgb(36,36,36)\", \"ticklen\": 8, \"ticks\": \"outside\", \"tickwidth\": 2}}, \"type\": \"scattergl\"}], \"scattermapbox\": [{\"marker\": {\"colorbar\": {\"outlinewidth\": 0, \"tickcolor\": \"rgb(36,36,36)\", \"ticklen\": 8, \"ticks\": \"outside\", \"tickwidth\": 2}}, \"type\": \"scattermapbox\"}], \"scatterpolar\": [{\"marker\": {\"colorbar\": {\"outlinewidth\": 0, \"tickcolor\": \"rgb(36,36,36)\", \"ticklen\": 8, \"ticks\": \"outside\", \"tickwidth\": 2}}, \"type\": \"scatterpolar\"}], \"scatterpolargl\": [{\"marker\": {\"colorbar\": {\"outlinewidth\": 0, \"tickcolor\": \"rgb(36,36,36)\", \"ticklen\": 8, \"ticks\": \"outside\", \"tickwidth\": 2}}, \"type\": \"scatterpolargl\"}], \"scatterternary\": [{\"marker\": {\"colorbar\": {\"outlinewidth\": 0, \"tickcolor\": \"rgb(36,36,36)\", \"ticklen\": 8, \"ticks\": \"outside\", \"tickwidth\": 2}}, \"type\": \"scatterternary\"}], \"surface\": [{\"colorbar\": {\"outlinewidth\": 0, \"tickcolor\": \"rgb(36,36,36)\", \"ticklen\": 8, \"ticks\": \"outside\", \"tickwidth\": 2}, \"colorscale\": [[0.0, \"rgb(2,4,25)\"], [0.06274509803921569, \"rgb(24,15,41)\"], [0.12549019607843137, \"rgb(47,23,57)\"], [0.18823529411764706, \"rgb(71,28,72)\"], [0.25098039215686274, \"rgb(97,30,82)\"], [0.3137254901960784, \"rgb(123,30,89)\"], [0.3764705882352941, \"rgb(150,27,91)\"], [0.4392156862745098, \"rgb(177,22,88)\"], [0.5019607843137255, \"rgb(203,26,79)\"], [0.5647058823529412, \"rgb(223,47,67)\"], [0.6274509803921569, \"rgb(236,76,61)\"], [0.6901960784313725, \"rgb(242,107,73)\"], [0.7529411764705882, \"rgb(244,135,95)\"], [0.8156862745098039, \"rgb(245,162,122)\"], [0.8784313725490196, \"rgb(246,188,153)\"], [0.9411764705882353, \"rgb(247,212,187)\"], [1.0, \"rgb(250,234,220)\"]], \"type\": \"surface\"}], \"table\": [{\"cells\": {\"fill\": {\"color\": \"rgb(231,231,240)\"}, \"line\": {\"color\": \"white\"}}, \"header\": {\"fill\": {\"color\": \"rgb(183,183,191)\"}, \"line\": {\"color\": \"white\"}}, \"type\": \"table\"}]}, \"layout\": {\"annotationdefaults\": {\"arrowcolor\": \"rgb(67,103,167)\"}, \"autotypenumbers\": \"strict\", \"coloraxis\": {\"colorbar\": {\"outlinewidth\": 0, \"tickcolor\": \"rgb(36,36,36)\", \"ticklen\": 8, \"ticks\": \"outside\", \"tickwidth\": 2}}, \"colorscale\": {\"sequential\": [[0.0, \"rgb(2,4,25)\"], [0.06274509803921569, \"rgb(24,15,41)\"], [0.12549019607843137, \"rgb(47,23,57)\"], [0.18823529411764706, \"rgb(71,28,72)\"], [0.25098039215686274, \"rgb(97,30,82)\"], [0.3137254901960784, \"rgb(123,30,89)\"], [0.3764705882352941, \"rgb(150,27,91)\"], [0.4392156862745098, \"rgb(177,22,88)\"], [0.5019607843137255, \"rgb(203,26,79)\"], [0.5647058823529412, \"rgb(223,47,67)\"], [0.6274509803921569, \"rgb(236,76,61)\"], [0.6901960784313725, \"rgb(242,107,73)\"], [0.7529411764705882, \"rgb(244,135,95)\"], [0.8156862745098039, \"rgb(245,162,122)\"], [0.8784313725490196, \"rgb(246,188,153)\"], [0.9411764705882353, \"rgb(247,212,187)\"], [1.0, \"rgb(250,234,220)\"]], \"sequentialminus\": [[0.0, \"rgb(2,4,25)\"], [0.06274509803921569, \"rgb(24,15,41)\"], [0.12549019607843137, \"rgb(47,23,57)\"], [0.18823529411764706, \"rgb(71,28,72)\"], [0.25098039215686274, \"rgb(97,30,82)\"], [0.3137254901960784, \"rgb(123,30,89)\"], [0.3764705882352941, \"rgb(150,27,91)\"], [0.4392156862745098, \"rgb(177,22,88)\"], [0.5019607843137255, \"rgb(203,26,79)\"], [0.5647058823529412, \"rgb(223,47,67)\"], [0.6274509803921569, \"rgb(236,76,61)\"], [0.6901960784313725, \"rgb(242,107,73)\"], [0.7529411764705882, \"rgb(244,135,95)\"], [0.8156862745098039, \"rgb(245,162,122)\"], [0.8784313725490196, \"rgb(246,188,153)\"], [0.9411764705882353, \"rgb(247,212,187)\"], [1.0, \"rgb(250,234,220)\"]]}, \"colorway\": [\"rgb(76,114,176)\", \"rgb(221,132,82)\", \"rgb(85,168,104)\", \"rgb(196,78,82)\", \"rgb(129,114,179)\", \"rgb(147,120,96)\", \"rgb(218,139,195)\", \"rgb(140,140,140)\", \"rgb(204,185,116)\", \"rgb(100,181,205)\"], \"font\": {\"color\": \"rgb(36,36,36)\"}, \"geo\": {\"bgcolor\": \"white\", \"lakecolor\": \"white\", \"landcolor\": \"rgb(234,234,242)\", \"showlakes\": true, \"showland\": true, \"subunitcolor\": \"white\"}, \"hoverlabel\": {\"align\": \"left\"}, \"hovermode\": \"closest\", \"paper_bgcolor\": \"white\", \"plot_bgcolor\": \"rgb(234,234,242)\", \"polar\": {\"angularaxis\": {\"gridcolor\": \"white\", \"linecolor\": \"white\", \"showgrid\": true, \"ticks\": \"\"}, \"bgcolor\": \"rgb(234,234,242)\", \"radialaxis\": {\"gridcolor\": \"white\", \"linecolor\": \"white\", \"showgrid\": true, \"ticks\": \"\"}}, \"scene\": {\"xaxis\": {\"backgroundcolor\": \"rgb(234,234,242)\", \"gridcolor\": \"white\", \"gridwidth\": 2, \"linecolor\": \"white\", \"showbackground\": true, \"showgrid\": true, \"ticks\": \"\", \"zerolinecolor\": \"white\"}, \"yaxis\": {\"backgroundcolor\": \"rgb(234,234,242)\", \"gridcolor\": \"white\", \"gridwidth\": 2, \"linecolor\": \"white\", \"showbackground\": true, \"showgrid\": true, \"ticks\": \"\", \"zerolinecolor\": \"white\"}, \"zaxis\": {\"backgroundcolor\": \"rgb(234,234,242)\", \"gridcolor\": \"white\", \"gridwidth\": 2, \"linecolor\": \"white\", \"showbackground\": true, \"showgrid\": true, \"ticks\": \"\", \"zerolinecolor\": \"white\"}}, \"shapedefaults\": {\"fillcolor\": \"rgb(67,103,167)\", \"line\": {\"width\": 0}, \"opacity\": 0.5}, \"ternary\": {\"aaxis\": {\"gridcolor\": \"white\", \"linecolor\": \"white\", \"showgrid\": true, \"ticks\": \"\"}, \"baxis\": {\"gridcolor\": \"white\", \"linecolor\": \"white\", \"showgrid\": true, \"ticks\": \"\"}, \"bgcolor\": \"rgb(234,234,242)\", \"caxis\": {\"gridcolor\": \"white\", \"linecolor\": \"white\", \"showgrid\": true, \"ticks\": \"\"}}, \"xaxis\": {\"automargin\": true, \"gridcolor\": \"white\", \"linecolor\": \"white\", \"showgrid\": true, \"ticks\": \"\", \"title\": {\"standoff\": 15}, \"zerolinecolor\": \"white\"}, \"yaxis\": {\"automargin\": true, \"gridcolor\": \"white\", \"linecolor\": \"white\", \"showgrid\": true, \"ticks\": \"\", \"title\": {\"standoff\": 15}, \"zerolinecolor\": \"white\"}}}, \"title\": {\"font\": {\"size\": 25}, \"text\": \"<b>Quality of Shots Taken (xG) vs Quality of Shots Conceded (xGA)</b><br>La Liga 2020-2021 (Fixtures 1-20)\", \"xanchor\": \"center\", \"y\": 0.95, \"yanchor\": \"top\"}, \"width\": 950, \"xaxis\": {\"anchor\": \"y\", \"domain\": [0.0, 0.235], \"title\": {\"text\": \"xG_per90\"}}, \"xaxis2\": {\"anchor\": \"y2\", \"domain\": [0.255, 0.49], \"matches\": \"x\", \"title\": {\"text\": \"xG_per90\"}}, \"xaxis3\": {\"anchor\": \"y3\", \"domain\": [0.51, 0.745], \"matches\": \"x\", \"title\": {\"text\": \"xG_per90\"}}, \"xaxis4\": {\"anchor\": \"y4\", \"domain\": [0.7649999999999999, 0.9999999999999999], \"matches\": \"x\", \"title\": {\"text\": \"xG_per90\"}}, \"yaxis\": {\"anchor\": \"x\", \"autorange\": \"reversed\", \"domain\": [0.0, 1.0], \"title\": {\"text\": \"xGA_per90\"}}, \"yaxis2\": {\"anchor\": \"x2\", \"autorange\": \"reversed\", \"domain\": [0.0, 1.0], \"matches\": \"y\", \"showticklabels\": false}, \"yaxis3\": {\"anchor\": \"x3\", \"autorange\": \"reversed\", \"domain\": [0.0, 1.0], \"matches\": \"y\", \"showticklabels\": false}, \"yaxis4\": {\"anchor\": \"x4\", \"autorange\": \"reversed\", \"domain\": [0.0, 1.0], \"matches\": \"y\", \"showticklabels\": false}},                        {\"responsive\": true}                    ).then(function(){\n",
       "                            \n",
       "var gd = document.getElementById('47f84ee9-a747-4e37-8f32-66aa2a7a2501');\n",
       "var x = new MutationObserver(function (mutations, observer) {{\n",
       "        var display = window.getComputedStyle(gd).display;\n",
       "        if (!display || display === 'none') {{\n",
       "            console.log([gd, 'removed!']);\n",
       "            Plotly.purge(gd);\n",
       "            observer.disconnect();\n",
       "        }}\n",
       "}});\n",
       "\n",
       "// Listen for the removal of the full notebook cells\n",
       "var notebookContainer = gd.closest('#notebook-container');\n",
       "if (notebookContainer) {{\n",
       "    x.observe(notebookContainer, {childList: true});\n",
       "}}\n",
       "\n",
       "// Listen for the clearing of the current output cell\n",
       "var outputEl = gd.closest('.output');\n",
       "if (outputEl) {{\n",
       "    x.observe(outputEl, {childList: true});\n",
       "}}\n",
       "\n",
       "                        })                };                });            </script>        </div>"
      ]
     },
     "metadata": {},
     "output_type": "display_data"
    }
   ],
   "source": [
    "fig = px.scatter(laliga_stats, x= 'xG_per90', y='xGA_per90', size= 'Pts', color= 'Squad', \n",
    "                facet_col= 'Status_xG_xGA', opacity= 1, hover_name= 'Squad', hover_data= ['Posicion'], \n",
    "                color_discrete_sequence=px.colors.qualitative.Dark24,\n",
    "                width= 950, template= 'seaborn',                \n",
    "                category_orders= {'Status_xG_xGA': ['Good xG | Good xGA', 'Good xG | Bad xGA',\n",
    "                                                    'Bad xG | Good xGA', 'Bad xG | Bad xGA']},\n",
    "                title= '<b>Quality of Shots Taken (xG) vs Quality of Shots Conceded (xGA)</b><br>La Liga 2020-2021 (Fixtures 1-20)')\n",
    "\n",
    "fig.for_each_annotation(lambda a: a.update(text=a.text.split(\"=\")[1]))\n",
    "fig.update_layout(title={'y': 0.95,\n",
    "                        'xanchor': 'center',\n",
    "                        'yanchor': 'top'},\n",
    "                  title_font= dict(size=25))\n",
    "\n",
    "fig.update_yaxes(autorange=\"reversed\")\n",
    "\n",
    "fig.show()"
   ]
  },
  {
   "cell_type": "code",
   "execution_count": 70,
   "metadata": {},
   "outputs": [
    {
     "data": {
      "application/vnd.plotly.v1+json": {
       "config": {
        "plotlyServerURL": "https://plot.ly"
       },
       "data": [
        {
         "customdata": [
          [
           1
          ]
         ],
         "hovertemplate": "<b>%{hovertext}</b><br><br>Squad=Atlético Madrid<br>Status_GF_GA=Good Attack | Good Defense<br>GF_per90=%{x}<br>GA_per90=%{y}<br>Pts=%{marker.size}<br>Posicion=%{customdata[0]}<extra></extra>",
         "hovertext": [
          "Atlético Madrid"
         ],
         "legendgroup": "Atlético Madrid",
         "marker": {
          "color": "#2E91E5",
          "opacity": 1,
          "size": [
           47
          ],
          "sizemode": "area",
          "sizeref": 0.1175,
          "symbol": "circle"
         },
         "mode": "markers",
         "name": "Atlético Madrid",
         "orientation": "v",
         "showlegend": true,
         "type": "scatter",
         "x": [
          2
         ],
         "xaxis": "x",
         "y": [
          0.44
         ],
         "yaxis": "y"
        },
        {
         "customdata": [
          [
           2
          ]
         ],
         "hovertemplate": "<b>%{hovertext}</b><br><br>Squad=Real Madrid<br>Status_GF_GA=Good Attack | Good Defense<br>GF_per90=%{x}<br>GA_per90=%{y}<br>Pts=%{marker.size}<br>Posicion=%{customdata[0]}<extra></extra>",
         "hovertext": [
          "Real Madrid"
         ],
         "legendgroup": "Real Madrid",
         "marker": {
          "color": "#E15F99",
          "opacity": 1,
          "size": [
           40
          ],
          "sizemode": "area",
          "sizeref": 0.1175,
          "symbol": "circle"
         },
         "mode": "markers",
         "name": "Real Madrid",
         "orientation": "v",
         "showlegend": true,
         "type": "scatter",
         "x": [
          1.79
         ],
         "xaxis": "x",
         "y": [
          0.84
         ],
         "yaxis": "y"
        },
        {
         "customdata": [
          [
           3
          ]
         ],
         "hovertemplate": "<b>%{hovertext}</b><br><br>Squad=Barcelona<br>Status_GF_GA=Good Attack | Good Defense<br>GF_per90=%{x}<br>GA_per90=%{y}<br>Pts=%{marker.size}<br>Posicion=%{customdata[0]}<extra></extra>",
         "hovertext": [
          "Barcelona"
         ],
         "legendgroup": "Barcelona",
         "marker": {
          "color": "#1CA71C",
          "opacity": 1,
          "size": [
           37
          ],
          "sizemode": "area",
          "sizeref": 0.1175,
          "symbol": "circle"
         },
         "mode": "markers",
         "name": "Barcelona",
         "orientation": "v",
         "showlegend": true,
         "type": "scatter",
         "x": [
          2.05
         ],
         "xaxis": "x",
         "y": [
          0.89
         ],
         "yaxis": "y"
        },
        {
         "customdata": [
          [
           4
          ]
         ],
         "hovertemplate": "<b>%{hovertext}</b><br><br>Squad=Sevilla<br>Status_GF_GA=Good Attack | Good Defense<br>GF_per90=%{x}<br>GA_per90=%{y}<br>Pts=%{marker.size}<br>Posicion=%{customdata[0]}<extra></extra>",
         "hovertext": [
          "Sevilla"
         ],
         "legendgroup": "Sevilla",
         "marker": {
          "color": "#FB0D0D",
          "opacity": 1,
          "size": [
           36
          ],
          "sizemode": "area",
          "sizeref": 0.1175,
          "symbol": "circle"
         },
         "mode": "markers",
         "name": "Sevilla",
         "orientation": "v",
         "showlegend": true,
         "type": "scatter",
         "x": [
          1.37
         ],
         "xaxis": "x",
         "y": [
          0.84
         ],
         "yaxis": "y"
        },
        {
         "customdata": [
          [
           5
          ]
         ],
         "hovertemplate": "<b>%{hovertext}</b><br><br>Squad=Villarreal<br>Status_GF_GA=Good Attack | Good Defense<br>GF_per90=%{x}<br>GA_per90=%{y}<br>Pts=%{marker.size}<br>Posicion=%{customdata[0]}<extra></extra>",
         "hovertext": [
          "Villarreal"
         ],
         "legendgroup": "Villarreal",
         "marker": {
          "color": "#DA16FF",
          "opacity": 1,
          "size": [
           34
          ],
          "sizemode": "area",
          "sizeref": 0.1175,
          "symbol": "circle"
         },
         "mode": "markers",
         "name": "Villarreal",
         "orientation": "v",
         "showlegend": true,
         "type": "scatter",
         "x": [
          1.4
         ],
         "xaxis": "x",
         "y": [
          0.95
         ],
         "yaxis": "y"
        },
        {
         "customdata": [
          [
           6
          ]
         ],
         "hovertemplate": "<b>%{hovertext}</b><br><br>Squad=Real Sociedad<br>Status_GF_GA=Good Attack | Good Defense<br>GF_per90=%{x}<br>GA_per90=%{y}<br>Pts=%{marker.size}<br>Posicion=%{customdata[0]}<extra></extra>",
         "hovertext": [
          "Real Sociedad"
         ],
         "legendgroup": "Real Sociedad",
         "marker": {
          "color": "#222A2A",
          "opacity": 1,
          "size": [
           31
          ],
          "sizemode": "area",
          "sizeref": 0.1175,
          "symbol": "circle"
         },
         "mode": "markers",
         "name": "Real Sociedad",
         "orientation": "v",
         "showlegend": true,
         "type": "scatter",
         "x": [
          1.55
         ],
         "xaxis": "x",
         "y": [
          0.9
         ],
         "yaxis": "y"
        },
        {
         "customdata": [
          [
           7
          ]
         ],
         "hovertemplate": "<b>%{hovertext}</b><br><br>Squad=Granada<br>Status_GF_GA=Bad Attack | Bad Defense<br>GF_per90=%{x}<br>GA_per90=%{y}<br>Pts=%{marker.size}<br>Posicion=%{customdata[0]}<extra></extra>",
         "hovertext": [
          "Granada"
         ],
         "legendgroup": "Granada",
         "marker": {
          "color": "#B68100",
          "opacity": 1,
          "size": [
           28
          ],
          "sizemode": "area",
          "sizeref": 0.1175,
          "symbol": "circle"
         },
         "mode": "markers",
         "name": "Granada",
         "orientation": "v",
         "showlegend": true,
         "type": "scatter",
         "x": [
          1.2
         ],
         "xaxis": "x4",
         "y": [
          1.7
         ],
         "yaxis": "y4"
        },
        {
         "customdata": [
          [
           8
          ]
         ],
         "hovertemplate": "<b>%{hovertext}</b><br><br>Squad=Betis<br>Status_GF_GA=Good Attack | Bad Defense<br>GF_per90=%{x}<br>GA_per90=%{y}<br>Pts=%{marker.size}<br>Posicion=%{customdata[0]}<extra></extra>",
         "hovertext": [
          "Betis"
         ],
         "legendgroup": "Betis",
         "marker": {
          "color": "#750D86",
          "opacity": 1,
          "size": [
           27
          ],
          "sizemode": "area",
          "sizeref": 0.1175,
          "symbol": "circle"
         },
         "mode": "markers",
         "name": "Betis",
         "orientation": "v",
         "showlegend": true,
         "type": "scatter",
         "x": [
          1.3
         ],
         "xaxis": "x2",
         "y": [
          1.7
         ],
         "yaxis": "y2"
        },
        {
         "customdata": [
          [
           9
          ]
         ],
         "hovertemplate": "<b>%{hovertext}</b><br><br>Squad=Celta Vigo<br>Status_GF_GA=Bad Attack | Bad Defense<br>GF_per90=%{x}<br>GA_per90=%{y}<br>Pts=%{marker.size}<br>Posicion=%{customdata[0]}<extra></extra>",
         "hovertext": [
          "Celta Vigo"
         ],
         "legendgroup": "Celta Vigo",
         "marker": {
          "color": "#EB663B",
          "opacity": 1,
          "size": [
           24
          ],
          "sizemode": "area",
          "sizeref": 0.1175,
          "symbol": "circle"
         },
         "mode": "markers",
         "name": "Celta Vigo",
         "orientation": "v",
         "showlegend": true,
         "type": "scatter",
         "x": [
          1.2
         ],
         "xaxis": "x4",
         "y": [
          1.55
         ],
         "yaxis": "y4"
        },
        {
         "customdata": [
          [
           10
          ]
         ],
         "hovertemplate": "<b>%{hovertext}</b><br><br>Squad=Cádiz<br>Status_GF_GA=Bad Attack | Bad Defense<br>GF_per90=%{x}<br>GA_per90=%{y}<br>Pts=%{marker.size}<br>Posicion=%{customdata[0]}<extra></extra>",
         "hovertext": [
          "Cádiz"
         ],
         "legendgroup": "Cádiz",
         "marker": {
          "color": "#511CFB",
          "opacity": 1,
          "size": [
           24
          ],
          "sizemode": "area",
          "sizeref": 0.1175,
          "symbol": "circle"
         },
         "mode": "markers",
         "name": "Cádiz",
         "orientation": "v",
         "showlegend": true,
         "type": "scatter",
         "x": [
          0.85
         ],
         "xaxis": "x4",
         "y": [
          1.35
         ],
         "yaxis": "y4"
        },
        {
         "customdata": [
          [
           11
          ]
         ],
         "hovertemplate": "<b>%{hovertext}</b><br><br>Squad=Levante<br>Status_GF_GA=Good Attack | Bad Defense<br>GF_per90=%{x}<br>GA_per90=%{y}<br>Pts=%{marker.size}<br>Posicion=%{customdata[0]}<extra></extra>",
         "hovertext": [
          "Levante"
         ],
         "legendgroup": "Levante",
         "marker": {
          "color": "#00A08B",
          "opacity": 1,
          "size": [
           23
          ],
          "sizemode": "area",
          "sizeref": 0.1175,
          "symbol": "circle"
         },
         "mode": "markers",
         "name": "Levante",
         "orientation": "v",
         "showlegend": true,
         "type": "scatter",
         "x": [
          1.42
         ],
         "xaxis": "x2",
         "y": [
          1.47
         ],
         "yaxis": "y2"
        },
        {
         "customdata": [
          [
           12
          ]
         ],
         "hovertemplate": "<b>%{hovertext}</b><br><br>Squad=Getafe<br>Status_GF_GA=Bad Attack | Good Defense<br>GF_per90=%{x}<br>GA_per90=%{y}<br>Pts=%{marker.size}<br>Posicion=%{customdata[0]}<extra></extra>",
         "hovertext": [
          "Getafe"
         ],
         "legendgroup": "Getafe",
         "marker": {
          "color": "#FB00D1",
          "opacity": 1,
          "size": [
           23
          ],
          "sizemode": "area",
          "sizeref": 0.1175,
          "symbol": "circle"
         },
         "mode": "markers",
         "name": "Getafe",
         "orientation": "v",
         "showlegend": true,
         "type": "scatter",
         "x": [
          0.89
         ],
         "xaxis": "x3",
         "y": [
          1
         ],
         "yaxis": "y3"
        },
        {
         "customdata": [
          [
           13
          ]
         ],
         "hovertemplate": "<b>%{hovertext}</b><br><br>Squad=Athletic Club<br>Status_GF_GA=Bad Attack | Good Defense<br>GF_per90=%{x}<br>GA_per90=%{y}<br>Pts=%{marker.size}<br>Posicion=%{customdata[0]}<extra></extra>",
         "hovertext": [
          "Athletic Club"
         ],
         "legendgroup": "Athletic Club",
         "marker": {
          "color": "#FC0080",
          "opacity": 1,
          "size": [
           21
          ],
          "sizemode": "area",
          "sizeref": 0.1175,
          "symbol": "circle"
         },
         "mode": "markers",
         "name": "Athletic Club",
         "orientation": "v",
         "showlegend": true,
         "type": "scatter",
         "x": [
          1.17
         ],
         "xaxis": "x3",
         "y": [
          1.22
         ],
         "yaxis": "y3"
        },
        {
         "customdata": [
          [
           14
          ]
         ],
         "hovertemplate": "<b>%{hovertext}</b><br><br>Squad=Valencia<br>Status_GF_GA=Good Attack | Bad Defense<br>GF_per90=%{x}<br>GA_per90=%{y}<br>Pts=%{marker.size}<br>Posicion=%{customdata[0]}<extra></extra>",
         "hovertext": [
          "Valencia"
         ],
         "legendgroup": "Valencia",
         "marker": {
          "color": "#B2828D",
          "opacity": 1,
          "size": [
           20
          ],
          "sizemode": "area",
          "sizeref": 0.1175,
          "symbol": "circle"
         },
         "mode": "markers",
         "name": "Valencia",
         "orientation": "v",
         "showlegend": true,
         "type": "scatter",
         "x": [
          1.3
         ],
         "xaxis": "x2",
         "y": [
          1.45
         ],
         "yaxis": "y2"
        },
        {
         "customdata": [
          [
           15
          ]
         ],
         "hovertemplate": "<b>%{hovertext}</b><br><br>Squad=Eibar<br>Status_GF_GA=Bad Attack | Good Defense<br>GF_per90=%{x}<br>GA_per90=%{y}<br>Pts=%{marker.size}<br>Posicion=%{customdata[0]}<extra></extra>",
         "hovertext": [
          "Eibar"
         ],
         "legendgroup": "Eibar",
         "marker": {
          "color": "#6C7C32",
          "opacity": 1,
          "size": [
           20
          ],
          "sizemode": "area",
          "sizeref": 0.1175,
          "symbol": "circle"
         },
         "mode": "markers",
         "name": "Eibar",
         "orientation": "v",
         "showlegend": true,
         "type": "scatter",
         "x": [
          0.85
         ],
         "xaxis": "x3",
         "y": [
          1.05
         ],
         "yaxis": "y3"
        },
        {
         "customdata": [
          [
           16
          ]
         ],
         "hovertemplate": "<b>%{hovertext}</b><br><br>Squad=Valladolid<br>Status_GF_GA=Bad Attack | Bad Defense<br>GF_per90=%{x}<br>GA_per90=%{y}<br>Pts=%{marker.size}<br>Posicion=%{customdata[0]}<extra></extra>",
         "hovertext": [
          "Valladolid"
         ],
         "legendgroup": "Valladolid",
         "marker": {
          "color": "#778AAE",
          "opacity": 1,
          "size": [
           20
          ],
          "sizemode": "area",
          "sizeref": 0.1175,
          "symbol": "circle"
         },
         "mode": "markers",
         "name": "Valladolid",
         "orientation": "v",
         "showlegend": true,
         "type": "scatter",
         "x": [
          1
         ],
         "xaxis": "x4",
         "y": [
          1.45
         ],
         "yaxis": "y4"
        },
        {
         "customdata": [
          [
           17
          ]
         ],
         "hovertemplate": "<b>%{hovertext}</b><br><br>Squad=Osasuna<br>Status_GF_GA=Bad Attack | Bad Defense<br>GF_per90=%{x}<br>GA_per90=%{y}<br>Pts=%{marker.size}<br>Posicion=%{customdata[0]}<extra></extra>",
         "hovertext": [
          "Osasuna"
         ],
         "legendgroup": "Osasuna",
         "marker": {
          "color": "#862A16",
          "opacity": 1,
          "size": [
           19
          ],
          "sizemode": "area",
          "sizeref": 0.1175,
          "symbol": "circle"
         },
         "mode": "markers",
         "name": "Osasuna",
         "orientation": "v",
         "showlegend": true,
         "type": "scatter",
         "x": [
          0.95
         ],
         "xaxis": "x4",
         "y": [
          1.45
         ],
         "yaxis": "y4"
        },
        {
         "customdata": [
          [
           18
          ]
         ],
         "hovertemplate": "<b>%{hovertext}</b><br><br>Squad=Alavés<br>Status_GF_GA=Bad Attack | Bad Defense<br>GF_per90=%{x}<br>GA_per90=%{y}<br>Pts=%{marker.size}<br>Posicion=%{customdata[0]}<extra></extra>",
         "hovertext": [
          "Alavés"
         ],
         "legendgroup": "Alavés",
         "marker": {
          "color": "#A777F1",
          "opacity": 1,
          "size": [
           18
          ],
          "sizemode": "area",
          "sizeref": 0.1175,
          "symbol": "circle"
         },
         "mode": "markers",
         "name": "Alavés",
         "orientation": "v",
         "showlegend": true,
         "type": "scatter",
         "x": [
          0.9
         ],
         "xaxis": "x4",
         "y": [
          1.45
         ],
         "yaxis": "y4"
        },
        {
         "customdata": [
          [
           19
          ]
         ],
         "hovertemplate": "<b>%{hovertext}</b><br><br>Squad=Elche<br>Status_GF_GA=Bad Attack | Bad Defense<br>GF_per90=%{x}<br>GA_per90=%{y}<br>Pts=%{marker.size}<br>Posicion=%{customdata[0]}<extra></extra>",
         "hovertext": [
          "Elche"
         ],
         "legendgroup": "Elche",
         "marker": {
          "color": "#620042",
          "opacity": 1,
          "size": [
           17
          ],
          "sizemode": "area",
          "sizeref": 0.1175,
          "symbol": "circle"
         },
         "mode": "markers",
         "name": "Elche",
         "orientation": "v",
         "showlegend": true,
         "type": "scatter",
         "x": [
          0.89
         ],
         "xaxis": "x4",
         "y": [
          1.39
         ],
         "yaxis": "y4"
        },
        {
         "customdata": [
          [
           20
          ]
         ],
         "hovertemplate": "<b>%{hovertext}</b><br><br>Squad=Huesca<br>Status_GF_GA=Bad Attack | Bad Defense<br>GF_per90=%{x}<br>GA_per90=%{y}<br>Pts=%{marker.size}<br>Posicion=%{customdata[0]}<extra></extra>",
         "hovertext": [
          "Huesca"
         ],
         "legendgroup": "Huesca",
         "marker": {
          "color": "#1616A7",
          "opacity": 1,
          "size": [
           13
          ],
          "sizemode": "area",
          "sizeref": 0.1175,
          "symbol": "circle"
         },
         "mode": "markers",
         "name": "Huesca",
         "orientation": "v",
         "showlegend": true,
         "type": "scatter",
         "x": [
          0.7
         ],
         "xaxis": "x4",
         "y": [
          1.45
         ],
         "yaxis": "y4"
        }
       ],
       "layout": {
        "annotations": [
         {
          "font": {},
          "showarrow": false,
          "text": "Good Attack | Good Defense",
          "x": 0.1175,
          "xanchor": "center",
          "xref": "paper",
          "y": 1,
          "yanchor": "bottom",
          "yref": "paper"
         },
         {
          "font": {},
          "showarrow": false,
          "text": "Good Attack | Bad Defense",
          "x": 0.3725,
          "xanchor": "center",
          "xref": "paper",
          "y": 1,
          "yanchor": "bottom",
          "yref": "paper"
         },
         {
          "font": {},
          "showarrow": false,
          "text": "Bad Attack | Good Defense",
          "x": 0.6275,
          "xanchor": "center",
          "xref": "paper",
          "y": 1,
          "yanchor": "bottom",
          "yref": "paper"
         },
         {
          "font": {},
          "showarrow": false,
          "text": "Bad Attack | Bad Defense",
          "x": 0.8824999999999998,
          "xanchor": "center",
          "xref": "paper",
          "y": 1,
          "yanchor": "bottom",
          "yref": "paper"
         }
        ],
        "legend": {
         "itemsizing": "constant",
         "title": {
          "text": "Squad"
         },
         "tracegroupgap": 0
        },
        "template": {
         "data": {
          "bar": [
           {
            "error_x": {
             "color": "rgb(36,36,36)"
            },
            "error_y": {
             "color": "rgb(36,36,36)"
            },
            "marker": {
             "line": {
              "color": "rgb(234,234,242)",
              "width": 0.5
             }
            },
            "type": "bar"
           }
          ],
          "barpolar": [
           {
            "marker": {
             "line": {
              "color": "rgb(234,234,242)",
              "width": 0.5
             }
            },
            "type": "barpolar"
           }
          ],
          "carpet": [
           {
            "aaxis": {
             "endlinecolor": "rgb(36,36,36)",
             "gridcolor": "white",
             "linecolor": "white",
             "minorgridcolor": "white",
             "startlinecolor": "rgb(36,36,36)"
            },
            "baxis": {
             "endlinecolor": "rgb(36,36,36)",
             "gridcolor": "white",
             "linecolor": "white",
             "minorgridcolor": "white",
             "startlinecolor": "rgb(36,36,36)"
            },
            "type": "carpet"
           }
          ],
          "choropleth": [
           {
            "colorbar": {
             "outlinewidth": 0,
             "tickcolor": "rgb(36,36,36)",
             "ticklen": 8,
             "ticks": "outside",
             "tickwidth": 2
            },
            "type": "choropleth"
           }
          ],
          "contour": [
           {
            "colorbar": {
             "outlinewidth": 0,
             "tickcolor": "rgb(36,36,36)",
             "ticklen": 8,
             "ticks": "outside",
             "tickwidth": 2
            },
            "colorscale": [
             [
              0,
              "rgb(2,4,25)"
             ],
             [
              0.06274509803921569,
              "rgb(24,15,41)"
             ],
             [
              0.12549019607843137,
              "rgb(47,23,57)"
             ],
             [
              0.18823529411764706,
              "rgb(71,28,72)"
             ],
             [
              0.25098039215686274,
              "rgb(97,30,82)"
             ],
             [
              0.3137254901960784,
              "rgb(123,30,89)"
             ],
             [
              0.3764705882352941,
              "rgb(150,27,91)"
             ],
             [
              0.4392156862745098,
              "rgb(177,22,88)"
             ],
             [
              0.5019607843137255,
              "rgb(203,26,79)"
             ],
             [
              0.5647058823529412,
              "rgb(223,47,67)"
             ],
             [
              0.6274509803921569,
              "rgb(236,76,61)"
             ],
             [
              0.6901960784313725,
              "rgb(242,107,73)"
             ],
             [
              0.7529411764705882,
              "rgb(244,135,95)"
             ],
             [
              0.8156862745098039,
              "rgb(245,162,122)"
             ],
             [
              0.8784313725490196,
              "rgb(246,188,153)"
             ],
             [
              0.9411764705882353,
              "rgb(247,212,187)"
             ],
             [
              1,
              "rgb(250,234,220)"
             ]
            ],
            "type": "contour"
           }
          ],
          "contourcarpet": [
           {
            "colorbar": {
             "outlinewidth": 0,
             "tickcolor": "rgb(36,36,36)",
             "ticklen": 8,
             "ticks": "outside",
             "tickwidth": 2
            },
            "type": "contourcarpet"
           }
          ],
          "heatmap": [
           {
            "colorbar": {
             "outlinewidth": 0,
             "tickcolor": "rgb(36,36,36)",
             "ticklen": 8,
             "ticks": "outside",
             "tickwidth": 2
            },
            "colorscale": [
             [
              0,
              "rgb(2,4,25)"
             ],
             [
              0.06274509803921569,
              "rgb(24,15,41)"
             ],
             [
              0.12549019607843137,
              "rgb(47,23,57)"
             ],
             [
              0.18823529411764706,
              "rgb(71,28,72)"
             ],
             [
              0.25098039215686274,
              "rgb(97,30,82)"
             ],
             [
              0.3137254901960784,
              "rgb(123,30,89)"
             ],
             [
              0.3764705882352941,
              "rgb(150,27,91)"
             ],
             [
              0.4392156862745098,
              "rgb(177,22,88)"
             ],
             [
              0.5019607843137255,
              "rgb(203,26,79)"
             ],
             [
              0.5647058823529412,
              "rgb(223,47,67)"
             ],
             [
              0.6274509803921569,
              "rgb(236,76,61)"
             ],
             [
              0.6901960784313725,
              "rgb(242,107,73)"
             ],
             [
              0.7529411764705882,
              "rgb(244,135,95)"
             ],
             [
              0.8156862745098039,
              "rgb(245,162,122)"
             ],
             [
              0.8784313725490196,
              "rgb(246,188,153)"
             ],
             [
              0.9411764705882353,
              "rgb(247,212,187)"
             ],
             [
              1,
              "rgb(250,234,220)"
             ]
            ],
            "type": "heatmap"
           }
          ],
          "heatmapgl": [
           {
            "colorbar": {
             "outlinewidth": 0,
             "tickcolor": "rgb(36,36,36)",
             "ticklen": 8,
             "ticks": "outside",
             "tickwidth": 2
            },
            "colorscale": [
             [
              0,
              "rgb(2,4,25)"
             ],
             [
              0.06274509803921569,
              "rgb(24,15,41)"
             ],
             [
              0.12549019607843137,
              "rgb(47,23,57)"
             ],
             [
              0.18823529411764706,
              "rgb(71,28,72)"
             ],
             [
              0.25098039215686274,
              "rgb(97,30,82)"
             ],
             [
              0.3137254901960784,
              "rgb(123,30,89)"
             ],
             [
              0.3764705882352941,
              "rgb(150,27,91)"
             ],
             [
              0.4392156862745098,
              "rgb(177,22,88)"
             ],
             [
              0.5019607843137255,
              "rgb(203,26,79)"
             ],
             [
              0.5647058823529412,
              "rgb(223,47,67)"
             ],
             [
              0.6274509803921569,
              "rgb(236,76,61)"
             ],
             [
              0.6901960784313725,
              "rgb(242,107,73)"
             ],
             [
              0.7529411764705882,
              "rgb(244,135,95)"
             ],
             [
              0.8156862745098039,
              "rgb(245,162,122)"
             ],
             [
              0.8784313725490196,
              "rgb(246,188,153)"
             ],
             [
              0.9411764705882353,
              "rgb(247,212,187)"
             ],
             [
              1,
              "rgb(250,234,220)"
             ]
            ],
            "type": "heatmapgl"
           }
          ],
          "histogram": [
           {
            "marker": {
             "colorbar": {
              "outlinewidth": 0,
              "tickcolor": "rgb(36,36,36)",
              "ticklen": 8,
              "ticks": "outside",
              "tickwidth": 2
             }
            },
            "type": "histogram"
           }
          ],
          "histogram2d": [
           {
            "colorbar": {
             "outlinewidth": 0,
             "tickcolor": "rgb(36,36,36)",
             "ticklen": 8,
             "ticks": "outside",
             "tickwidth": 2
            },
            "colorscale": [
             [
              0,
              "rgb(2,4,25)"
             ],
             [
              0.06274509803921569,
              "rgb(24,15,41)"
             ],
             [
              0.12549019607843137,
              "rgb(47,23,57)"
             ],
             [
              0.18823529411764706,
              "rgb(71,28,72)"
             ],
             [
              0.25098039215686274,
              "rgb(97,30,82)"
             ],
             [
              0.3137254901960784,
              "rgb(123,30,89)"
             ],
             [
              0.3764705882352941,
              "rgb(150,27,91)"
             ],
             [
              0.4392156862745098,
              "rgb(177,22,88)"
             ],
             [
              0.5019607843137255,
              "rgb(203,26,79)"
             ],
             [
              0.5647058823529412,
              "rgb(223,47,67)"
             ],
             [
              0.6274509803921569,
              "rgb(236,76,61)"
             ],
             [
              0.6901960784313725,
              "rgb(242,107,73)"
             ],
             [
              0.7529411764705882,
              "rgb(244,135,95)"
             ],
             [
              0.8156862745098039,
              "rgb(245,162,122)"
             ],
             [
              0.8784313725490196,
              "rgb(246,188,153)"
             ],
             [
              0.9411764705882353,
              "rgb(247,212,187)"
             ],
             [
              1,
              "rgb(250,234,220)"
             ]
            ],
            "type": "histogram2d"
           }
          ],
          "histogram2dcontour": [
           {
            "colorbar": {
             "outlinewidth": 0,
             "tickcolor": "rgb(36,36,36)",
             "ticklen": 8,
             "ticks": "outside",
             "tickwidth": 2
            },
            "colorscale": [
             [
              0,
              "rgb(2,4,25)"
             ],
             [
              0.06274509803921569,
              "rgb(24,15,41)"
             ],
             [
              0.12549019607843137,
              "rgb(47,23,57)"
             ],
             [
              0.18823529411764706,
              "rgb(71,28,72)"
             ],
             [
              0.25098039215686274,
              "rgb(97,30,82)"
             ],
             [
              0.3137254901960784,
              "rgb(123,30,89)"
             ],
             [
              0.3764705882352941,
              "rgb(150,27,91)"
             ],
             [
              0.4392156862745098,
              "rgb(177,22,88)"
             ],
             [
              0.5019607843137255,
              "rgb(203,26,79)"
             ],
             [
              0.5647058823529412,
              "rgb(223,47,67)"
             ],
             [
              0.6274509803921569,
              "rgb(236,76,61)"
             ],
             [
              0.6901960784313725,
              "rgb(242,107,73)"
             ],
             [
              0.7529411764705882,
              "rgb(244,135,95)"
             ],
             [
              0.8156862745098039,
              "rgb(245,162,122)"
             ],
             [
              0.8784313725490196,
              "rgb(246,188,153)"
             ],
             [
              0.9411764705882353,
              "rgb(247,212,187)"
             ],
             [
              1,
              "rgb(250,234,220)"
             ]
            ],
            "type": "histogram2dcontour"
           }
          ],
          "mesh3d": [
           {
            "colorbar": {
             "outlinewidth": 0,
             "tickcolor": "rgb(36,36,36)",
             "ticklen": 8,
             "ticks": "outside",
             "tickwidth": 2
            },
            "type": "mesh3d"
           }
          ],
          "parcoords": [
           {
            "line": {
             "colorbar": {
              "outlinewidth": 0,
              "tickcolor": "rgb(36,36,36)",
              "ticklen": 8,
              "ticks": "outside",
              "tickwidth": 2
             }
            },
            "type": "parcoords"
           }
          ],
          "pie": [
           {
            "automargin": true,
            "type": "pie"
           }
          ],
          "scatter": [
           {
            "marker": {
             "colorbar": {
              "outlinewidth": 0,
              "tickcolor": "rgb(36,36,36)",
              "ticklen": 8,
              "ticks": "outside",
              "tickwidth": 2
             }
            },
            "type": "scatter"
           }
          ],
          "scatter3d": [
           {
            "line": {
             "colorbar": {
              "outlinewidth": 0,
              "tickcolor": "rgb(36,36,36)",
              "ticklen": 8,
              "ticks": "outside",
              "tickwidth": 2
             }
            },
            "marker": {
             "colorbar": {
              "outlinewidth": 0,
              "tickcolor": "rgb(36,36,36)",
              "ticklen": 8,
              "ticks": "outside",
              "tickwidth": 2
             }
            },
            "type": "scatter3d"
           }
          ],
          "scattercarpet": [
           {
            "marker": {
             "colorbar": {
              "outlinewidth": 0,
              "tickcolor": "rgb(36,36,36)",
              "ticklen": 8,
              "ticks": "outside",
              "tickwidth": 2
             }
            },
            "type": "scattercarpet"
           }
          ],
          "scattergeo": [
           {
            "marker": {
             "colorbar": {
              "outlinewidth": 0,
              "tickcolor": "rgb(36,36,36)",
              "ticklen": 8,
              "ticks": "outside",
              "tickwidth": 2
             }
            },
            "type": "scattergeo"
           }
          ],
          "scattergl": [
           {
            "marker": {
             "colorbar": {
              "outlinewidth": 0,
              "tickcolor": "rgb(36,36,36)",
              "ticklen": 8,
              "ticks": "outside",
              "tickwidth": 2
             }
            },
            "type": "scattergl"
           }
          ],
          "scattermapbox": [
           {
            "marker": {
             "colorbar": {
              "outlinewidth": 0,
              "tickcolor": "rgb(36,36,36)",
              "ticklen": 8,
              "ticks": "outside",
              "tickwidth": 2
             }
            },
            "type": "scattermapbox"
           }
          ],
          "scatterpolar": [
           {
            "marker": {
             "colorbar": {
              "outlinewidth": 0,
              "tickcolor": "rgb(36,36,36)",
              "ticklen": 8,
              "ticks": "outside",
              "tickwidth": 2
             }
            },
            "type": "scatterpolar"
           }
          ],
          "scatterpolargl": [
           {
            "marker": {
             "colorbar": {
              "outlinewidth": 0,
              "tickcolor": "rgb(36,36,36)",
              "ticklen": 8,
              "ticks": "outside",
              "tickwidth": 2
             }
            },
            "type": "scatterpolargl"
           }
          ],
          "scatterternary": [
           {
            "marker": {
             "colorbar": {
              "outlinewidth": 0,
              "tickcolor": "rgb(36,36,36)",
              "ticklen": 8,
              "ticks": "outside",
              "tickwidth": 2
             }
            },
            "type": "scatterternary"
           }
          ],
          "surface": [
           {
            "colorbar": {
             "outlinewidth": 0,
             "tickcolor": "rgb(36,36,36)",
             "ticklen": 8,
             "ticks": "outside",
             "tickwidth": 2
            },
            "colorscale": [
             [
              0,
              "rgb(2,4,25)"
             ],
             [
              0.06274509803921569,
              "rgb(24,15,41)"
             ],
             [
              0.12549019607843137,
              "rgb(47,23,57)"
             ],
             [
              0.18823529411764706,
              "rgb(71,28,72)"
             ],
             [
              0.25098039215686274,
              "rgb(97,30,82)"
             ],
             [
              0.3137254901960784,
              "rgb(123,30,89)"
             ],
             [
              0.3764705882352941,
              "rgb(150,27,91)"
             ],
             [
              0.4392156862745098,
              "rgb(177,22,88)"
             ],
             [
              0.5019607843137255,
              "rgb(203,26,79)"
             ],
             [
              0.5647058823529412,
              "rgb(223,47,67)"
             ],
             [
              0.6274509803921569,
              "rgb(236,76,61)"
             ],
             [
              0.6901960784313725,
              "rgb(242,107,73)"
             ],
             [
              0.7529411764705882,
              "rgb(244,135,95)"
             ],
             [
              0.8156862745098039,
              "rgb(245,162,122)"
             ],
             [
              0.8784313725490196,
              "rgb(246,188,153)"
             ],
             [
              0.9411764705882353,
              "rgb(247,212,187)"
             ],
             [
              1,
              "rgb(250,234,220)"
             ]
            ],
            "type": "surface"
           }
          ],
          "table": [
           {
            "cells": {
             "fill": {
              "color": "rgb(231,231,240)"
             },
             "line": {
              "color": "white"
             }
            },
            "header": {
             "fill": {
              "color": "rgb(183,183,191)"
             },
             "line": {
              "color": "white"
             }
            },
            "type": "table"
           }
          ]
         },
         "layout": {
          "annotationdefaults": {
           "arrowcolor": "rgb(67,103,167)"
          },
          "autotypenumbers": "strict",
          "coloraxis": {
           "colorbar": {
            "outlinewidth": 0,
            "tickcolor": "rgb(36,36,36)",
            "ticklen": 8,
            "ticks": "outside",
            "tickwidth": 2
           }
          },
          "colorscale": {
           "sequential": [
            [
             0,
             "rgb(2,4,25)"
            ],
            [
             0.06274509803921569,
             "rgb(24,15,41)"
            ],
            [
             0.12549019607843137,
             "rgb(47,23,57)"
            ],
            [
             0.18823529411764706,
             "rgb(71,28,72)"
            ],
            [
             0.25098039215686274,
             "rgb(97,30,82)"
            ],
            [
             0.3137254901960784,
             "rgb(123,30,89)"
            ],
            [
             0.3764705882352941,
             "rgb(150,27,91)"
            ],
            [
             0.4392156862745098,
             "rgb(177,22,88)"
            ],
            [
             0.5019607843137255,
             "rgb(203,26,79)"
            ],
            [
             0.5647058823529412,
             "rgb(223,47,67)"
            ],
            [
             0.6274509803921569,
             "rgb(236,76,61)"
            ],
            [
             0.6901960784313725,
             "rgb(242,107,73)"
            ],
            [
             0.7529411764705882,
             "rgb(244,135,95)"
            ],
            [
             0.8156862745098039,
             "rgb(245,162,122)"
            ],
            [
             0.8784313725490196,
             "rgb(246,188,153)"
            ],
            [
             0.9411764705882353,
             "rgb(247,212,187)"
            ],
            [
             1,
             "rgb(250,234,220)"
            ]
           ],
           "sequentialminus": [
            [
             0,
             "rgb(2,4,25)"
            ],
            [
             0.06274509803921569,
             "rgb(24,15,41)"
            ],
            [
             0.12549019607843137,
             "rgb(47,23,57)"
            ],
            [
             0.18823529411764706,
             "rgb(71,28,72)"
            ],
            [
             0.25098039215686274,
             "rgb(97,30,82)"
            ],
            [
             0.3137254901960784,
             "rgb(123,30,89)"
            ],
            [
             0.3764705882352941,
             "rgb(150,27,91)"
            ],
            [
             0.4392156862745098,
             "rgb(177,22,88)"
            ],
            [
             0.5019607843137255,
             "rgb(203,26,79)"
            ],
            [
             0.5647058823529412,
             "rgb(223,47,67)"
            ],
            [
             0.6274509803921569,
             "rgb(236,76,61)"
            ],
            [
             0.6901960784313725,
             "rgb(242,107,73)"
            ],
            [
             0.7529411764705882,
             "rgb(244,135,95)"
            ],
            [
             0.8156862745098039,
             "rgb(245,162,122)"
            ],
            [
             0.8784313725490196,
             "rgb(246,188,153)"
            ],
            [
             0.9411764705882353,
             "rgb(247,212,187)"
            ],
            [
             1,
             "rgb(250,234,220)"
            ]
           ]
          },
          "colorway": [
           "rgb(76,114,176)",
           "rgb(221,132,82)",
           "rgb(85,168,104)",
           "rgb(196,78,82)",
           "rgb(129,114,179)",
           "rgb(147,120,96)",
           "rgb(218,139,195)",
           "rgb(140,140,140)",
           "rgb(204,185,116)",
           "rgb(100,181,205)"
          ],
          "font": {
           "color": "rgb(36,36,36)"
          },
          "geo": {
           "bgcolor": "white",
           "lakecolor": "white",
           "landcolor": "rgb(234,234,242)",
           "showlakes": true,
           "showland": true,
           "subunitcolor": "white"
          },
          "hoverlabel": {
           "align": "left"
          },
          "hovermode": "closest",
          "paper_bgcolor": "white",
          "plot_bgcolor": "rgb(234,234,242)",
          "polar": {
           "angularaxis": {
            "gridcolor": "white",
            "linecolor": "white",
            "showgrid": true,
            "ticks": ""
           },
           "bgcolor": "rgb(234,234,242)",
           "radialaxis": {
            "gridcolor": "white",
            "linecolor": "white",
            "showgrid": true,
            "ticks": ""
           }
          },
          "scene": {
           "xaxis": {
            "backgroundcolor": "rgb(234,234,242)",
            "gridcolor": "white",
            "gridwidth": 2,
            "linecolor": "white",
            "showbackground": true,
            "showgrid": true,
            "ticks": "",
            "zerolinecolor": "white"
           },
           "yaxis": {
            "backgroundcolor": "rgb(234,234,242)",
            "gridcolor": "white",
            "gridwidth": 2,
            "linecolor": "white",
            "showbackground": true,
            "showgrid": true,
            "ticks": "",
            "zerolinecolor": "white"
           },
           "zaxis": {
            "backgroundcolor": "rgb(234,234,242)",
            "gridcolor": "white",
            "gridwidth": 2,
            "linecolor": "white",
            "showbackground": true,
            "showgrid": true,
            "ticks": "",
            "zerolinecolor": "white"
           }
          },
          "shapedefaults": {
           "fillcolor": "rgb(67,103,167)",
           "line": {
            "width": 0
           },
           "opacity": 0.5
          },
          "ternary": {
           "aaxis": {
            "gridcolor": "white",
            "linecolor": "white",
            "showgrid": true,
            "ticks": ""
           },
           "baxis": {
            "gridcolor": "white",
            "linecolor": "white",
            "showgrid": true,
            "ticks": ""
           },
           "bgcolor": "rgb(234,234,242)",
           "caxis": {
            "gridcolor": "white",
            "linecolor": "white",
            "showgrid": true,
            "ticks": ""
           }
          },
          "xaxis": {
           "automargin": true,
           "gridcolor": "white",
           "linecolor": "white",
           "showgrid": true,
           "ticks": "",
           "title": {
            "standoff": 15
           },
           "zerolinecolor": "white"
          },
          "yaxis": {
           "automargin": true,
           "gridcolor": "white",
           "linecolor": "white",
           "showgrid": true,
           "ticks": "",
           "title": {
            "standoff": 15
           },
           "zerolinecolor": "white"
          }
         }
        },
        "title": {
         "font": {
          "size": 25
         },
         "text": "<b>Goals vs Goals Against</b><br>La Liga 2020-2021 (Fixtures 1-20)",
         "xanchor": "center",
         "y": 0.95,
         "yanchor": "top"
        },
        "width": 950,
        "xaxis": {
         "anchor": "y",
         "domain": [
          0,
          0.235
         ],
         "title": {
          "text": "GF_per90"
         }
        },
        "xaxis2": {
         "anchor": "y2",
         "domain": [
          0.255,
          0.49
         ],
         "matches": "x",
         "title": {
          "text": "GF_per90"
         }
        },
        "xaxis3": {
         "anchor": "y3",
         "domain": [
          0.51,
          0.745
         ],
         "matches": "x",
         "title": {
          "text": "GF_per90"
         }
        },
        "xaxis4": {
         "anchor": "y4",
         "domain": [
          0.7649999999999999,
          0.9999999999999999
         ],
         "matches": "x",
         "title": {
          "text": "GF_per90"
         }
        },
        "yaxis": {
         "anchor": "x",
         "autorange": "reversed",
         "domain": [
          0,
          1
         ],
         "title": {
          "text": "GA_per90"
         }
        },
        "yaxis2": {
         "anchor": "x2",
         "autorange": "reversed",
         "domain": [
          0,
          1
         ],
         "matches": "y",
         "showticklabels": false
        },
        "yaxis3": {
         "anchor": "x3",
         "autorange": "reversed",
         "domain": [
          0,
          1
         ],
         "matches": "y",
         "showticklabels": false
        },
        "yaxis4": {
         "anchor": "x4",
         "autorange": "reversed",
         "domain": [
          0,
          1
         ],
         "matches": "y",
         "showticklabels": false
        }
       }
      },
      "text/html": [
       "<div>                            <div id=\"ed1c7708-fdb8-4380-bf63-add738bc33bc\" class=\"plotly-graph-div\" style=\"height:525px; width:950px;\"></div>            <script type=\"text/javascript\">                require([\"plotly\"], function(Plotly) {                    window.PLOTLYENV=window.PLOTLYENV || {};                                    if (document.getElementById(\"ed1c7708-fdb8-4380-bf63-add738bc33bc\")) {                    Plotly.newPlot(                        \"ed1c7708-fdb8-4380-bf63-add738bc33bc\",                        [{\"customdata\": [[1]], \"hovertemplate\": \"<b>%{hovertext}</b><br><br>Squad=Atl\\u00e9tico Madrid<br>Status_GF_GA=Good Attack | Good Defense<br>GF_per90=%{x}<br>GA_per90=%{y}<br>Pts=%{marker.size}<br>Posicion=%{customdata[0]}<extra></extra>\", \"hovertext\": [\"Atl\\u00e9tico Madrid\"], \"legendgroup\": \"Atl\\u00e9tico Madrid\", \"marker\": {\"color\": \"#2E91E5\", \"opacity\": 1, \"size\": [47], \"sizemode\": \"area\", \"sizeref\": 0.1175, \"symbol\": \"circle\"}, \"mode\": \"markers\", \"name\": \"Atl\\u00e9tico Madrid\", \"orientation\": \"v\", \"showlegend\": true, \"type\": \"scatter\", \"x\": [2.0], \"xaxis\": \"x\", \"y\": [0.44], \"yaxis\": \"y\"}, {\"customdata\": [[2]], \"hovertemplate\": \"<b>%{hovertext}</b><br><br>Squad=Real Madrid<br>Status_GF_GA=Good Attack | Good Defense<br>GF_per90=%{x}<br>GA_per90=%{y}<br>Pts=%{marker.size}<br>Posicion=%{customdata[0]}<extra></extra>\", \"hovertext\": [\"Real Madrid\"], \"legendgroup\": \"Real Madrid\", \"marker\": {\"color\": \"#E15F99\", \"opacity\": 1, \"size\": [40], \"sizemode\": \"area\", \"sizeref\": 0.1175, \"symbol\": \"circle\"}, \"mode\": \"markers\", \"name\": \"Real Madrid\", \"orientation\": \"v\", \"showlegend\": true, \"type\": \"scatter\", \"x\": [1.79], \"xaxis\": \"x\", \"y\": [0.84], \"yaxis\": \"y\"}, {\"customdata\": [[3]], \"hovertemplate\": \"<b>%{hovertext}</b><br><br>Squad=Barcelona<br>Status_GF_GA=Good Attack | Good Defense<br>GF_per90=%{x}<br>GA_per90=%{y}<br>Pts=%{marker.size}<br>Posicion=%{customdata[0]}<extra></extra>\", \"hovertext\": [\"Barcelona\"], \"legendgroup\": \"Barcelona\", \"marker\": {\"color\": \"#1CA71C\", \"opacity\": 1, \"size\": [37], \"sizemode\": \"area\", \"sizeref\": 0.1175, \"symbol\": \"circle\"}, \"mode\": \"markers\", \"name\": \"Barcelona\", \"orientation\": \"v\", \"showlegend\": true, \"type\": \"scatter\", \"x\": [2.05], \"xaxis\": \"x\", \"y\": [0.89], \"yaxis\": \"y\"}, {\"customdata\": [[4]], \"hovertemplate\": \"<b>%{hovertext}</b><br><br>Squad=Sevilla<br>Status_GF_GA=Good Attack | Good Defense<br>GF_per90=%{x}<br>GA_per90=%{y}<br>Pts=%{marker.size}<br>Posicion=%{customdata[0]}<extra></extra>\", \"hovertext\": [\"Sevilla\"], \"legendgroup\": \"Sevilla\", \"marker\": {\"color\": \"#FB0D0D\", \"opacity\": 1, \"size\": [36], \"sizemode\": \"area\", \"sizeref\": 0.1175, \"symbol\": \"circle\"}, \"mode\": \"markers\", \"name\": \"Sevilla\", \"orientation\": \"v\", \"showlegend\": true, \"type\": \"scatter\", \"x\": [1.37], \"xaxis\": \"x\", \"y\": [0.84], \"yaxis\": \"y\"}, {\"customdata\": [[5]], \"hovertemplate\": \"<b>%{hovertext}</b><br><br>Squad=Villarreal<br>Status_GF_GA=Good Attack | Good Defense<br>GF_per90=%{x}<br>GA_per90=%{y}<br>Pts=%{marker.size}<br>Posicion=%{customdata[0]}<extra></extra>\", \"hovertext\": [\"Villarreal\"], \"legendgroup\": \"Villarreal\", \"marker\": {\"color\": \"#DA16FF\", \"opacity\": 1, \"size\": [34], \"sizemode\": \"area\", \"sizeref\": 0.1175, \"symbol\": \"circle\"}, \"mode\": \"markers\", \"name\": \"Villarreal\", \"orientation\": \"v\", \"showlegend\": true, \"type\": \"scatter\", \"x\": [1.4], \"xaxis\": \"x\", \"y\": [0.95], \"yaxis\": \"y\"}, {\"customdata\": [[6]], \"hovertemplate\": \"<b>%{hovertext}</b><br><br>Squad=Real Sociedad<br>Status_GF_GA=Good Attack | Good Defense<br>GF_per90=%{x}<br>GA_per90=%{y}<br>Pts=%{marker.size}<br>Posicion=%{customdata[0]}<extra></extra>\", \"hovertext\": [\"Real Sociedad\"], \"legendgroup\": \"Real Sociedad\", \"marker\": {\"color\": \"#222A2A\", \"opacity\": 1, \"size\": [31], \"sizemode\": \"area\", \"sizeref\": 0.1175, \"symbol\": \"circle\"}, \"mode\": \"markers\", \"name\": \"Real Sociedad\", \"orientation\": \"v\", \"showlegend\": true, \"type\": \"scatter\", \"x\": [1.55], \"xaxis\": \"x\", \"y\": [0.9], \"yaxis\": \"y\"}, {\"customdata\": [[7]], \"hovertemplate\": \"<b>%{hovertext}</b><br><br>Squad=Granada<br>Status_GF_GA=Bad Attack | Bad Defense<br>GF_per90=%{x}<br>GA_per90=%{y}<br>Pts=%{marker.size}<br>Posicion=%{customdata[0]}<extra></extra>\", \"hovertext\": [\"Granada\"], \"legendgroup\": \"Granada\", \"marker\": {\"color\": \"#B68100\", \"opacity\": 1, \"size\": [28], \"sizemode\": \"area\", \"sizeref\": 0.1175, \"symbol\": \"circle\"}, \"mode\": \"markers\", \"name\": \"Granada\", \"orientation\": \"v\", \"showlegend\": true, \"type\": \"scatter\", \"x\": [1.2], \"xaxis\": \"x4\", \"y\": [1.7], \"yaxis\": \"y4\"}, {\"customdata\": [[8]], \"hovertemplate\": \"<b>%{hovertext}</b><br><br>Squad=Betis<br>Status_GF_GA=Good Attack | Bad Defense<br>GF_per90=%{x}<br>GA_per90=%{y}<br>Pts=%{marker.size}<br>Posicion=%{customdata[0]}<extra></extra>\", \"hovertext\": [\"Betis\"], \"legendgroup\": \"Betis\", \"marker\": {\"color\": \"#750D86\", \"opacity\": 1, \"size\": [27], \"sizemode\": \"area\", \"sizeref\": 0.1175, \"symbol\": \"circle\"}, \"mode\": \"markers\", \"name\": \"Betis\", \"orientation\": \"v\", \"showlegend\": true, \"type\": \"scatter\", \"x\": [1.3], \"xaxis\": \"x2\", \"y\": [1.7], \"yaxis\": \"y2\"}, {\"customdata\": [[9]], \"hovertemplate\": \"<b>%{hovertext}</b><br><br>Squad=Celta Vigo<br>Status_GF_GA=Bad Attack | Bad Defense<br>GF_per90=%{x}<br>GA_per90=%{y}<br>Pts=%{marker.size}<br>Posicion=%{customdata[0]}<extra></extra>\", \"hovertext\": [\"Celta Vigo\"], \"legendgroup\": \"Celta Vigo\", \"marker\": {\"color\": \"#EB663B\", \"opacity\": 1, \"size\": [24], \"sizemode\": \"area\", \"sizeref\": 0.1175, \"symbol\": \"circle\"}, \"mode\": \"markers\", \"name\": \"Celta Vigo\", \"orientation\": \"v\", \"showlegend\": true, \"type\": \"scatter\", \"x\": [1.2], \"xaxis\": \"x4\", \"y\": [1.55], \"yaxis\": \"y4\"}, {\"customdata\": [[10]], \"hovertemplate\": \"<b>%{hovertext}</b><br><br>Squad=C\\u00e1diz<br>Status_GF_GA=Bad Attack | Bad Defense<br>GF_per90=%{x}<br>GA_per90=%{y}<br>Pts=%{marker.size}<br>Posicion=%{customdata[0]}<extra></extra>\", \"hovertext\": [\"C\\u00e1diz\"], \"legendgroup\": \"C\\u00e1diz\", \"marker\": {\"color\": \"#511CFB\", \"opacity\": 1, \"size\": [24], \"sizemode\": \"area\", \"sizeref\": 0.1175, \"symbol\": \"circle\"}, \"mode\": \"markers\", \"name\": \"C\\u00e1diz\", \"orientation\": \"v\", \"showlegend\": true, \"type\": \"scatter\", \"x\": [0.85], \"xaxis\": \"x4\", \"y\": [1.35], \"yaxis\": \"y4\"}, {\"customdata\": [[11]], \"hovertemplate\": \"<b>%{hovertext}</b><br><br>Squad=Levante<br>Status_GF_GA=Good Attack | Bad Defense<br>GF_per90=%{x}<br>GA_per90=%{y}<br>Pts=%{marker.size}<br>Posicion=%{customdata[0]}<extra></extra>\", \"hovertext\": [\"Levante\"], \"legendgroup\": \"Levante\", \"marker\": {\"color\": \"#00A08B\", \"opacity\": 1, \"size\": [23], \"sizemode\": \"area\", \"sizeref\": 0.1175, \"symbol\": \"circle\"}, \"mode\": \"markers\", \"name\": \"Levante\", \"orientation\": \"v\", \"showlegend\": true, \"type\": \"scatter\", \"x\": [1.42], \"xaxis\": \"x2\", \"y\": [1.47], \"yaxis\": \"y2\"}, {\"customdata\": [[12]], \"hovertemplate\": \"<b>%{hovertext}</b><br><br>Squad=Getafe<br>Status_GF_GA=Bad Attack | Good Defense<br>GF_per90=%{x}<br>GA_per90=%{y}<br>Pts=%{marker.size}<br>Posicion=%{customdata[0]}<extra></extra>\", \"hovertext\": [\"Getafe\"], \"legendgroup\": \"Getafe\", \"marker\": {\"color\": \"#FB00D1\", \"opacity\": 1, \"size\": [23], \"sizemode\": \"area\", \"sizeref\": 0.1175, \"symbol\": \"circle\"}, \"mode\": \"markers\", \"name\": \"Getafe\", \"orientation\": \"v\", \"showlegend\": true, \"type\": \"scatter\", \"x\": [0.89], \"xaxis\": \"x3\", \"y\": [1.0], \"yaxis\": \"y3\"}, {\"customdata\": [[13]], \"hovertemplate\": \"<b>%{hovertext}</b><br><br>Squad=Athletic Club<br>Status_GF_GA=Bad Attack | Good Defense<br>GF_per90=%{x}<br>GA_per90=%{y}<br>Pts=%{marker.size}<br>Posicion=%{customdata[0]}<extra></extra>\", \"hovertext\": [\"Athletic Club\"], \"legendgroup\": \"Athletic Club\", \"marker\": {\"color\": \"#FC0080\", \"opacity\": 1, \"size\": [21], \"sizemode\": \"area\", \"sizeref\": 0.1175, \"symbol\": \"circle\"}, \"mode\": \"markers\", \"name\": \"Athletic Club\", \"orientation\": \"v\", \"showlegend\": true, \"type\": \"scatter\", \"x\": [1.17], \"xaxis\": \"x3\", \"y\": [1.22], \"yaxis\": \"y3\"}, {\"customdata\": [[14]], \"hovertemplate\": \"<b>%{hovertext}</b><br><br>Squad=Valencia<br>Status_GF_GA=Good Attack | Bad Defense<br>GF_per90=%{x}<br>GA_per90=%{y}<br>Pts=%{marker.size}<br>Posicion=%{customdata[0]}<extra></extra>\", \"hovertext\": [\"Valencia\"], \"legendgroup\": \"Valencia\", \"marker\": {\"color\": \"#B2828D\", \"opacity\": 1, \"size\": [20], \"sizemode\": \"area\", \"sizeref\": 0.1175, \"symbol\": \"circle\"}, \"mode\": \"markers\", \"name\": \"Valencia\", \"orientation\": \"v\", \"showlegend\": true, \"type\": \"scatter\", \"x\": [1.3], \"xaxis\": \"x2\", \"y\": [1.45], \"yaxis\": \"y2\"}, {\"customdata\": [[15]], \"hovertemplate\": \"<b>%{hovertext}</b><br><br>Squad=Eibar<br>Status_GF_GA=Bad Attack | Good Defense<br>GF_per90=%{x}<br>GA_per90=%{y}<br>Pts=%{marker.size}<br>Posicion=%{customdata[0]}<extra></extra>\", \"hovertext\": [\"Eibar\"], \"legendgroup\": \"Eibar\", \"marker\": {\"color\": \"#6C7C32\", \"opacity\": 1, \"size\": [20], \"sizemode\": \"area\", \"sizeref\": 0.1175, \"symbol\": \"circle\"}, \"mode\": \"markers\", \"name\": \"Eibar\", \"orientation\": \"v\", \"showlegend\": true, \"type\": \"scatter\", \"x\": [0.85], \"xaxis\": \"x3\", \"y\": [1.05], \"yaxis\": \"y3\"}, {\"customdata\": [[16]], \"hovertemplate\": \"<b>%{hovertext}</b><br><br>Squad=Valladolid<br>Status_GF_GA=Bad Attack | Bad Defense<br>GF_per90=%{x}<br>GA_per90=%{y}<br>Pts=%{marker.size}<br>Posicion=%{customdata[0]}<extra></extra>\", \"hovertext\": [\"Valladolid\"], \"legendgroup\": \"Valladolid\", \"marker\": {\"color\": \"#778AAE\", \"opacity\": 1, \"size\": [20], \"sizemode\": \"area\", \"sizeref\": 0.1175, \"symbol\": \"circle\"}, \"mode\": \"markers\", \"name\": \"Valladolid\", \"orientation\": \"v\", \"showlegend\": true, \"type\": \"scatter\", \"x\": [1.0], \"xaxis\": \"x4\", \"y\": [1.45], \"yaxis\": \"y4\"}, {\"customdata\": [[17]], \"hovertemplate\": \"<b>%{hovertext}</b><br><br>Squad=Osasuna<br>Status_GF_GA=Bad Attack | Bad Defense<br>GF_per90=%{x}<br>GA_per90=%{y}<br>Pts=%{marker.size}<br>Posicion=%{customdata[0]}<extra></extra>\", \"hovertext\": [\"Osasuna\"], \"legendgroup\": \"Osasuna\", \"marker\": {\"color\": \"#862A16\", \"opacity\": 1, \"size\": [19], \"sizemode\": \"area\", \"sizeref\": 0.1175, \"symbol\": \"circle\"}, \"mode\": \"markers\", \"name\": \"Osasuna\", \"orientation\": \"v\", \"showlegend\": true, \"type\": \"scatter\", \"x\": [0.95], \"xaxis\": \"x4\", \"y\": [1.45], \"yaxis\": \"y4\"}, {\"customdata\": [[18]], \"hovertemplate\": \"<b>%{hovertext}</b><br><br>Squad=Alav\\u00e9s<br>Status_GF_GA=Bad Attack | Bad Defense<br>GF_per90=%{x}<br>GA_per90=%{y}<br>Pts=%{marker.size}<br>Posicion=%{customdata[0]}<extra></extra>\", \"hovertext\": [\"Alav\\u00e9s\"], \"legendgroup\": \"Alav\\u00e9s\", \"marker\": {\"color\": \"#A777F1\", \"opacity\": 1, \"size\": [18], \"sizemode\": \"area\", \"sizeref\": 0.1175, \"symbol\": \"circle\"}, \"mode\": \"markers\", \"name\": \"Alav\\u00e9s\", \"orientation\": \"v\", \"showlegend\": true, \"type\": \"scatter\", \"x\": [0.9], \"xaxis\": \"x4\", \"y\": [1.45], \"yaxis\": \"y4\"}, {\"customdata\": [[19]], \"hovertemplate\": \"<b>%{hovertext}</b><br><br>Squad=Elche<br>Status_GF_GA=Bad Attack | Bad Defense<br>GF_per90=%{x}<br>GA_per90=%{y}<br>Pts=%{marker.size}<br>Posicion=%{customdata[0]}<extra></extra>\", \"hovertext\": [\"Elche\"], \"legendgroup\": \"Elche\", \"marker\": {\"color\": \"#620042\", \"opacity\": 1, \"size\": [17], \"sizemode\": \"area\", \"sizeref\": 0.1175, \"symbol\": \"circle\"}, \"mode\": \"markers\", \"name\": \"Elche\", \"orientation\": \"v\", \"showlegend\": true, \"type\": \"scatter\", \"x\": [0.89], \"xaxis\": \"x4\", \"y\": [1.39], \"yaxis\": \"y4\"}, {\"customdata\": [[20]], \"hovertemplate\": \"<b>%{hovertext}</b><br><br>Squad=Huesca<br>Status_GF_GA=Bad Attack | Bad Defense<br>GF_per90=%{x}<br>GA_per90=%{y}<br>Pts=%{marker.size}<br>Posicion=%{customdata[0]}<extra></extra>\", \"hovertext\": [\"Huesca\"], \"legendgroup\": \"Huesca\", \"marker\": {\"color\": \"#1616A7\", \"opacity\": 1, \"size\": [13], \"sizemode\": \"area\", \"sizeref\": 0.1175, \"symbol\": \"circle\"}, \"mode\": \"markers\", \"name\": \"Huesca\", \"orientation\": \"v\", \"showlegend\": true, \"type\": \"scatter\", \"x\": [0.7], \"xaxis\": \"x4\", \"y\": [1.45], \"yaxis\": \"y4\"}],                        {\"annotations\": [{\"font\": {}, \"showarrow\": false, \"text\": \"Good Attack | Good Defense\", \"x\": 0.1175, \"xanchor\": \"center\", \"xref\": \"paper\", \"y\": 1.0, \"yanchor\": \"bottom\", \"yref\": \"paper\"}, {\"font\": {}, \"showarrow\": false, \"text\": \"Good Attack | Bad Defense\", \"x\": 0.3725, \"xanchor\": \"center\", \"xref\": \"paper\", \"y\": 1.0, \"yanchor\": \"bottom\", \"yref\": \"paper\"}, {\"font\": {}, \"showarrow\": false, \"text\": \"Bad Attack | Good Defense\", \"x\": 0.6275, \"xanchor\": \"center\", \"xref\": \"paper\", \"y\": 1.0, \"yanchor\": \"bottom\", \"yref\": \"paper\"}, {\"font\": {}, \"showarrow\": false, \"text\": \"Bad Attack | Bad Defense\", \"x\": 0.8824999999999998, \"xanchor\": \"center\", \"xref\": \"paper\", \"y\": 1.0, \"yanchor\": \"bottom\", \"yref\": \"paper\"}], \"legend\": {\"itemsizing\": \"constant\", \"title\": {\"text\": \"Squad\"}, \"tracegroupgap\": 0}, \"template\": {\"data\": {\"bar\": [{\"error_x\": {\"color\": \"rgb(36,36,36)\"}, \"error_y\": {\"color\": \"rgb(36,36,36)\"}, \"marker\": {\"line\": {\"color\": \"rgb(234,234,242)\", \"width\": 0.5}}, \"type\": \"bar\"}], \"barpolar\": [{\"marker\": {\"line\": {\"color\": \"rgb(234,234,242)\", \"width\": 0.5}}, \"type\": \"barpolar\"}], \"carpet\": [{\"aaxis\": {\"endlinecolor\": \"rgb(36,36,36)\", \"gridcolor\": \"white\", \"linecolor\": \"white\", \"minorgridcolor\": \"white\", \"startlinecolor\": \"rgb(36,36,36)\"}, \"baxis\": {\"endlinecolor\": \"rgb(36,36,36)\", \"gridcolor\": \"white\", \"linecolor\": \"white\", \"minorgridcolor\": \"white\", \"startlinecolor\": \"rgb(36,36,36)\"}, \"type\": \"carpet\"}], \"choropleth\": [{\"colorbar\": {\"outlinewidth\": 0, \"tickcolor\": \"rgb(36,36,36)\", \"ticklen\": 8, \"ticks\": \"outside\", \"tickwidth\": 2}, \"type\": \"choropleth\"}], \"contour\": [{\"colorbar\": {\"outlinewidth\": 0, \"tickcolor\": \"rgb(36,36,36)\", \"ticklen\": 8, \"ticks\": \"outside\", \"tickwidth\": 2}, \"colorscale\": [[0.0, \"rgb(2,4,25)\"], [0.06274509803921569, \"rgb(24,15,41)\"], [0.12549019607843137, \"rgb(47,23,57)\"], [0.18823529411764706, \"rgb(71,28,72)\"], [0.25098039215686274, \"rgb(97,30,82)\"], [0.3137254901960784, \"rgb(123,30,89)\"], [0.3764705882352941, \"rgb(150,27,91)\"], [0.4392156862745098, \"rgb(177,22,88)\"], [0.5019607843137255, \"rgb(203,26,79)\"], [0.5647058823529412, \"rgb(223,47,67)\"], [0.6274509803921569, \"rgb(236,76,61)\"], [0.6901960784313725, \"rgb(242,107,73)\"], [0.7529411764705882, \"rgb(244,135,95)\"], [0.8156862745098039, \"rgb(245,162,122)\"], [0.8784313725490196, \"rgb(246,188,153)\"], [0.9411764705882353, \"rgb(247,212,187)\"], [1.0, \"rgb(250,234,220)\"]], \"type\": \"contour\"}], \"contourcarpet\": [{\"colorbar\": {\"outlinewidth\": 0, \"tickcolor\": \"rgb(36,36,36)\", \"ticklen\": 8, \"ticks\": \"outside\", \"tickwidth\": 2}, \"type\": \"contourcarpet\"}], \"heatmap\": [{\"colorbar\": {\"outlinewidth\": 0, \"tickcolor\": \"rgb(36,36,36)\", \"ticklen\": 8, \"ticks\": \"outside\", \"tickwidth\": 2}, \"colorscale\": [[0.0, \"rgb(2,4,25)\"], [0.06274509803921569, \"rgb(24,15,41)\"], [0.12549019607843137, \"rgb(47,23,57)\"], [0.18823529411764706, \"rgb(71,28,72)\"], [0.25098039215686274, \"rgb(97,30,82)\"], [0.3137254901960784, \"rgb(123,30,89)\"], [0.3764705882352941, \"rgb(150,27,91)\"], [0.4392156862745098, \"rgb(177,22,88)\"], [0.5019607843137255, \"rgb(203,26,79)\"], [0.5647058823529412, \"rgb(223,47,67)\"], [0.6274509803921569, \"rgb(236,76,61)\"], [0.6901960784313725, \"rgb(242,107,73)\"], [0.7529411764705882, \"rgb(244,135,95)\"], [0.8156862745098039, \"rgb(245,162,122)\"], [0.8784313725490196, \"rgb(246,188,153)\"], [0.9411764705882353, \"rgb(247,212,187)\"], [1.0, \"rgb(250,234,220)\"]], \"type\": \"heatmap\"}], \"heatmapgl\": [{\"colorbar\": {\"outlinewidth\": 0, \"tickcolor\": \"rgb(36,36,36)\", \"ticklen\": 8, \"ticks\": \"outside\", \"tickwidth\": 2}, \"colorscale\": [[0.0, \"rgb(2,4,25)\"], [0.06274509803921569, \"rgb(24,15,41)\"], [0.12549019607843137, \"rgb(47,23,57)\"], [0.18823529411764706, \"rgb(71,28,72)\"], [0.25098039215686274, \"rgb(97,30,82)\"], [0.3137254901960784, \"rgb(123,30,89)\"], [0.3764705882352941, \"rgb(150,27,91)\"], [0.4392156862745098, \"rgb(177,22,88)\"], [0.5019607843137255, \"rgb(203,26,79)\"], [0.5647058823529412, \"rgb(223,47,67)\"], [0.6274509803921569, \"rgb(236,76,61)\"], [0.6901960784313725, \"rgb(242,107,73)\"], [0.7529411764705882, \"rgb(244,135,95)\"], [0.8156862745098039, \"rgb(245,162,122)\"], [0.8784313725490196, \"rgb(246,188,153)\"], [0.9411764705882353, \"rgb(247,212,187)\"], [1.0, \"rgb(250,234,220)\"]], \"type\": \"heatmapgl\"}], \"histogram\": [{\"marker\": {\"colorbar\": {\"outlinewidth\": 0, \"tickcolor\": \"rgb(36,36,36)\", \"ticklen\": 8, \"ticks\": \"outside\", \"tickwidth\": 2}}, \"type\": \"histogram\"}], \"histogram2d\": [{\"colorbar\": {\"outlinewidth\": 0, \"tickcolor\": \"rgb(36,36,36)\", \"ticklen\": 8, \"ticks\": \"outside\", \"tickwidth\": 2}, \"colorscale\": [[0.0, \"rgb(2,4,25)\"], [0.06274509803921569, \"rgb(24,15,41)\"], [0.12549019607843137, \"rgb(47,23,57)\"], [0.18823529411764706, \"rgb(71,28,72)\"], [0.25098039215686274, \"rgb(97,30,82)\"], [0.3137254901960784, \"rgb(123,30,89)\"], [0.3764705882352941, \"rgb(150,27,91)\"], [0.4392156862745098, \"rgb(177,22,88)\"], [0.5019607843137255, \"rgb(203,26,79)\"], [0.5647058823529412, \"rgb(223,47,67)\"], [0.6274509803921569, \"rgb(236,76,61)\"], [0.6901960784313725, \"rgb(242,107,73)\"], [0.7529411764705882, \"rgb(244,135,95)\"], [0.8156862745098039, \"rgb(245,162,122)\"], [0.8784313725490196, \"rgb(246,188,153)\"], [0.9411764705882353, \"rgb(247,212,187)\"], [1.0, \"rgb(250,234,220)\"]], \"type\": \"histogram2d\"}], \"histogram2dcontour\": [{\"colorbar\": {\"outlinewidth\": 0, \"tickcolor\": \"rgb(36,36,36)\", \"ticklen\": 8, \"ticks\": \"outside\", \"tickwidth\": 2}, \"colorscale\": [[0.0, \"rgb(2,4,25)\"], [0.06274509803921569, \"rgb(24,15,41)\"], [0.12549019607843137, \"rgb(47,23,57)\"], [0.18823529411764706, \"rgb(71,28,72)\"], [0.25098039215686274, \"rgb(97,30,82)\"], [0.3137254901960784, \"rgb(123,30,89)\"], [0.3764705882352941, \"rgb(150,27,91)\"], [0.4392156862745098, \"rgb(177,22,88)\"], [0.5019607843137255, \"rgb(203,26,79)\"], [0.5647058823529412, \"rgb(223,47,67)\"], [0.6274509803921569, \"rgb(236,76,61)\"], [0.6901960784313725, \"rgb(242,107,73)\"], [0.7529411764705882, \"rgb(244,135,95)\"], [0.8156862745098039, \"rgb(245,162,122)\"], [0.8784313725490196, \"rgb(246,188,153)\"], [0.9411764705882353, \"rgb(247,212,187)\"], [1.0, \"rgb(250,234,220)\"]], \"type\": \"histogram2dcontour\"}], \"mesh3d\": [{\"colorbar\": {\"outlinewidth\": 0, \"tickcolor\": \"rgb(36,36,36)\", \"ticklen\": 8, \"ticks\": \"outside\", \"tickwidth\": 2}, \"type\": \"mesh3d\"}], \"parcoords\": [{\"line\": {\"colorbar\": {\"outlinewidth\": 0, \"tickcolor\": \"rgb(36,36,36)\", \"ticklen\": 8, \"ticks\": \"outside\", \"tickwidth\": 2}}, \"type\": \"parcoords\"}], \"pie\": [{\"automargin\": true, \"type\": \"pie\"}], \"scatter\": [{\"marker\": {\"colorbar\": {\"outlinewidth\": 0, \"tickcolor\": \"rgb(36,36,36)\", \"ticklen\": 8, \"ticks\": \"outside\", \"tickwidth\": 2}}, \"type\": \"scatter\"}], \"scatter3d\": [{\"line\": {\"colorbar\": {\"outlinewidth\": 0, \"tickcolor\": \"rgb(36,36,36)\", \"ticklen\": 8, \"ticks\": \"outside\", \"tickwidth\": 2}}, \"marker\": {\"colorbar\": {\"outlinewidth\": 0, \"tickcolor\": \"rgb(36,36,36)\", \"ticklen\": 8, \"ticks\": \"outside\", \"tickwidth\": 2}}, \"type\": \"scatter3d\"}], \"scattercarpet\": [{\"marker\": {\"colorbar\": {\"outlinewidth\": 0, \"tickcolor\": \"rgb(36,36,36)\", \"ticklen\": 8, \"ticks\": \"outside\", \"tickwidth\": 2}}, \"type\": \"scattercarpet\"}], \"scattergeo\": [{\"marker\": {\"colorbar\": {\"outlinewidth\": 0, \"tickcolor\": \"rgb(36,36,36)\", \"ticklen\": 8, \"ticks\": \"outside\", \"tickwidth\": 2}}, \"type\": \"scattergeo\"}], \"scattergl\": [{\"marker\": {\"colorbar\": {\"outlinewidth\": 0, \"tickcolor\": \"rgb(36,36,36)\", \"ticklen\": 8, \"ticks\": \"outside\", \"tickwidth\": 2}}, \"type\": \"scattergl\"}], \"scattermapbox\": [{\"marker\": {\"colorbar\": {\"outlinewidth\": 0, \"tickcolor\": \"rgb(36,36,36)\", \"ticklen\": 8, \"ticks\": \"outside\", \"tickwidth\": 2}}, \"type\": \"scattermapbox\"}], \"scatterpolar\": [{\"marker\": {\"colorbar\": {\"outlinewidth\": 0, \"tickcolor\": \"rgb(36,36,36)\", \"ticklen\": 8, \"ticks\": \"outside\", \"tickwidth\": 2}}, \"type\": \"scatterpolar\"}], \"scatterpolargl\": [{\"marker\": {\"colorbar\": {\"outlinewidth\": 0, \"tickcolor\": \"rgb(36,36,36)\", \"ticklen\": 8, \"ticks\": \"outside\", \"tickwidth\": 2}}, \"type\": \"scatterpolargl\"}], \"scatterternary\": [{\"marker\": {\"colorbar\": {\"outlinewidth\": 0, \"tickcolor\": \"rgb(36,36,36)\", \"ticklen\": 8, \"ticks\": \"outside\", \"tickwidth\": 2}}, \"type\": \"scatterternary\"}], \"surface\": [{\"colorbar\": {\"outlinewidth\": 0, \"tickcolor\": \"rgb(36,36,36)\", \"ticklen\": 8, \"ticks\": \"outside\", \"tickwidth\": 2}, \"colorscale\": [[0.0, \"rgb(2,4,25)\"], [0.06274509803921569, \"rgb(24,15,41)\"], [0.12549019607843137, \"rgb(47,23,57)\"], [0.18823529411764706, \"rgb(71,28,72)\"], [0.25098039215686274, \"rgb(97,30,82)\"], [0.3137254901960784, \"rgb(123,30,89)\"], [0.3764705882352941, \"rgb(150,27,91)\"], [0.4392156862745098, \"rgb(177,22,88)\"], [0.5019607843137255, \"rgb(203,26,79)\"], [0.5647058823529412, \"rgb(223,47,67)\"], [0.6274509803921569, \"rgb(236,76,61)\"], [0.6901960784313725, \"rgb(242,107,73)\"], [0.7529411764705882, \"rgb(244,135,95)\"], [0.8156862745098039, \"rgb(245,162,122)\"], [0.8784313725490196, \"rgb(246,188,153)\"], [0.9411764705882353, \"rgb(247,212,187)\"], [1.0, \"rgb(250,234,220)\"]], \"type\": \"surface\"}], \"table\": [{\"cells\": {\"fill\": {\"color\": \"rgb(231,231,240)\"}, \"line\": {\"color\": \"white\"}}, \"header\": {\"fill\": {\"color\": \"rgb(183,183,191)\"}, \"line\": {\"color\": \"white\"}}, \"type\": \"table\"}]}, \"layout\": {\"annotationdefaults\": {\"arrowcolor\": \"rgb(67,103,167)\"}, \"autotypenumbers\": \"strict\", \"coloraxis\": {\"colorbar\": {\"outlinewidth\": 0, \"tickcolor\": \"rgb(36,36,36)\", \"ticklen\": 8, \"ticks\": \"outside\", \"tickwidth\": 2}}, \"colorscale\": {\"sequential\": [[0.0, \"rgb(2,4,25)\"], [0.06274509803921569, \"rgb(24,15,41)\"], [0.12549019607843137, \"rgb(47,23,57)\"], [0.18823529411764706, \"rgb(71,28,72)\"], [0.25098039215686274, \"rgb(97,30,82)\"], [0.3137254901960784, \"rgb(123,30,89)\"], [0.3764705882352941, \"rgb(150,27,91)\"], [0.4392156862745098, \"rgb(177,22,88)\"], [0.5019607843137255, \"rgb(203,26,79)\"], [0.5647058823529412, \"rgb(223,47,67)\"], [0.6274509803921569, \"rgb(236,76,61)\"], [0.6901960784313725, \"rgb(242,107,73)\"], [0.7529411764705882, \"rgb(244,135,95)\"], [0.8156862745098039, \"rgb(245,162,122)\"], [0.8784313725490196, \"rgb(246,188,153)\"], [0.9411764705882353, \"rgb(247,212,187)\"], [1.0, \"rgb(250,234,220)\"]], \"sequentialminus\": [[0.0, \"rgb(2,4,25)\"], [0.06274509803921569, \"rgb(24,15,41)\"], [0.12549019607843137, \"rgb(47,23,57)\"], [0.18823529411764706, \"rgb(71,28,72)\"], [0.25098039215686274, \"rgb(97,30,82)\"], [0.3137254901960784, \"rgb(123,30,89)\"], [0.3764705882352941, \"rgb(150,27,91)\"], [0.4392156862745098, \"rgb(177,22,88)\"], [0.5019607843137255, \"rgb(203,26,79)\"], [0.5647058823529412, \"rgb(223,47,67)\"], [0.6274509803921569, \"rgb(236,76,61)\"], [0.6901960784313725, \"rgb(242,107,73)\"], [0.7529411764705882, \"rgb(244,135,95)\"], [0.8156862745098039, \"rgb(245,162,122)\"], [0.8784313725490196, \"rgb(246,188,153)\"], [0.9411764705882353, \"rgb(247,212,187)\"], [1.0, \"rgb(250,234,220)\"]]}, \"colorway\": [\"rgb(76,114,176)\", \"rgb(221,132,82)\", \"rgb(85,168,104)\", \"rgb(196,78,82)\", \"rgb(129,114,179)\", \"rgb(147,120,96)\", \"rgb(218,139,195)\", \"rgb(140,140,140)\", \"rgb(204,185,116)\", \"rgb(100,181,205)\"], \"font\": {\"color\": \"rgb(36,36,36)\"}, \"geo\": {\"bgcolor\": \"white\", \"lakecolor\": \"white\", \"landcolor\": \"rgb(234,234,242)\", \"showlakes\": true, \"showland\": true, \"subunitcolor\": \"white\"}, \"hoverlabel\": {\"align\": \"left\"}, \"hovermode\": \"closest\", \"paper_bgcolor\": \"white\", \"plot_bgcolor\": \"rgb(234,234,242)\", \"polar\": {\"angularaxis\": {\"gridcolor\": \"white\", \"linecolor\": \"white\", \"showgrid\": true, \"ticks\": \"\"}, \"bgcolor\": \"rgb(234,234,242)\", \"radialaxis\": {\"gridcolor\": \"white\", \"linecolor\": \"white\", \"showgrid\": true, \"ticks\": \"\"}}, \"scene\": {\"xaxis\": {\"backgroundcolor\": \"rgb(234,234,242)\", \"gridcolor\": \"white\", \"gridwidth\": 2, \"linecolor\": \"white\", \"showbackground\": true, \"showgrid\": true, \"ticks\": \"\", \"zerolinecolor\": \"white\"}, \"yaxis\": {\"backgroundcolor\": \"rgb(234,234,242)\", \"gridcolor\": \"white\", \"gridwidth\": 2, \"linecolor\": \"white\", \"showbackground\": true, \"showgrid\": true, \"ticks\": \"\", \"zerolinecolor\": \"white\"}, \"zaxis\": {\"backgroundcolor\": \"rgb(234,234,242)\", \"gridcolor\": \"white\", \"gridwidth\": 2, \"linecolor\": \"white\", \"showbackground\": true, \"showgrid\": true, \"ticks\": \"\", \"zerolinecolor\": \"white\"}}, \"shapedefaults\": {\"fillcolor\": \"rgb(67,103,167)\", \"line\": {\"width\": 0}, \"opacity\": 0.5}, \"ternary\": {\"aaxis\": {\"gridcolor\": \"white\", \"linecolor\": \"white\", \"showgrid\": true, \"ticks\": \"\"}, \"baxis\": {\"gridcolor\": \"white\", \"linecolor\": \"white\", \"showgrid\": true, \"ticks\": \"\"}, \"bgcolor\": \"rgb(234,234,242)\", \"caxis\": {\"gridcolor\": \"white\", \"linecolor\": \"white\", \"showgrid\": true, \"ticks\": \"\"}}, \"xaxis\": {\"automargin\": true, \"gridcolor\": \"white\", \"linecolor\": \"white\", \"showgrid\": true, \"ticks\": \"\", \"title\": {\"standoff\": 15}, \"zerolinecolor\": \"white\"}, \"yaxis\": {\"automargin\": true, \"gridcolor\": \"white\", \"linecolor\": \"white\", \"showgrid\": true, \"ticks\": \"\", \"title\": {\"standoff\": 15}, \"zerolinecolor\": \"white\"}}}, \"title\": {\"font\": {\"size\": 25}, \"text\": \"<b>Goals vs Goals Against</b><br>La Liga 2020-2021 (Fixtures 1-20)\", \"xanchor\": \"center\", \"y\": 0.95, \"yanchor\": \"top\"}, \"width\": 950, \"xaxis\": {\"anchor\": \"y\", \"domain\": [0.0, 0.235], \"title\": {\"text\": \"GF_per90\"}}, \"xaxis2\": {\"anchor\": \"y2\", \"domain\": [0.255, 0.49], \"matches\": \"x\", \"title\": {\"text\": \"GF_per90\"}}, \"xaxis3\": {\"anchor\": \"y3\", \"domain\": [0.51, 0.745], \"matches\": \"x\", \"title\": {\"text\": \"GF_per90\"}}, \"xaxis4\": {\"anchor\": \"y4\", \"domain\": [0.7649999999999999, 0.9999999999999999], \"matches\": \"x\", \"title\": {\"text\": \"GF_per90\"}}, \"yaxis\": {\"anchor\": \"x\", \"autorange\": \"reversed\", \"domain\": [0.0, 1.0], \"title\": {\"text\": \"GA_per90\"}}, \"yaxis2\": {\"anchor\": \"x2\", \"autorange\": \"reversed\", \"domain\": [0.0, 1.0], \"matches\": \"y\", \"showticklabels\": false}, \"yaxis3\": {\"anchor\": \"x3\", \"autorange\": \"reversed\", \"domain\": [0.0, 1.0], \"matches\": \"y\", \"showticklabels\": false}, \"yaxis4\": {\"anchor\": \"x4\", \"autorange\": \"reversed\", \"domain\": [0.0, 1.0], \"matches\": \"y\", \"showticklabels\": false}},                        {\"responsive\": true}                    ).then(function(){\n",
       "                            \n",
       "var gd = document.getElementById('ed1c7708-fdb8-4380-bf63-add738bc33bc');\n",
       "var x = new MutationObserver(function (mutations, observer) {{\n",
       "        var display = window.getComputedStyle(gd).display;\n",
       "        if (!display || display === 'none') {{\n",
       "            console.log([gd, 'removed!']);\n",
       "            Plotly.purge(gd);\n",
       "            observer.disconnect();\n",
       "        }}\n",
       "}});\n",
       "\n",
       "// Listen for the removal of the full notebook cells\n",
       "var notebookContainer = gd.closest('#notebook-container');\n",
       "if (notebookContainer) {{\n",
       "    x.observe(notebookContainer, {childList: true});\n",
       "}}\n",
       "\n",
       "// Listen for the clearing of the current output cell\n",
       "var outputEl = gd.closest('.output');\n",
       "if (outputEl) {{\n",
       "    x.observe(outputEl, {childList: true});\n",
       "}}\n",
       "\n",
       "                        })                };                });            </script>        </div>"
      ]
     },
     "metadata": {},
     "output_type": "display_data"
    }
   ],
   "source": [
    "fig = px.scatter(laliga_stats, x= 'GF_per90', y='GA_per90', size= 'Pts', color= 'Squad', \n",
    "                facet_col= 'Status_GF_GA', opacity= 1, hover_name= 'Squad', hover_data= ['Posicion'],\n",
    "                color_discrete_sequence=px.colors.qualitative.Dark24,\n",
    "                width= 950, template= 'seaborn',                \n",
    "                category_orders= {'Status_GF_GA': ['Good Attack | Good Defense', 'Good Attack | Bad Defense',\n",
    "                                                   'Bad Attack | Good Defense', 'Bad Attack | Bad Defense']},\n",
    "                title= '<b>Goals vs Goals Against</b><br>La Liga 2020-2021 (Fixtures 1-20)')\n",
    "\n",
    "fig.for_each_annotation(lambda a: a.update(text= a.text.split('=')[1]))\n",
    "fig.update_layout(title={'y': 0.95,\n",
    "                        'xanchor': 'center',\n",
    "                        'yanchor': 'top'},\n",
    "                  title_font= dict(size=25))\n",
    "\n",
    "fig.update_yaxes(autorange=\"reversed\")\n",
    "\n",
    "fig.show()"
   ]
  },
  {
   "cell_type": "markdown",
   "metadata": {},
   "source": [
    "<h2><center>ANÁLISIS PLOTS</center></h2>\n",
    "<h3><center>xG vs xGA & Goals vs Goals Against</center></h3>\n",
    "\n",
    "-  "
   ]
  },
  {
   "cell_type": "code",
   "execution_count": 71,
   "metadata": {},
   "outputs": [
    {
     "data": {
      "application/vnd.plotly.v1+json": {
       "config": {
        "plotlyServerURL": "https://plot.ly"
       },
       "data": [
        {
         "customdata": [
          [
           1
          ]
         ],
         "hovertemplate": "<b>%{hovertext}</b><br><br>Squad=Atlético Madrid<br>GF=%{x}<br>GF-xG=%{y}<br>Pts=%{marker.size}<br>Posicion=%{customdata[0]}<extra></extra>",
         "hovertext": [
          "Atlético Madrid"
         ],
         "legendgroup": "Atlético Madrid",
         "marker": {
          "color": "#2E91E5",
          "opacity": 1,
          "size": [
           47
          ],
          "sizemode": "area",
          "sizeref": 0.1175,
          "symbol": "circle"
         },
         "mode": "markers",
         "name": "Atlético Madrid",
         "orientation": "v",
         "showlegend": true,
         "type": "scatter",
         "x": [
          36
         ],
         "xaxis": "x",
         "y": [
          11.600000000000001
         ],
         "yaxis": "y"
        },
        {
         "customdata": [
          [
           2
          ]
         ],
         "hovertemplate": "<b>%{hovertext}</b><br><br>Squad=Real Madrid<br>GF=%{x}<br>GF-xG=%{y}<br>Pts=%{marker.size}<br>Posicion=%{customdata[0]}<extra></extra>",
         "hovertext": [
          "Real Madrid"
         ],
         "legendgroup": "Real Madrid",
         "marker": {
          "color": "#E15F99",
          "opacity": 1,
          "size": [
           40
          ],
          "sizemode": "area",
          "sizeref": 0.1175,
          "symbol": "circle"
         },
         "mode": "markers",
         "name": "Real Madrid",
         "orientation": "v",
         "showlegend": true,
         "type": "scatter",
         "x": [
          34
         ],
         "xaxis": "x",
         "y": [
          3.1999999999999993
         ],
         "yaxis": "y"
        },
        {
         "customdata": [
          [
           3
          ]
         ],
         "hovertemplate": "<b>%{hovertext}</b><br><br>Squad=Barcelona<br>GF=%{x}<br>GF-xG=%{y}<br>Pts=%{marker.size}<br>Posicion=%{customdata[0]}<extra></extra>",
         "hovertext": [
          "Barcelona"
         ],
         "legendgroup": "Barcelona",
         "marker": {
          "color": "#1CA71C",
          "opacity": 1,
          "size": [
           37
          ],
          "sizemode": "area",
          "sizeref": 0.1175,
          "symbol": "circle"
         },
         "mode": "markers",
         "name": "Barcelona",
         "orientation": "v",
         "showlegend": true,
         "type": "scatter",
         "x": [
          39
         ],
         "xaxis": "x",
         "y": [
          -2.6000000000000014
         ],
         "yaxis": "y"
        },
        {
         "customdata": [
          [
           4
          ]
         ],
         "hovertemplate": "<b>%{hovertext}</b><br><br>Squad=Sevilla<br>GF=%{x}<br>GF-xG=%{y}<br>Pts=%{marker.size}<br>Posicion=%{customdata[0]}<extra></extra>",
         "hovertext": [
          "Sevilla"
         ],
         "legendgroup": "Sevilla",
         "marker": {
          "color": "#FB0D0D",
          "opacity": 1,
          "size": [
           36
          ],
          "sizemode": "area",
          "sizeref": 0.1175,
          "symbol": "circle"
         },
         "mode": "markers",
         "name": "Sevilla",
         "orientation": "v",
         "showlegend": true,
         "type": "scatter",
         "x": [
          26
         ],
         "xaxis": "x",
         "y": [
          0.8999999999999986
         ],
         "yaxis": "y"
        },
        {
         "customdata": [
          [
           5
          ]
         ],
         "hovertemplate": "<b>%{hovertext}</b><br><br>Squad=Villarreal<br>GF=%{x}<br>GF-xG=%{y}<br>Pts=%{marker.size}<br>Posicion=%{customdata[0]}<extra></extra>",
         "hovertext": [
          "Villarreal"
         ],
         "legendgroup": "Villarreal",
         "marker": {
          "color": "#DA16FF",
          "opacity": 1,
          "size": [
           34
          ],
          "sizemode": "area",
          "sizeref": 0.1175,
          "symbol": "circle"
         },
         "mode": "markers",
         "name": "Villarreal",
         "orientation": "v",
         "showlegend": true,
         "type": "scatter",
         "x": [
          28
         ],
         "xaxis": "x",
         "y": [
          -1.6000000000000014
         ],
         "yaxis": "y"
        },
        {
         "customdata": [
          [
           6
          ]
         ],
         "hovertemplate": "<b>%{hovertext}</b><br><br>Squad=Real Sociedad<br>GF=%{x}<br>GF-xG=%{y}<br>Pts=%{marker.size}<br>Posicion=%{customdata[0]}<extra></extra>",
         "hovertext": [
          "Real Sociedad"
         ],
         "legendgroup": "Real Sociedad",
         "marker": {
          "color": "#222A2A",
          "opacity": 1,
          "size": [
           31
          ],
          "sizemode": "area",
          "sizeref": 0.1175,
          "symbol": "circle"
         },
         "mode": "markers",
         "name": "Real Sociedad",
         "orientation": "v",
         "showlegend": true,
         "type": "scatter",
         "x": [
          31
         ],
         "xaxis": "x",
         "y": [
          -1.3999999999999986
         ],
         "yaxis": "y"
        },
        {
         "customdata": [
          [
           7
          ]
         ],
         "hovertemplate": "<b>%{hovertext}</b><br><br>Squad=Granada<br>GF=%{x}<br>GF-xG=%{y}<br>Pts=%{marker.size}<br>Posicion=%{customdata[0]}<extra></extra>",
         "hovertext": [
          "Granada"
         ],
         "legendgroup": "Granada",
         "marker": {
          "color": "#B68100",
          "opacity": 1,
          "size": [
           28
          ],
          "sizemode": "area",
          "sizeref": 0.1175,
          "symbol": "circle"
         },
         "mode": "markers",
         "name": "Granada",
         "orientation": "v",
         "showlegend": true,
         "type": "scatter",
         "x": [
          24
         ],
         "xaxis": "x",
         "y": [
          3.3000000000000007
         ],
         "yaxis": "y"
        },
        {
         "customdata": [
          [
           8
          ]
         ],
         "hovertemplate": "<b>%{hovertext}</b><br><br>Squad=Betis<br>GF=%{x}<br>GF-xG=%{y}<br>Pts=%{marker.size}<br>Posicion=%{customdata[0]}<extra></extra>",
         "hovertext": [
          "Betis"
         ],
         "legendgroup": "Betis",
         "marker": {
          "color": "#750D86",
          "opacity": 1,
          "size": [
           27
          ],
          "sizemode": "area",
          "sizeref": 0.1175,
          "symbol": "circle"
         },
         "mode": "markers",
         "name": "Betis",
         "orientation": "v",
         "showlegend": true,
         "type": "scatter",
         "x": [
          26
         ],
         "xaxis": "x",
         "y": [
          2.3000000000000007
         ],
         "yaxis": "y"
        },
        {
         "customdata": [
          [
           9
          ]
         ],
         "hovertemplate": "<b>%{hovertext}</b><br><br>Squad=Celta Vigo<br>GF=%{x}<br>GF-xG=%{y}<br>Pts=%{marker.size}<br>Posicion=%{customdata[0]}<extra></extra>",
         "hovertext": [
          "Celta Vigo"
         ],
         "legendgroup": "Celta Vigo",
         "marker": {
          "color": "#EB663B",
          "opacity": 1,
          "size": [
           24
          ],
          "sizemode": "area",
          "sizeref": 0.1175,
          "symbol": "circle"
         },
         "mode": "markers",
         "name": "Celta Vigo",
         "orientation": "v",
         "showlegend": true,
         "type": "scatter",
         "x": [
          24
         ],
         "xaxis": "x",
         "y": [
          -3.6000000000000014
         ],
         "yaxis": "y"
        },
        {
         "customdata": [
          [
           10
          ]
         ],
         "hovertemplate": "<b>%{hovertext}</b><br><br>Squad=Cádiz<br>GF=%{x}<br>GF-xG=%{y}<br>Pts=%{marker.size}<br>Posicion=%{customdata[0]}<extra></extra>",
         "hovertext": [
          "Cádiz"
         ],
         "legendgroup": "Cádiz",
         "marker": {
          "color": "#511CFB",
          "opacity": 1,
          "size": [
           24
          ],
          "sizemode": "area",
          "sizeref": 0.1175,
          "symbol": "circle"
         },
         "mode": "markers",
         "name": "Cádiz",
         "orientation": "v",
         "showlegend": true,
         "type": "scatter",
         "x": [
          17
         ],
         "xaxis": "x",
         "y": [
          -1.1000000000000014
         ],
         "yaxis": "y"
        },
        {
         "customdata": [
          [
           11
          ]
         ],
         "hovertemplate": "<b>%{hovertext}</b><br><br>Squad=Levante<br>GF=%{x}<br>GF-xG=%{y}<br>Pts=%{marker.size}<br>Posicion=%{customdata[0]}<extra></extra>",
         "hovertext": [
          "Levante"
         ],
         "legendgroup": "Levante",
         "marker": {
          "color": "#00A08B",
          "opacity": 1,
          "size": [
           23
          ],
          "sizemode": "area",
          "sizeref": 0.1175,
          "symbol": "circle"
         },
         "mode": "markers",
         "name": "Levante",
         "orientation": "v",
         "showlegend": true,
         "type": "scatter",
         "x": [
          27
         ],
         "xaxis": "x",
         "y": [
          3.8999999999999986
         ],
         "yaxis": "y"
        },
        {
         "customdata": [
          [
           12
          ]
         ],
         "hovertemplate": "<b>%{hovertext}</b><br><br>Squad=Getafe<br>GF=%{x}<br>GF-xG=%{y}<br>Pts=%{marker.size}<br>Posicion=%{customdata[0]}<extra></extra>",
         "hovertext": [
          "Getafe"
         ],
         "legendgroup": "Getafe",
         "marker": {
          "color": "#FB00D1",
          "opacity": 1,
          "size": [
           23
          ],
          "sizemode": "area",
          "sizeref": 0.1175,
          "symbol": "circle"
         },
         "mode": "markers",
         "name": "Getafe",
         "orientation": "v",
         "showlegend": true,
         "type": "scatter",
         "x": [
          16
         ],
         "xaxis": "x",
         "y": [
          -0.1999999999999993
         ],
         "yaxis": "y"
        },
        {
         "customdata": [
          [
           13
          ]
         ],
         "hovertemplate": "<b>%{hovertext}</b><br><br>Squad=Athletic Club<br>GF=%{x}<br>GF-xG=%{y}<br>Pts=%{marker.size}<br>Posicion=%{customdata[0]}<extra></extra>",
         "hovertext": [
          "Athletic Club"
         ],
         "legendgroup": "Athletic Club",
         "marker": {
          "color": "#FC0080",
          "opacity": 1,
          "size": [
           21
          ],
          "sizemode": "area",
          "sizeref": 0.1175,
          "symbol": "circle"
         },
         "mode": "markers",
         "name": "Athletic Club",
         "orientation": "v",
         "showlegend": true,
         "type": "scatter",
         "x": [
          21
         ],
         "xaxis": "x",
         "y": [
          0.6000000000000014
         ],
         "yaxis": "y"
        },
        {
         "customdata": [
          [
           14
          ]
         ],
         "hovertemplate": "<b>%{hovertext}</b><br><br>Squad=Valencia<br>GF=%{x}<br>GF-xG=%{y}<br>Pts=%{marker.size}<br>Posicion=%{customdata[0]}<extra></extra>",
         "hovertext": [
          "Valencia"
         ],
         "legendgroup": "Valencia",
         "marker": {
          "color": "#B2828D",
          "opacity": 1,
          "size": [
           20
          ],
          "sizemode": "area",
          "sizeref": 0.1175,
          "symbol": "circle"
         },
         "mode": "markers",
         "name": "Valencia",
         "orientation": "v",
         "showlegend": true,
         "type": "scatter",
         "x": [
          26
         ],
         "xaxis": "x",
         "y": [
          3.3999999999999986
         ],
         "yaxis": "y"
        },
        {
         "customdata": [
          [
           15
          ]
         ],
         "hovertemplate": "<b>%{hovertext}</b><br><br>Squad=Eibar<br>GF=%{x}<br>GF-xG=%{y}<br>Pts=%{marker.size}<br>Posicion=%{customdata[0]}<extra></extra>",
         "hovertext": [
          "Eibar"
         ],
         "legendgroup": "Eibar",
         "marker": {
          "color": "#6C7C32",
          "opacity": 1,
          "size": [
           20
          ],
          "sizemode": "area",
          "sizeref": 0.1175,
          "symbol": "circle"
         },
         "mode": "markers",
         "name": "Eibar",
         "orientation": "v",
         "showlegend": true,
         "type": "scatter",
         "x": [
          17
         ],
         "xaxis": "x",
         "y": [
          -4
         ],
         "yaxis": "y"
        },
        {
         "customdata": [
          [
           16
          ]
         ],
         "hovertemplate": "<b>%{hovertext}</b><br><br>Squad=Valladolid<br>GF=%{x}<br>GF-xG=%{y}<br>Pts=%{marker.size}<br>Posicion=%{customdata[0]}<extra></extra>",
         "hovertext": [
          "Valladolid"
         ],
         "legendgroup": "Valladolid",
         "marker": {
          "color": "#778AAE",
          "opacity": 1,
          "size": [
           20
          ],
          "sizemode": "area",
          "sizeref": 0.1175,
          "symbol": "circle"
         },
         "mode": "markers",
         "name": "Valladolid",
         "orientation": "v",
         "showlegend": true,
         "type": "scatter",
         "x": [
          20
         ],
         "xaxis": "x",
         "y": [
          1.1000000000000014
         ],
         "yaxis": "y"
        },
        {
         "customdata": [
          [
           17
          ]
         ],
         "hovertemplate": "<b>%{hovertext}</b><br><br>Squad=Osasuna<br>GF=%{x}<br>GF-xG=%{y}<br>Pts=%{marker.size}<br>Posicion=%{customdata[0]}<extra></extra>",
         "hovertext": [
          "Osasuna"
         ],
         "legendgroup": "Osasuna",
         "marker": {
          "color": "#862A16",
          "opacity": 1,
          "size": [
           19
          ],
          "sizemode": "area",
          "sizeref": 0.1175,
          "symbol": "circle"
         },
         "mode": "markers",
         "name": "Osasuna",
         "orientation": "v",
         "showlegend": true,
         "type": "scatter",
         "x": [
          19
         ],
         "xaxis": "x",
         "y": [
          0.10000000000000142
         ],
         "yaxis": "y"
        },
        {
         "customdata": [
          [
           18
          ]
         ],
         "hovertemplate": "<b>%{hovertext}</b><br><br>Squad=Alavés<br>GF=%{x}<br>GF-xG=%{y}<br>Pts=%{marker.size}<br>Posicion=%{customdata[0]}<extra></extra>",
         "hovertext": [
          "Alavés"
         ],
         "legendgroup": "Alavés",
         "marker": {
          "color": "#A777F1",
          "opacity": 1,
          "size": [
           18
          ],
          "sizemode": "area",
          "sizeref": 0.1175,
          "symbol": "circle"
         },
         "mode": "markers",
         "name": "Alavés",
         "orientation": "v",
         "showlegend": true,
         "type": "scatter",
         "x": [
          18
         ],
         "xaxis": "x",
         "y": [
          -4.899999999999999
         ],
         "yaxis": "y"
        },
        {
         "customdata": [
          [
           19
          ]
         ],
         "hovertemplate": "<b>%{hovertext}</b><br><br>Squad=Elche<br>GF=%{x}<br>GF-xG=%{y}<br>Pts=%{marker.size}<br>Posicion=%{customdata[0]}<extra></extra>",
         "hovertext": [
          "Elche"
         ],
         "legendgroup": "Elche",
         "marker": {
          "color": "#620042",
          "opacity": 1,
          "size": [
           17
          ],
          "sizemode": "area",
          "sizeref": 0.1175,
          "symbol": "circle"
         },
         "mode": "markers",
         "name": "Elche",
         "orientation": "v",
         "showlegend": true,
         "type": "scatter",
         "x": [
          16
         ],
         "xaxis": "x",
         "y": [
          2.9000000000000004
         ],
         "yaxis": "y"
        },
        {
         "customdata": [
          [
           20
          ]
         ],
         "hovertemplate": "<b>%{hovertext}</b><br><br>Squad=Huesca<br>GF=%{x}<br>GF-xG=%{y}<br>Pts=%{marker.size}<br>Posicion=%{customdata[0]}<extra></extra>",
         "hovertext": [
          "Huesca"
         ],
         "legendgroup": "Huesca",
         "marker": {
          "color": "#1616A7",
          "opacity": 1,
          "size": [
           13
          ],
          "sizemode": "area",
          "sizeref": 0.1175,
          "symbol": "circle"
         },
         "mode": "markers",
         "name": "Huesca",
         "orientation": "v",
         "showlegend": true,
         "type": "scatter",
         "x": [
          14
         ],
         "xaxis": "x",
         "y": [
          -3
         ],
         "yaxis": "y"
        }
       ],
       "layout": {
        "legend": {
         "itemsizing": "constant",
         "title": {
          "text": "Squad"
         },
         "tracegroupgap": 0
        },
        "shapes": [
         {
          "line": {
           "color": "black",
           "width": 2
          },
          "opacity": 0.8,
          "type": "line",
          "x0": 0,
          "x1": 1,
          "xref": "x domain",
          "y0": 0,
          "y1": 0,
          "yref": "y"
         },
         {
          "line": {
           "color": "black",
           "width": 2
          },
          "opacity": 0.8,
          "type": "line",
          "x0": 23.95,
          "x1": 23.95,
          "xref": "x",
          "y0": 0,
          "y1": 1,
          "yref": "y domain"
         },
         {
          "fillcolor": "red",
          "opacity": 0.2,
          "type": "rect",
          "x0": 10,
          "x1": 23.95,
          "y0": -8,
          "y1": 0
         },
         {
          "fillcolor": "yellow",
          "opacity": 0.2,
          "type": "rect",
          "x0": 23.95,
          "x1": 42,
          "y0": -8,
          "y1": 0
         },
         {
          "fillcolor": "yellow",
          "opacity": 0.2,
          "type": "rect",
          "x0": 10,
          "x1": 23.95,
          "y0": 0,
          "y1": 14
         },
         {
          "fillcolor": "green",
          "opacity": 0.2,
          "type": "rect",
          "x0": 23.95,
          "x1": 42,
          "y0": 0,
          "y1": 14
         }
        ],
        "template": {
         "data": {
          "bar": [
           {
            "error_x": {
             "color": "rgb(36,36,36)"
            },
            "error_y": {
             "color": "rgb(36,36,36)"
            },
            "marker": {
             "line": {
              "color": "rgb(234,234,242)",
              "width": 0.5
             }
            },
            "type": "bar"
           }
          ],
          "barpolar": [
           {
            "marker": {
             "line": {
              "color": "rgb(234,234,242)",
              "width": 0.5
             }
            },
            "type": "barpolar"
           }
          ],
          "carpet": [
           {
            "aaxis": {
             "endlinecolor": "rgb(36,36,36)",
             "gridcolor": "white",
             "linecolor": "white",
             "minorgridcolor": "white",
             "startlinecolor": "rgb(36,36,36)"
            },
            "baxis": {
             "endlinecolor": "rgb(36,36,36)",
             "gridcolor": "white",
             "linecolor": "white",
             "minorgridcolor": "white",
             "startlinecolor": "rgb(36,36,36)"
            },
            "type": "carpet"
           }
          ],
          "choropleth": [
           {
            "colorbar": {
             "outlinewidth": 0,
             "tickcolor": "rgb(36,36,36)",
             "ticklen": 8,
             "ticks": "outside",
             "tickwidth": 2
            },
            "type": "choropleth"
           }
          ],
          "contour": [
           {
            "colorbar": {
             "outlinewidth": 0,
             "tickcolor": "rgb(36,36,36)",
             "ticklen": 8,
             "ticks": "outside",
             "tickwidth": 2
            },
            "colorscale": [
             [
              0,
              "rgb(2,4,25)"
             ],
             [
              0.06274509803921569,
              "rgb(24,15,41)"
             ],
             [
              0.12549019607843137,
              "rgb(47,23,57)"
             ],
             [
              0.18823529411764706,
              "rgb(71,28,72)"
             ],
             [
              0.25098039215686274,
              "rgb(97,30,82)"
             ],
             [
              0.3137254901960784,
              "rgb(123,30,89)"
             ],
             [
              0.3764705882352941,
              "rgb(150,27,91)"
             ],
             [
              0.4392156862745098,
              "rgb(177,22,88)"
             ],
             [
              0.5019607843137255,
              "rgb(203,26,79)"
             ],
             [
              0.5647058823529412,
              "rgb(223,47,67)"
             ],
             [
              0.6274509803921569,
              "rgb(236,76,61)"
             ],
             [
              0.6901960784313725,
              "rgb(242,107,73)"
             ],
             [
              0.7529411764705882,
              "rgb(244,135,95)"
             ],
             [
              0.8156862745098039,
              "rgb(245,162,122)"
             ],
             [
              0.8784313725490196,
              "rgb(246,188,153)"
             ],
             [
              0.9411764705882353,
              "rgb(247,212,187)"
             ],
             [
              1,
              "rgb(250,234,220)"
             ]
            ],
            "type": "contour"
           }
          ],
          "contourcarpet": [
           {
            "colorbar": {
             "outlinewidth": 0,
             "tickcolor": "rgb(36,36,36)",
             "ticklen": 8,
             "ticks": "outside",
             "tickwidth": 2
            },
            "type": "contourcarpet"
           }
          ],
          "heatmap": [
           {
            "colorbar": {
             "outlinewidth": 0,
             "tickcolor": "rgb(36,36,36)",
             "ticklen": 8,
             "ticks": "outside",
             "tickwidth": 2
            },
            "colorscale": [
             [
              0,
              "rgb(2,4,25)"
             ],
             [
              0.06274509803921569,
              "rgb(24,15,41)"
             ],
             [
              0.12549019607843137,
              "rgb(47,23,57)"
             ],
             [
              0.18823529411764706,
              "rgb(71,28,72)"
             ],
             [
              0.25098039215686274,
              "rgb(97,30,82)"
             ],
             [
              0.3137254901960784,
              "rgb(123,30,89)"
             ],
             [
              0.3764705882352941,
              "rgb(150,27,91)"
             ],
             [
              0.4392156862745098,
              "rgb(177,22,88)"
             ],
             [
              0.5019607843137255,
              "rgb(203,26,79)"
             ],
             [
              0.5647058823529412,
              "rgb(223,47,67)"
             ],
             [
              0.6274509803921569,
              "rgb(236,76,61)"
             ],
             [
              0.6901960784313725,
              "rgb(242,107,73)"
             ],
             [
              0.7529411764705882,
              "rgb(244,135,95)"
             ],
             [
              0.8156862745098039,
              "rgb(245,162,122)"
             ],
             [
              0.8784313725490196,
              "rgb(246,188,153)"
             ],
             [
              0.9411764705882353,
              "rgb(247,212,187)"
             ],
             [
              1,
              "rgb(250,234,220)"
             ]
            ],
            "type": "heatmap"
           }
          ],
          "heatmapgl": [
           {
            "colorbar": {
             "outlinewidth": 0,
             "tickcolor": "rgb(36,36,36)",
             "ticklen": 8,
             "ticks": "outside",
             "tickwidth": 2
            },
            "colorscale": [
             [
              0,
              "rgb(2,4,25)"
             ],
             [
              0.06274509803921569,
              "rgb(24,15,41)"
             ],
             [
              0.12549019607843137,
              "rgb(47,23,57)"
             ],
             [
              0.18823529411764706,
              "rgb(71,28,72)"
             ],
             [
              0.25098039215686274,
              "rgb(97,30,82)"
             ],
             [
              0.3137254901960784,
              "rgb(123,30,89)"
             ],
             [
              0.3764705882352941,
              "rgb(150,27,91)"
             ],
             [
              0.4392156862745098,
              "rgb(177,22,88)"
             ],
             [
              0.5019607843137255,
              "rgb(203,26,79)"
             ],
             [
              0.5647058823529412,
              "rgb(223,47,67)"
             ],
             [
              0.6274509803921569,
              "rgb(236,76,61)"
             ],
             [
              0.6901960784313725,
              "rgb(242,107,73)"
             ],
             [
              0.7529411764705882,
              "rgb(244,135,95)"
             ],
             [
              0.8156862745098039,
              "rgb(245,162,122)"
             ],
             [
              0.8784313725490196,
              "rgb(246,188,153)"
             ],
             [
              0.9411764705882353,
              "rgb(247,212,187)"
             ],
             [
              1,
              "rgb(250,234,220)"
             ]
            ],
            "type": "heatmapgl"
           }
          ],
          "histogram": [
           {
            "marker": {
             "colorbar": {
              "outlinewidth": 0,
              "tickcolor": "rgb(36,36,36)",
              "ticklen": 8,
              "ticks": "outside",
              "tickwidth": 2
             }
            },
            "type": "histogram"
           }
          ],
          "histogram2d": [
           {
            "colorbar": {
             "outlinewidth": 0,
             "tickcolor": "rgb(36,36,36)",
             "ticklen": 8,
             "ticks": "outside",
             "tickwidth": 2
            },
            "colorscale": [
             [
              0,
              "rgb(2,4,25)"
             ],
             [
              0.06274509803921569,
              "rgb(24,15,41)"
             ],
             [
              0.12549019607843137,
              "rgb(47,23,57)"
             ],
             [
              0.18823529411764706,
              "rgb(71,28,72)"
             ],
             [
              0.25098039215686274,
              "rgb(97,30,82)"
             ],
             [
              0.3137254901960784,
              "rgb(123,30,89)"
             ],
             [
              0.3764705882352941,
              "rgb(150,27,91)"
             ],
             [
              0.4392156862745098,
              "rgb(177,22,88)"
             ],
             [
              0.5019607843137255,
              "rgb(203,26,79)"
             ],
             [
              0.5647058823529412,
              "rgb(223,47,67)"
             ],
             [
              0.6274509803921569,
              "rgb(236,76,61)"
             ],
             [
              0.6901960784313725,
              "rgb(242,107,73)"
             ],
             [
              0.7529411764705882,
              "rgb(244,135,95)"
             ],
             [
              0.8156862745098039,
              "rgb(245,162,122)"
             ],
             [
              0.8784313725490196,
              "rgb(246,188,153)"
             ],
             [
              0.9411764705882353,
              "rgb(247,212,187)"
             ],
             [
              1,
              "rgb(250,234,220)"
             ]
            ],
            "type": "histogram2d"
           }
          ],
          "histogram2dcontour": [
           {
            "colorbar": {
             "outlinewidth": 0,
             "tickcolor": "rgb(36,36,36)",
             "ticklen": 8,
             "ticks": "outside",
             "tickwidth": 2
            },
            "colorscale": [
             [
              0,
              "rgb(2,4,25)"
             ],
             [
              0.06274509803921569,
              "rgb(24,15,41)"
             ],
             [
              0.12549019607843137,
              "rgb(47,23,57)"
             ],
             [
              0.18823529411764706,
              "rgb(71,28,72)"
             ],
             [
              0.25098039215686274,
              "rgb(97,30,82)"
             ],
             [
              0.3137254901960784,
              "rgb(123,30,89)"
             ],
             [
              0.3764705882352941,
              "rgb(150,27,91)"
             ],
             [
              0.4392156862745098,
              "rgb(177,22,88)"
             ],
             [
              0.5019607843137255,
              "rgb(203,26,79)"
             ],
             [
              0.5647058823529412,
              "rgb(223,47,67)"
             ],
             [
              0.6274509803921569,
              "rgb(236,76,61)"
             ],
             [
              0.6901960784313725,
              "rgb(242,107,73)"
             ],
             [
              0.7529411764705882,
              "rgb(244,135,95)"
             ],
             [
              0.8156862745098039,
              "rgb(245,162,122)"
             ],
             [
              0.8784313725490196,
              "rgb(246,188,153)"
             ],
             [
              0.9411764705882353,
              "rgb(247,212,187)"
             ],
             [
              1,
              "rgb(250,234,220)"
             ]
            ],
            "type": "histogram2dcontour"
           }
          ],
          "mesh3d": [
           {
            "colorbar": {
             "outlinewidth": 0,
             "tickcolor": "rgb(36,36,36)",
             "ticklen": 8,
             "ticks": "outside",
             "tickwidth": 2
            },
            "type": "mesh3d"
           }
          ],
          "parcoords": [
           {
            "line": {
             "colorbar": {
              "outlinewidth": 0,
              "tickcolor": "rgb(36,36,36)",
              "ticklen": 8,
              "ticks": "outside",
              "tickwidth": 2
             }
            },
            "type": "parcoords"
           }
          ],
          "pie": [
           {
            "automargin": true,
            "type": "pie"
           }
          ],
          "scatter": [
           {
            "marker": {
             "colorbar": {
              "outlinewidth": 0,
              "tickcolor": "rgb(36,36,36)",
              "ticklen": 8,
              "ticks": "outside",
              "tickwidth": 2
             }
            },
            "type": "scatter"
           }
          ],
          "scatter3d": [
           {
            "line": {
             "colorbar": {
              "outlinewidth": 0,
              "tickcolor": "rgb(36,36,36)",
              "ticklen": 8,
              "ticks": "outside",
              "tickwidth": 2
             }
            },
            "marker": {
             "colorbar": {
              "outlinewidth": 0,
              "tickcolor": "rgb(36,36,36)",
              "ticklen": 8,
              "ticks": "outside",
              "tickwidth": 2
             }
            },
            "type": "scatter3d"
           }
          ],
          "scattercarpet": [
           {
            "marker": {
             "colorbar": {
              "outlinewidth": 0,
              "tickcolor": "rgb(36,36,36)",
              "ticklen": 8,
              "ticks": "outside",
              "tickwidth": 2
             }
            },
            "type": "scattercarpet"
           }
          ],
          "scattergeo": [
           {
            "marker": {
             "colorbar": {
              "outlinewidth": 0,
              "tickcolor": "rgb(36,36,36)",
              "ticklen": 8,
              "ticks": "outside",
              "tickwidth": 2
             }
            },
            "type": "scattergeo"
           }
          ],
          "scattergl": [
           {
            "marker": {
             "colorbar": {
              "outlinewidth": 0,
              "tickcolor": "rgb(36,36,36)",
              "ticklen": 8,
              "ticks": "outside",
              "tickwidth": 2
             }
            },
            "type": "scattergl"
           }
          ],
          "scattermapbox": [
           {
            "marker": {
             "colorbar": {
              "outlinewidth": 0,
              "tickcolor": "rgb(36,36,36)",
              "ticklen": 8,
              "ticks": "outside",
              "tickwidth": 2
             }
            },
            "type": "scattermapbox"
           }
          ],
          "scatterpolar": [
           {
            "marker": {
             "colorbar": {
              "outlinewidth": 0,
              "tickcolor": "rgb(36,36,36)",
              "ticklen": 8,
              "ticks": "outside",
              "tickwidth": 2
             }
            },
            "type": "scatterpolar"
           }
          ],
          "scatterpolargl": [
           {
            "marker": {
             "colorbar": {
              "outlinewidth": 0,
              "tickcolor": "rgb(36,36,36)",
              "ticklen": 8,
              "ticks": "outside",
              "tickwidth": 2
             }
            },
            "type": "scatterpolargl"
           }
          ],
          "scatterternary": [
           {
            "marker": {
             "colorbar": {
              "outlinewidth": 0,
              "tickcolor": "rgb(36,36,36)",
              "ticklen": 8,
              "ticks": "outside",
              "tickwidth": 2
             }
            },
            "type": "scatterternary"
           }
          ],
          "surface": [
           {
            "colorbar": {
             "outlinewidth": 0,
             "tickcolor": "rgb(36,36,36)",
             "ticklen": 8,
             "ticks": "outside",
             "tickwidth": 2
            },
            "colorscale": [
             [
              0,
              "rgb(2,4,25)"
             ],
             [
              0.06274509803921569,
              "rgb(24,15,41)"
             ],
             [
              0.12549019607843137,
              "rgb(47,23,57)"
             ],
             [
              0.18823529411764706,
              "rgb(71,28,72)"
             ],
             [
              0.25098039215686274,
              "rgb(97,30,82)"
             ],
             [
              0.3137254901960784,
              "rgb(123,30,89)"
             ],
             [
              0.3764705882352941,
              "rgb(150,27,91)"
             ],
             [
              0.4392156862745098,
              "rgb(177,22,88)"
             ],
             [
              0.5019607843137255,
              "rgb(203,26,79)"
             ],
             [
              0.5647058823529412,
              "rgb(223,47,67)"
             ],
             [
              0.6274509803921569,
              "rgb(236,76,61)"
             ],
             [
              0.6901960784313725,
              "rgb(242,107,73)"
             ],
             [
              0.7529411764705882,
              "rgb(244,135,95)"
             ],
             [
              0.8156862745098039,
              "rgb(245,162,122)"
             ],
             [
              0.8784313725490196,
              "rgb(246,188,153)"
             ],
             [
              0.9411764705882353,
              "rgb(247,212,187)"
             ],
             [
              1,
              "rgb(250,234,220)"
             ]
            ],
            "type": "surface"
           }
          ],
          "table": [
           {
            "cells": {
             "fill": {
              "color": "rgb(231,231,240)"
             },
             "line": {
              "color": "white"
             }
            },
            "header": {
             "fill": {
              "color": "rgb(183,183,191)"
             },
             "line": {
              "color": "white"
             }
            },
            "type": "table"
           }
          ]
         },
         "layout": {
          "annotationdefaults": {
           "arrowcolor": "rgb(67,103,167)"
          },
          "autotypenumbers": "strict",
          "coloraxis": {
           "colorbar": {
            "outlinewidth": 0,
            "tickcolor": "rgb(36,36,36)",
            "ticklen": 8,
            "ticks": "outside",
            "tickwidth": 2
           }
          },
          "colorscale": {
           "sequential": [
            [
             0,
             "rgb(2,4,25)"
            ],
            [
             0.06274509803921569,
             "rgb(24,15,41)"
            ],
            [
             0.12549019607843137,
             "rgb(47,23,57)"
            ],
            [
             0.18823529411764706,
             "rgb(71,28,72)"
            ],
            [
             0.25098039215686274,
             "rgb(97,30,82)"
            ],
            [
             0.3137254901960784,
             "rgb(123,30,89)"
            ],
            [
             0.3764705882352941,
             "rgb(150,27,91)"
            ],
            [
             0.4392156862745098,
             "rgb(177,22,88)"
            ],
            [
             0.5019607843137255,
             "rgb(203,26,79)"
            ],
            [
             0.5647058823529412,
             "rgb(223,47,67)"
            ],
            [
             0.6274509803921569,
             "rgb(236,76,61)"
            ],
            [
             0.6901960784313725,
             "rgb(242,107,73)"
            ],
            [
             0.7529411764705882,
             "rgb(244,135,95)"
            ],
            [
             0.8156862745098039,
             "rgb(245,162,122)"
            ],
            [
             0.8784313725490196,
             "rgb(246,188,153)"
            ],
            [
             0.9411764705882353,
             "rgb(247,212,187)"
            ],
            [
             1,
             "rgb(250,234,220)"
            ]
           ],
           "sequentialminus": [
            [
             0,
             "rgb(2,4,25)"
            ],
            [
             0.06274509803921569,
             "rgb(24,15,41)"
            ],
            [
             0.12549019607843137,
             "rgb(47,23,57)"
            ],
            [
             0.18823529411764706,
             "rgb(71,28,72)"
            ],
            [
             0.25098039215686274,
             "rgb(97,30,82)"
            ],
            [
             0.3137254901960784,
             "rgb(123,30,89)"
            ],
            [
             0.3764705882352941,
             "rgb(150,27,91)"
            ],
            [
             0.4392156862745098,
             "rgb(177,22,88)"
            ],
            [
             0.5019607843137255,
             "rgb(203,26,79)"
            ],
            [
             0.5647058823529412,
             "rgb(223,47,67)"
            ],
            [
             0.6274509803921569,
             "rgb(236,76,61)"
            ],
            [
             0.6901960784313725,
             "rgb(242,107,73)"
            ],
            [
             0.7529411764705882,
             "rgb(244,135,95)"
            ],
            [
             0.8156862745098039,
             "rgb(245,162,122)"
            ],
            [
             0.8784313725490196,
             "rgb(246,188,153)"
            ],
            [
             0.9411764705882353,
             "rgb(247,212,187)"
            ],
            [
             1,
             "rgb(250,234,220)"
            ]
           ]
          },
          "colorway": [
           "rgb(76,114,176)",
           "rgb(221,132,82)",
           "rgb(85,168,104)",
           "rgb(196,78,82)",
           "rgb(129,114,179)",
           "rgb(147,120,96)",
           "rgb(218,139,195)",
           "rgb(140,140,140)",
           "rgb(204,185,116)",
           "rgb(100,181,205)"
          ],
          "font": {
           "color": "rgb(36,36,36)"
          },
          "geo": {
           "bgcolor": "white",
           "lakecolor": "white",
           "landcolor": "rgb(234,234,242)",
           "showlakes": true,
           "showland": true,
           "subunitcolor": "white"
          },
          "hoverlabel": {
           "align": "left"
          },
          "hovermode": "closest",
          "paper_bgcolor": "white",
          "plot_bgcolor": "rgb(234,234,242)",
          "polar": {
           "angularaxis": {
            "gridcolor": "white",
            "linecolor": "white",
            "showgrid": true,
            "ticks": ""
           },
           "bgcolor": "rgb(234,234,242)",
           "radialaxis": {
            "gridcolor": "white",
            "linecolor": "white",
            "showgrid": true,
            "ticks": ""
           }
          },
          "scene": {
           "xaxis": {
            "backgroundcolor": "rgb(234,234,242)",
            "gridcolor": "white",
            "gridwidth": 2,
            "linecolor": "white",
            "showbackground": true,
            "showgrid": true,
            "ticks": "",
            "zerolinecolor": "white"
           },
           "yaxis": {
            "backgroundcolor": "rgb(234,234,242)",
            "gridcolor": "white",
            "gridwidth": 2,
            "linecolor": "white",
            "showbackground": true,
            "showgrid": true,
            "ticks": "",
            "zerolinecolor": "white"
           },
           "zaxis": {
            "backgroundcolor": "rgb(234,234,242)",
            "gridcolor": "white",
            "gridwidth": 2,
            "linecolor": "white",
            "showbackground": true,
            "showgrid": true,
            "ticks": "",
            "zerolinecolor": "white"
           }
          },
          "shapedefaults": {
           "fillcolor": "rgb(67,103,167)",
           "line": {
            "width": 0
           },
           "opacity": 0.5
          },
          "ternary": {
           "aaxis": {
            "gridcolor": "white",
            "linecolor": "white",
            "showgrid": true,
            "ticks": ""
           },
           "baxis": {
            "gridcolor": "white",
            "linecolor": "white",
            "showgrid": true,
            "ticks": ""
           },
           "bgcolor": "rgb(234,234,242)",
           "caxis": {
            "gridcolor": "white",
            "linecolor": "white",
            "showgrid": true,
            "ticks": ""
           }
          },
          "xaxis": {
           "automargin": true,
           "gridcolor": "white",
           "linecolor": "white",
           "showgrid": true,
           "ticks": "",
           "title": {
            "standoff": 15
           },
           "zerolinecolor": "white"
          },
          "yaxis": {
           "automargin": true,
           "gridcolor": "white",
           "linecolor": "white",
           "showgrid": true,
           "ticks": "",
           "title": {
            "standoff": 15
           },
           "zerolinecolor": "white"
          }
         }
        },
        "title": {
         "font": {
          "size": 25
         },
         "text": "<b>Goals vs Goals Against</b><br>La Liga 2020-2021 (Fixtures 1-20)",
         "xanchor": "center",
         "y": 0.95,
         "yanchor": "top"
        },
        "width": 950,
        "xaxis": {
         "anchor": "y",
         "domain": [
          0,
          1
         ],
         "title": {
          "text": "GF"
         }
        },
        "yaxis": {
         "anchor": "x",
         "domain": [
          0,
          1
         ],
         "title": {
          "text": "GF-xG"
         }
        }
       }
      },
      "text/html": [
       "<div>                            <div id=\"96797d51-293f-401f-96dd-814ec0a8557d\" class=\"plotly-graph-div\" style=\"height:525px; width:950px;\"></div>            <script type=\"text/javascript\">                require([\"plotly\"], function(Plotly) {                    window.PLOTLYENV=window.PLOTLYENV || {};                                    if (document.getElementById(\"96797d51-293f-401f-96dd-814ec0a8557d\")) {                    Plotly.newPlot(                        \"96797d51-293f-401f-96dd-814ec0a8557d\",                        [{\"customdata\": [[1]], \"hovertemplate\": \"<b>%{hovertext}</b><br><br>Squad=Atl\\u00e9tico Madrid<br>GF=%{x}<br>GF-xG=%{y}<br>Pts=%{marker.size}<br>Posicion=%{customdata[0]}<extra></extra>\", \"hovertext\": [\"Atl\\u00e9tico Madrid\"], \"legendgroup\": \"Atl\\u00e9tico Madrid\", \"marker\": {\"color\": \"#2E91E5\", \"opacity\": 1, \"size\": [47], \"sizemode\": \"area\", \"sizeref\": 0.1175, \"symbol\": \"circle\"}, \"mode\": \"markers\", \"name\": \"Atl\\u00e9tico Madrid\", \"orientation\": \"v\", \"showlegend\": true, \"type\": \"scatter\", \"x\": [36], \"xaxis\": \"x\", \"y\": [11.600000000000001], \"yaxis\": \"y\"}, {\"customdata\": [[2]], \"hovertemplate\": \"<b>%{hovertext}</b><br><br>Squad=Real Madrid<br>GF=%{x}<br>GF-xG=%{y}<br>Pts=%{marker.size}<br>Posicion=%{customdata[0]}<extra></extra>\", \"hovertext\": [\"Real Madrid\"], \"legendgroup\": \"Real Madrid\", \"marker\": {\"color\": \"#E15F99\", \"opacity\": 1, \"size\": [40], \"sizemode\": \"area\", \"sizeref\": 0.1175, \"symbol\": \"circle\"}, \"mode\": \"markers\", \"name\": \"Real Madrid\", \"orientation\": \"v\", \"showlegend\": true, \"type\": \"scatter\", \"x\": [34], \"xaxis\": \"x\", \"y\": [3.1999999999999993], \"yaxis\": \"y\"}, {\"customdata\": [[3]], \"hovertemplate\": \"<b>%{hovertext}</b><br><br>Squad=Barcelona<br>GF=%{x}<br>GF-xG=%{y}<br>Pts=%{marker.size}<br>Posicion=%{customdata[0]}<extra></extra>\", \"hovertext\": [\"Barcelona\"], \"legendgroup\": \"Barcelona\", \"marker\": {\"color\": \"#1CA71C\", \"opacity\": 1, \"size\": [37], \"sizemode\": \"area\", \"sizeref\": 0.1175, \"symbol\": \"circle\"}, \"mode\": \"markers\", \"name\": \"Barcelona\", \"orientation\": \"v\", \"showlegend\": true, \"type\": \"scatter\", \"x\": [39], \"xaxis\": \"x\", \"y\": [-2.6000000000000014], \"yaxis\": \"y\"}, {\"customdata\": [[4]], \"hovertemplate\": \"<b>%{hovertext}</b><br><br>Squad=Sevilla<br>GF=%{x}<br>GF-xG=%{y}<br>Pts=%{marker.size}<br>Posicion=%{customdata[0]}<extra></extra>\", \"hovertext\": [\"Sevilla\"], \"legendgroup\": \"Sevilla\", \"marker\": {\"color\": \"#FB0D0D\", \"opacity\": 1, \"size\": [36], \"sizemode\": \"area\", \"sizeref\": 0.1175, \"symbol\": \"circle\"}, \"mode\": \"markers\", \"name\": \"Sevilla\", \"orientation\": \"v\", \"showlegend\": true, \"type\": \"scatter\", \"x\": [26], \"xaxis\": \"x\", \"y\": [0.8999999999999986], \"yaxis\": \"y\"}, {\"customdata\": [[5]], \"hovertemplate\": \"<b>%{hovertext}</b><br><br>Squad=Villarreal<br>GF=%{x}<br>GF-xG=%{y}<br>Pts=%{marker.size}<br>Posicion=%{customdata[0]}<extra></extra>\", \"hovertext\": [\"Villarreal\"], \"legendgroup\": \"Villarreal\", \"marker\": {\"color\": \"#DA16FF\", \"opacity\": 1, \"size\": [34], \"sizemode\": \"area\", \"sizeref\": 0.1175, \"symbol\": \"circle\"}, \"mode\": \"markers\", \"name\": \"Villarreal\", \"orientation\": \"v\", \"showlegend\": true, \"type\": \"scatter\", \"x\": [28], \"xaxis\": \"x\", \"y\": [-1.6000000000000014], \"yaxis\": \"y\"}, {\"customdata\": [[6]], \"hovertemplate\": \"<b>%{hovertext}</b><br><br>Squad=Real Sociedad<br>GF=%{x}<br>GF-xG=%{y}<br>Pts=%{marker.size}<br>Posicion=%{customdata[0]}<extra></extra>\", \"hovertext\": [\"Real Sociedad\"], \"legendgroup\": \"Real Sociedad\", \"marker\": {\"color\": \"#222A2A\", \"opacity\": 1, \"size\": [31], \"sizemode\": \"area\", \"sizeref\": 0.1175, \"symbol\": \"circle\"}, \"mode\": \"markers\", \"name\": \"Real Sociedad\", \"orientation\": \"v\", \"showlegend\": true, \"type\": \"scatter\", \"x\": [31], \"xaxis\": \"x\", \"y\": [-1.3999999999999986], \"yaxis\": \"y\"}, {\"customdata\": [[7]], \"hovertemplate\": \"<b>%{hovertext}</b><br><br>Squad=Granada<br>GF=%{x}<br>GF-xG=%{y}<br>Pts=%{marker.size}<br>Posicion=%{customdata[0]}<extra></extra>\", \"hovertext\": [\"Granada\"], \"legendgroup\": \"Granada\", \"marker\": {\"color\": \"#B68100\", \"opacity\": 1, \"size\": [28], \"sizemode\": \"area\", \"sizeref\": 0.1175, \"symbol\": \"circle\"}, \"mode\": \"markers\", \"name\": \"Granada\", \"orientation\": \"v\", \"showlegend\": true, \"type\": \"scatter\", \"x\": [24], \"xaxis\": \"x\", \"y\": [3.3000000000000007], \"yaxis\": \"y\"}, {\"customdata\": [[8]], \"hovertemplate\": \"<b>%{hovertext}</b><br><br>Squad=Betis<br>GF=%{x}<br>GF-xG=%{y}<br>Pts=%{marker.size}<br>Posicion=%{customdata[0]}<extra></extra>\", \"hovertext\": [\"Betis\"], \"legendgroup\": \"Betis\", \"marker\": {\"color\": \"#750D86\", \"opacity\": 1, \"size\": [27], \"sizemode\": \"area\", \"sizeref\": 0.1175, \"symbol\": \"circle\"}, \"mode\": \"markers\", \"name\": \"Betis\", \"orientation\": \"v\", \"showlegend\": true, \"type\": \"scatter\", \"x\": [26], \"xaxis\": \"x\", \"y\": [2.3000000000000007], \"yaxis\": \"y\"}, {\"customdata\": [[9]], \"hovertemplate\": \"<b>%{hovertext}</b><br><br>Squad=Celta Vigo<br>GF=%{x}<br>GF-xG=%{y}<br>Pts=%{marker.size}<br>Posicion=%{customdata[0]}<extra></extra>\", \"hovertext\": [\"Celta Vigo\"], \"legendgroup\": \"Celta Vigo\", \"marker\": {\"color\": \"#EB663B\", \"opacity\": 1, \"size\": [24], \"sizemode\": \"area\", \"sizeref\": 0.1175, \"symbol\": \"circle\"}, \"mode\": \"markers\", \"name\": \"Celta Vigo\", \"orientation\": \"v\", \"showlegend\": true, \"type\": \"scatter\", \"x\": [24], \"xaxis\": \"x\", \"y\": [-3.6000000000000014], \"yaxis\": \"y\"}, {\"customdata\": [[10]], \"hovertemplate\": \"<b>%{hovertext}</b><br><br>Squad=C\\u00e1diz<br>GF=%{x}<br>GF-xG=%{y}<br>Pts=%{marker.size}<br>Posicion=%{customdata[0]}<extra></extra>\", \"hovertext\": [\"C\\u00e1diz\"], \"legendgroup\": \"C\\u00e1diz\", \"marker\": {\"color\": \"#511CFB\", \"opacity\": 1, \"size\": [24], \"sizemode\": \"area\", \"sizeref\": 0.1175, \"symbol\": \"circle\"}, \"mode\": \"markers\", \"name\": \"C\\u00e1diz\", \"orientation\": \"v\", \"showlegend\": true, \"type\": \"scatter\", \"x\": [17], \"xaxis\": \"x\", \"y\": [-1.1000000000000014], \"yaxis\": \"y\"}, {\"customdata\": [[11]], \"hovertemplate\": \"<b>%{hovertext}</b><br><br>Squad=Levante<br>GF=%{x}<br>GF-xG=%{y}<br>Pts=%{marker.size}<br>Posicion=%{customdata[0]}<extra></extra>\", \"hovertext\": [\"Levante\"], \"legendgroup\": \"Levante\", \"marker\": {\"color\": \"#00A08B\", \"opacity\": 1, \"size\": [23], \"sizemode\": \"area\", \"sizeref\": 0.1175, \"symbol\": \"circle\"}, \"mode\": \"markers\", \"name\": \"Levante\", \"orientation\": \"v\", \"showlegend\": true, \"type\": \"scatter\", \"x\": [27], \"xaxis\": \"x\", \"y\": [3.8999999999999986], \"yaxis\": \"y\"}, {\"customdata\": [[12]], \"hovertemplate\": \"<b>%{hovertext}</b><br><br>Squad=Getafe<br>GF=%{x}<br>GF-xG=%{y}<br>Pts=%{marker.size}<br>Posicion=%{customdata[0]}<extra></extra>\", \"hovertext\": [\"Getafe\"], \"legendgroup\": \"Getafe\", \"marker\": {\"color\": \"#FB00D1\", \"opacity\": 1, \"size\": [23], \"sizemode\": \"area\", \"sizeref\": 0.1175, \"symbol\": \"circle\"}, \"mode\": \"markers\", \"name\": \"Getafe\", \"orientation\": \"v\", \"showlegend\": true, \"type\": \"scatter\", \"x\": [16], \"xaxis\": \"x\", \"y\": [-0.1999999999999993], \"yaxis\": \"y\"}, {\"customdata\": [[13]], \"hovertemplate\": \"<b>%{hovertext}</b><br><br>Squad=Athletic Club<br>GF=%{x}<br>GF-xG=%{y}<br>Pts=%{marker.size}<br>Posicion=%{customdata[0]}<extra></extra>\", \"hovertext\": [\"Athletic Club\"], \"legendgroup\": \"Athletic Club\", \"marker\": {\"color\": \"#FC0080\", \"opacity\": 1, \"size\": [21], \"sizemode\": \"area\", \"sizeref\": 0.1175, \"symbol\": \"circle\"}, \"mode\": \"markers\", \"name\": \"Athletic Club\", \"orientation\": \"v\", \"showlegend\": true, \"type\": \"scatter\", \"x\": [21], \"xaxis\": \"x\", \"y\": [0.6000000000000014], \"yaxis\": \"y\"}, {\"customdata\": [[14]], \"hovertemplate\": \"<b>%{hovertext}</b><br><br>Squad=Valencia<br>GF=%{x}<br>GF-xG=%{y}<br>Pts=%{marker.size}<br>Posicion=%{customdata[0]}<extra></extra>\", \"hovertext\": [\"Valencia\"], \"legendgroup\": \"Valencia\", \"marker\": {\"color\": \"#B2828D\", \"opacity\": 1, \"size\": [20], \"sizemode\": \"area\", \"sizeref\": 0.1175, \"symbol\": \"circle\"}, \"mode\": \"markers\", \"name\": \"Valencia\", \"orientation\": \"v\", \"showlegend\": true, \"type\": \"scatter\", \"x\": [26], \"xaxis\": \"x\", \"y\": [3.3999999999999986], \"yaxis\": \"y\"}, {\"customdata\": [[15]], \"hovertemplate\": \"<b>%{hovertext}</b><br><br>Squad=Eibar<br>GF=%{x}<br>GF-xG=%{y}<br>Pts=%{marker.size}<br>Posicion=%{customdata[0]}<extra></extra>\", \"hovertext\": [\"Eibar\"], \"legendgroup\": \"Eibar\", \"marker\": {\"color\": \"#6C7C32\", \"opacity\": 1, \"size\": [20], \"sizemode\": \"area\", \"sizeref\": 0.1175, \"symbol\": \"circle\"}, \"mode\": \"markers\", \"name\": \"Eibar\", \"orientation\": \"v\", \"showlegend\": true, \"type\": \"scatter\", \"x\": [17], \"xaxis\": \"x\", \"y\": [-4.0], \"yaxis\": \"y\"}, {\"customdata\": [[16]], \"hovertemplate\": \"<b>%{hovertext}</b><br><br>Squad=Valladolid<br>GF=%{x}<br>GF-xG=%{y}<br>Pts=%{marker.size}<br>Posicion=%{customdata[0]}<extra></extra>\", \"hovertext\": [\"Valladolid\"], \"legendgroup\": \"Valladolid\", \"marker\": {\"color\": \"#778AAE\", \"opacity\": 1, \"size\": [20], \"sizemode\": \"area\", \"sizeref\": 0.1175, \"symbol\": \"circle\"}, \"mode\": \"markers\", \"name\": \"Valladolid\", \"orientation\": \"v\", \"showlegend\": true, \"type\": \"scatter\", \"x\": [20], \"xaxis\": \"x\", \"y\": [1.1000000000000014], \"yaxis\": \"y\"}, {\"customdata\": [[17]], \"hovertemplate\": \"<b>%{hovertext}</b><br><br>Squad=Osasuna<br>GF=%{x}<br>GF-xG=%{y}<br>Pts=%{marker.size}<br>Posicion=%{customdata[0]}<extra></extra>\", \"hovertext\": [\"Osasuna\"], \"legendgroup\": \"Osasuna\", \"marker\": {\"color\": \"#862A16\", \"opacity\": 1, \"size\": [19], \"sizemode\": \"area\", \"sizeref\": 0.1175, \"symbol\": \"circle\"}, \"mode\": \"markers\", \"name\": \"Osasuna\", \"orientation\": \"v\", \"showlegend\": true, \"type\": \"scatter\", \"x\": [19], \"xaxis\": \"x\", \"y\": [0.10000000000000142], \"yaxis\": \"y\"}, {\"customdata\": [[18]], \"hovertemplate\": \"<b>%{hovertext}</b><br><br>Squad=Alav\\u00e9s<br>GF=%{x}<br>GF-xG=%{y}<br>Pts=%{marker.size}<br>Posicion=%{customdata[0]}<extra></extra>\", \"hovertext\": [\"Alav\\u00e9s\"], \"legendgroup\": \"Alav\\u00e9s\", \"marker\": {\"color\": \"#A777F1\", \"opacity\": 1, \"size\": [18], \"sizemode\": \"area\", \"sizeref\": 0.1175, \"symbol\": \"circle\"}, \"mode\": \"markers\", \"name\": \"Alav\\u00e9s\", \"orientation\": \"v\", \"showlegend\": true, \"type\": \"scatter\", \"x\": [18], \"xaxis\": \"x\", \"y\": [-4.899999999999999], \"yaxis\": \"y\"}, {\"customdata\": [[19]], \"hovertemplate\": \"<b>%{hovertext}</b><br><br>Squad=Elche<br>GF=%{x}<br>GF-xG=%{y}<br>Pts=%{marker.size}<br>Posicion=%{customdata[0]}<extra></extra>\", \"hovertext\": [\"Elche\"], \"legendgroup\": \"Elche\", \"marker\": {\"color\": \"#620042\", \"opacity\": 1, \"size\": [17], \"sizemode\": \"area\", \"sizeref\": 0.1175, \"symbol\": \"circle\"}, \"mode\": \"markers\", \"name\": \"Elche\", \"orientation\": \"v\", \"showlegend\": true, \"type\": \"scatter\", \"x\": [16], \"xaxis\": \"x\", \"y\": [2.9000000000000004], \"yaxis\": \"y\"}, {\"customdata\": [[20]], \"hovertemplate\": \"<b>%{hovertext}</b><br><br>Squad=Huesca<br>GF=%{x}<br>GF-xG=%{y}<br>Pts=%{marker.size}<br>Posicion=%{customdata[0]}<extra></extra>\", \"hovertext\": [\"Huesca\"], \"legendgroup\": \"Huesca\", \"marker\": {\"color\": \"#1616A7\", \"opacity\": 1, \"size\": [13], \"sizemode\": \"area\", \"sizeref\": 0.1175, \"symbol\": \"circle\"}, \"mode\": \"markers\", \"name\": \"Huesca\", \"orientation\": \"v\", \"showlegend\": true, \"type\": \"scatter\", \"x\": [14], \"xaxis\": \"x\", \"y\": [-3.0], \"yaxis\": \"y\"}],                        {\"legend\": {\"itemsizing\": \"constant\", \"title\": {\"text\": \"Squad\"}, \"tracegroupgap\": 0}, \"shapes\": [{\"line\": {\"color\": \"black\", \"width\": 2}, \"opacity\": 0.8, \"type\": \"line\", \"x0\": 0, \"x1\": 1, \"xref\": \"x domain\", \"y0\": 0, \"y1\": 0, \"yref\": \"y\"}, {\"line\": {\"color\": \"black\", \"width\": 2}, \"opacity\": 0.8, \"type\": \"line\", \"x0\": 23.95, \"x1\": 23.95, \"xref\": \"x\", \"y0\": 0, \"y1\": 1, \"yref\": \"y domain\"}, {\"fillcolor\": \"red\", \"opacity\": 0.2, \"type\": \"rect\", \"x0\": 10, \"x1\": 23.95, \"y0\": -8, \"y1\": 0}, {\"fillcolor\": \"yellow\", \"opacity\": 0.2, \"type\": \"rect\", \"x0\": 23.95, \"x1\": 42, \"y0\": -8, \"y1\": 0}, {\"fillcolor\": \"yellow\", \"opacity\": 0.2, \"type\": \"rect\", \"x0\": 10, \"x1\": 23.95, \"y0\": 0, \"y1\": 14}, {\"fillcolor\": \"green\", \"opacity\": 0.2, \"type\": \"rect\", \"x0\": 23.95, \"x1\": 42, \"y0\": 0, \"y1\": 14}], \"template\": {\"data\": {\"bar\": [{\"error_x\": {\"color\": \"rgb(36,36,36)\"}, \"error_y\": {\"color\": \"rgb(36,36,36)\"}, \"marker\": {\"line\": {\"color\": \"rgb(234,234,242)\", \"width\": 0.5}}, \"type\": \"bar\"}], \"barpolar\": [{\"marker\": {\"line\": {\"color\": \"rgb(234,234,242)\", \"width\": 0.5}}, \"type\": \"barpolar\"}], \"carpet\": [{\"aaxis\": {\"endlinecolor\": \"rgb(36,36,36)\", \"gridcolor\": \"white\", \"linecolor\": \"white\", \"minorgridcolor\": \"white\", \"startlinecolor\": \"rgb(36,36,36)\"}, \"baxis\": {\"endlinecolor\": \"rgb(36,36,36)\", \"gridcolor\": \"white\", \"linecolor\": \"white\", \"minorgridcolor\": \"white\", \"startlinecolor\": \"rgb(36,36,36)\"}, \"type\": \"carpet\"}], \"choropleth\": [{\"colorbar\": {\"outlinewidth\": 0, \"tickcolor\": \"rgb(36,36,36)\", \"ticklen\": 8, \"ticks\": \"outside\", \"tickwidth\": 2}, \"type\": \"choropleth\"}], \"contour\": [{\"colorbar\": {\"outlinewidth\": 0, \"tickcolor\": \"rgb(36,36,36)\", \"ticklen\": 8, \"ticks\": \"outside\", \"tickwidth\": 2}, \"colorscale\": [[0.0, \"rgb(2,4,25)\"], [0.06274509803921569, \"rgb(24,15,41)\"], [0.12549019607843137, \"rgb(47,23,57)\"], [0.18823529411764706, \"rgb(71,28,72)\"], [0.25098039215686274, \"rgb(97,30,82)\"], [0.3137254901960784, \"rgb(123,30,89)\"], [0.3764705882352941, \"rgb(150,27,91)\"], [0.4392156862745098, \"rgb(177,22,88)\"], [0.5019607843137255, \"rgb(203,26,79)\"], [0.5647058823529412, \"rgb(223,47,67)\"], [0.6274509803921569, \"rgb(236,76,61)\"], [0.6901960784313725, \"rgb(242,107,73)\"], [0.7529411764705882, \"rgb(244,135,95)\"], [0.8156862745098039, \"rgb(245,162,122)\"], [0.8784313725490196, \"rgb(246,188,153)\"], [0.9411764705882353, \"rgb(247,212,187)\"], [1.0, \"rgb(250,234,220)\"]], \"type\": \"contour\"}], \"contourcarpet\": [{\"colorbar\": {\"outlinewidth\": 0, \"tickcolor\": \"rgb(36,36,36)\", \"ticklen\": 8, \"ticks\": \"outside\", \"tickwidth\": 2}, \"type\": \"contourcarpet\"}], \"heatmap\": [{\"colorbar\": {\"outlinewidth\": 0, \"tickcolor\": \"rgb(36,36,36)\", \"ticklen\": 8, \"ticks\": \"outside\", \"tickwidth\": 2}, \"colorscale\": [[0.0, \"rgb(2,4,25)\"], [0.06274509803921569, \"rgb(24,15,41)\"], [0.12549019607843137, \"rgb(47,23,57)\"], [0.18823529411764706, \"rgb(71,28,72)\"], [0.25098039215686274, \"rgb(97,30,82)\"], [0.3137254901960784, \"rgb(123,30,89)\"], [0.3764705882352941, \"rgb(150,27,91)\"], [0.4392156862745098, \"rgb(177,22,88)\"], [0.5019607843137255, \"rgb(203,26,79)\"], [0.5647058823529412, \"rgb(223,47,67)\"], [0.6274509803921569, \"rgb(236,76,61)\"], [0.6901960784313725, \"rgb(242,107,73)\"], [0.7529411764705882, \"rgb(244,135,95)\"], [0.8156862745098039, \"rgb(245,162,122)\"], [0.8784313725490196, \"rgb(246,188,153)\"], [0.9411764705882353, \"rgb(247,212,187)\"], [1.0, \"rgb(250,234,220)\"]], \"type\": \"heatmap\"}], \"heatmapgl\": [{\"colorbar\": {\"outlinewidth\": 0, \"tickcolor\": \"rgb(36,36,36)\", \"ticklen\": 8, \"ticks\": \"outside\", \"tickwidth\": 2}, \"colorscale\": [[0.0, \"rgb(2,4,25)\"], [0.06274509803921569, \"rgb(24,15,41)\"], [0.12549019607843137, \"rgb(47,23,57)\"], [0.18823529411764706, \"rgb(71,28,72)\"], [0.25098039215686274, \"rgb(97,30,82)\"], [0.3137254901960784, \"rgb(123,30,89)\"], [0.3764705882352941, \"rgb(150,27,91)\"], [0.4392156862745098, \"rgb(177,22,88)\"], [0.5019607843137255, \"rgb(203,26,79)\"], [0.5647058823529412, \"rgb(223,47,67)\"], [0.6274509803921569, \"rgb(236,76,61)\"], [0.6901960784313725, \"rgb(242,107,73)\"], [0.7529411764705882, \"rgb(244,135,95)\"], [0.8156862745098039, \"rgb(245,162,122)\"], [0.8784313725490196, \"rgb(246,188,153)\"], [0.9411764705882353, \"rgb(247,212,187)\"], [1.0, \"rgb(250,234,220)\"]], \"type\": \"heatmapgl\"}], \"histogram\": [{\"marker\": {\"colorbar\": {\"outlinewidth\": 0, \"tickcolor\": \"rgb(36,36,36)\", \"ticklen\": 8, \"ticks\": \"outside\", \"tickwidth\": 2}}, \"type\": \"histogram\"}], \"histogram2d\": [{\"colorbar\": {\"outlinewidth\": 0, \"tickcolor\": \"rgb(36,36,36)\", \"ticklen\": 8, \"ticks\": \"outside\", \"tickwidth\": 2}, \"colorscale\": [[0.0, \"rgb(2,4,25)\"], [0.06274509803921569, \"rgb(24,15,41)\"], [0.12549019607843137, \"rgb(47,23,57)\"], [0.18823529411764706, \"rgb(71,28,72)\"], [0.25098039215686274, \"rgb(97,30,82)\"], [0.3137254901960784, \"rgb(123,30,89)\"], [0.3764705882352941, \"rgb(150,27,91)\"], [0.4392156862745098, \"rgb(177,22,88)\"], [0.5019607843137255, \"rgb(203,26,79)\"], [0.5647058823529412, \"rgb(223,47,67)\"], [0.6274509803921569, \"rgb(236,76,61)\"], [0.6901960784313725, \"rgb(242,107,73)\"], [0.7529411764705882, \"rgb(244,135,95)\"], [0.8156862745098039, \"rgb(245,162,122)\"], [0.8784313725490196, \"rgb(246,188,153)\"], [0.9411764705882353, \"rgb(247,212,187)\"], [1.0, \"rgb(250,234,220)\"]], \"type\": \"histogram2d\"}], \"histogram2dcontour\": [{\"colorbar\": {\"outlinewidth\": 0, \"tickcolor\": \"rgb(36,36,36)\", \"ticklen\": 8, \"ticks\": \"outside\", \"tickwidth\": 2}, \"colorscale\": [[0.0, \"rgb(2,4,25)\"], [0.06274509803921569, \"rgb(24,15,41)\"], [0.12549019607843137, \"rgb(47,23,57)\"], [0.18823529411764706, \"rgb(71,28,72)\"], [0.25098039215686274, \"rgb(97,30,82)\"], [0.3137254901960784, \"rgb(123,30,89)\"], [0.3764705882352941, \"rgb(150,27,91)\"], [0.4392156862745098, \"rgb(177,22,88)\"], [0.5019607843137255, \"rgb(203,26,79)\"], [0.5647058823529412, \"rgb(223,47,67)\"], [0.6274509803921569, \"rgb(236,76,61)\"], [0.6901960784313725, \"rgb(242,107,73)\"], [0.7529411764705882, \"rgb(244,135,95)\"], [0.8156862745098039, \"rgb(245,162,122)\"], [0.8784313725490196, \"rgb(246,188,153)\"], [0.9411764705882353, \"rgb(247,212,187)\"], [1.0, \"rgb(250,234,220)\"]], \"type\": \"histogram2dcontour\"}], \"mesh3d\": [{\"colorbar\": {\"outlinewidth\": 0, \"tickcolor\": \"rgb(36,36,36)\", \"ticklen\": 8, \"ticks\": \"outside\", \"tickwidth\": 2}, \"type\": \"mesh3d\"}], \"parcoords\": [{\"line\": {\"colorbar\": {\"outlinewidth\": 0, \"tickcolor\": \"rgb(36,36,36)\", \"ticklen\": 8, \"ticks\": \"outside\", \"tickwidth\": 2}}, \"type\": \"parcoords\"}], \"pie\": [{\"automargin\": true, \"type\": \"pie\"}], \"scatter\": [{\"marker\": {\"colorbar\": {\"outlinewidth\": 0, \"tickcolor\": \"rgb(36,36,36)\", \"ticklen\": 8, \"ticks\": \"outside\", \"tickwidth\": 2}}, \"type\": \"scatter\"}], \"scatter3d\": [{\"line\": {\"colorbar\": {\"outlinewidth\": 0, \"tickcolor\": \"rgb(36,36,36)\", \"ticklen\": 8, \"ticks\": \"outside\", \"tickwidth\": 2}}, \"marker\": {\"colorbar\": {\"outlinewidth\": 0, \"tickcolor\": \"rgb(36,36,36)\", \"ticklen\": 8, \"ticks\": \"outside\", \"tickwidth\": 2}}, \"type\": \"scatter3d\"}], \"scattercarpet\": [{\"marker\": {\"colorbar\": {\"outlinewidth\": 0, \"tickcolor\": \"rgb(36,36,36)\", \"ticklen\": 8, \"ticks\": \"outside\", \"tickwidth\": 2}}, \"type\": \"scattercarpet\"}], \"scattergeo\": [{\"marker\": {\"colorbar\": {\"outlinewidth\": 0, \"tickcolor\": \"rgb(36,36,36)\", \"ticklen\": 8, \"ticks\": \"outside\", \"tickwidth\": 2}}, \"type\": \"scattergeo\"}], \"scattergl\": [{\"marker\": {\"colorbar\": {\"outlinewidth\": 0, \"tickcolor\": \"rgb(36,36,36)\", \"ticklen\": 8, \"ticks\": \"outside\", \"tickwidth\": 2}}, \"type\": \"scattergl\"}], \"scattermapbox\": [{\"marker\": {\"colorbar\": {\"outlinewidth\": 0, \"tickcolor\": \"rgb(36,36,36)\", \"ticklen\": 8, \"ticks\": \"outside\", \"tickwidth\": 2}}, \"type\": \"scattermapbox\"}], \"scatterpolar\": [{\"marker\": {\"colorbar\": {\"outlinewidth\": 0, \"tickcolor\": \"rgb(36,36,36)\", \"ticklen\": 8, \"ticks\": \"outside\", \"tickwidth\": 2}}, \"type\": \"scatterpolar\"}], \"scatterpolargl\": [{\"marker\": {\"colorbar\": {\"outlinewidth\": 0, \"tickcolor\": \"rgb(36,36,36)\", \"ticklen\": 8, \"ticks\": \"outside\", \"tickwidth\": 2}}, \"type\": \"scatterpolargl\"}], \"scatterternary\": [{\"marker\": {\"colorbar\": {\"outlinewidth\": 0, \"tickcolor\": \"rgb(36,36,36)\", \"ticklen\": 8, \"ticks\": \"outside\", \"tickwidth\": 2}}, \"type\": \"scatterternary\"}], \"surface\": [{\"colorbar\": {\"outlinewidth\": 0, \"tickcolor\": \"rgb(36,36,36)\", \"ticklen\": 8, \"ticks\": \"outside\", \"tickwidth\": 2}, \"colorscale\": [[0.0, \"rgb(2,4,25)\"], [0.06274509803921569, \"rgb(24,15,41)\"], [0.12549019607843137, \"rgb(47,23,57)\"], [0.18823529411764706, \"rgb(71,28,72)\"], [0.25098039215686274, \"rgb(97,30,82)\"], [0.3137254901960784, \"rgb(123,30,89)\"], [0.3764705882352941, \"rgb(150,27,91)\"], [0.4392156862745098, \"rgb(177,22,88)\"], [0.5019607843137255, \"rgb(203,26,79)\"], [0.5647058823529412, \"rgb(223,47,67)\"], [0.6274509803921569, \"rgb(236,76,61)\"], [0.6901960784313725, \"rgb(242,107,73)\"], [0.7529411764705882, \"rgb(244,135,95)\"], [0.8156862745098039, \"rgb(245,162,122)\"], [0.8784313725490196, \"rgb(246,188,153)\"], [0.9411764705882353, \"rgb(247,212,187)\"], [1.0, \"rgb(250,234,220)\"]], \"type\": \"surface\"}], \"table\": [{\"cells\": {\"fill\": {\"color\": \"rgb(231,231,240)\"}, \"line\": {\"color\": \"white\"}}, \"header\": {\"fill\": {\"color\": \"rgb(183,183,191)\"}, \"line\": {\"color\": \"white\"}}, \"type\": \"table\"}]}, \"layout\": {\"annotationdefaults\": {\"arrowcolor\": \"rgb(67,103,167)\"}, \"autotypenumbers\": \"strict\", \"coloraxis\": {\"colorbar\": {\"outlinewidth\": 0, \"tickcolor\": \"rgb(36,36,36)\", \"ticklen\": 8, \"ticks\": \"outside\", \"tickwidth\": 2}}, \"colorscale\": {\"sequential\": [[0.0, \"rgb(2,4,25)\"], [0.06274509803921569, \"rgb(24,15,41)\"], [0.12549019607843137, \"rgb(47,23,57)\"], [0.18823529411764706, \"rgb(71,28,72)\"], [0.25098039215686274, \"rgb(97,30,82)\"], [0.3137254901960784, \"rgb(123,30,89)\"], [0.3764705882352941, \"rgb(150,27,91)\"], [0.4392156862745098, \"rgb(177,22,88)\"], [0.5019607843137255, \"rgb(203,26,79)\"], [0.5647058823529412, \"rgb(223,47,67)\"], [0.6274509803921569, \"rgb(236,76,61)\"], [0.6901960784313725, \"rgb(242,107,73)\"], [0.7529411764705882, \"rgb(244,135,95)\"], [0.8156862745098039, \"rgb(245,162,122)\"], [0.8784313725490196, \"rgb(246,188,153)\"], [0.9411764705882353, \"rgb(247,212,187)\"], [1.0, \"rgb(250,234,220)\"]], \"sequentialminus\": [[0.0, \"rgb(2,4,25)\"], [0.06274509803921569, \"rgb(24,15,41)\"], [0.12549019607843137, \"rgb(47,23,57)\"], [0.18823529411764706, \"rgb(71,28,72)\"], [0.25098039215686274, \"rgb(97,30,82)\"], [0.3137254901960784, \"rgb(123,30,89)\"], [0.3764705882352941, \"rgb(150,27,91)\"], [0.4392156862745098, \"rgb(177,22,88)\"], [0.5019607843137255, \"rgb(203,26,79)\"], [0.5647058823529412, \"rgb(223,47,67)\"], [0.6274509803921569, \"rgb(236,76,61)\"], [0.6901960784313725, \"rgb(242,107,73)\"], [0.7529411764705882, \"rgb(244,135,95)\"], [0.8156862745098039, \"rgb(245,162,122)\"], [0.8784313725490196, \"rgb(246,188,153)\"], [0.9411764705882353, \"rgb(247,212,187)\"], [1.0, \"rgb(250,234,220)\"]]}, \"colorway\": [\"rgb(76,114,176)\", \"rgb(221,132,82)\", \"rgb(85,168,104)\", \"rgb(196,78,82)\", \"rgb(129,114,179)\", \"rgb(147,120,96)\", \"rgb(218,139,195)\", \"rgb(140,140,140)\", \"rgb(204,185,116)\", \"rgb(100,181,205)\"], \"font\": {\"color\": \"rgb(36,36,36)\"}, \"geo\": {\"bgcolor\": \"white\", \"lakecolor\": \"white\", \"landcolor\": \"rgb(234,234,242)\", \"showlakes\": true, \"showland\": true, \"subunitcolor\": \"white\"}, \"hoverlabel\": {\"align\": \"left\"}, \"hovermode\": \"closest\", \"paper_bgcolor\": \"white\", \"plot_bgcolor\": \"rgb(234,234,242)\", \"polar\": {\"angularaxis\": {\"gridcolor\": \"white\", \"linecolor\": \"white\", \"showgrid\": true, \"ticks\": \"\"}, \"bgcolor\": \"rgb(234,234,242)\", \"radialaxis\": {\"gridcolor\": \"white\", \"linecolor\": \"white\", \"showgrid\": true, \"ticks\": \"\"}}, \"scene\": {\"xaxis\": {\"backgroundcolor\": \"rgb(234,234,242)\", \"gridcolor\": \"white\", \"gridwidth\": 2, \"linecolor\": \"white\", \"showbackground\": true, \"showgrid\": true, \"ticks\": \"\", \"zerolinecolor\": \"white\"}, \"yaxis\": {\"backgroundcolor\": \"rgb(234,234,242)\", \"gridcolor\": \"white\", \"gridwidth\": 2, \"linecolor\": \"white\", \"showbackground\": true, \"showgrid\": true, \"ticks\": \"\", \"zerolinecolor\": \"white\"}, \"zaxis\": {\"backgroundcolor\": \"rgb(234,234,242)\", \"gridcolor\": \"white\", \"gridwidth\": 2, \"linecolor\": \"white\", \"showbackground\": true, \"showgrid\": true, \"ticks\": \"\", \"zerolinecolor\": \"white\"}}, \"shapedefaults\": {\"fillcolor\": \"rgb(67,103,167)\", \"line\": {\"width\": 0}, \"opacity\": 0.5}, \"ternary\": {\"aaxis\": {\"gridcolor\": \"white\", \"linecolor\": \"white\", \"showgrid\": true, \"ticks\": \"\"}, \"baxis\": {\"gridcolor\": \"white\", \"linecolor\": \"white\", \"showgrid\": true, \"ticks\": \"\"}, \"bgcolor\": \"rgb(234,234,242)\", \"caxis\": {\"gridcolor\": \"white\", \"linecolor\": \"white\", \"showgrid\": true, \"ticks\": \"\"}}, \"xaxis\": {\"automargin\": true, \"gridcolor\": \"white\", \"linecolor\": \"white\", \"showgrid\": true, \"ticks\": \"\", \"title\": {\"standoff\": 15}, \"zerolinecolor\": \"white\"}, \"yaxis\": {\"automargin\": true, \"gridcolor\": \"white\", \"linecolor\": \"white\", \"showgrid\": true, \"ticks\": \"\", \"title\": {\"standoff\": 15}, \"zerolinecolor\": \"white\"}}}, \"title\": {\"font\": {\"size\": 25}, \"text\": \"<b>Goals vs Goals Against</b><br>La Liga 2020-2021 (Fixtures 1-20)\", \"xanchor\": \"center\", \"y\": 0.95, \"yanchor\": \"top\"}, \"width\": 950, \"xaxis\": {\"anchor\": \"y\", \"domain\": [0.0, 1.0], \"title\": {\"text\": \"GF\"}}, \"yaxis\": {\"anchor\": \"x\", \"domain\": [0.0, 1.0], \"title\": {\"text\": \"GF-xG\"}}},                        {\"responsive\": true}                    ).then(function(){\n",
       "                            \n",
       "var gd = document.getElementById('96797d51-293f-401f-96dd-814ec0a8557d');\n",
       "var x = new MutationObserver(function (mutations, observer) {{\n",
       "        var display = window.getComputedStyle(gd).display;\n",
       "        if (!display || display === 'none') {{\n",
       "            console.log([gd, 'removed!']);\n",
       "            Plotly.purge(gd);\n",
       "            observer.disconnect();\n",
       "        }}\n",
       "}});\n",
       "\n",
       "// Listen for the removal of the full notebook cells\n",
       "var notebookContainer = gd.closest('#notebook-container');\n",
       "if (notebookContainer) {{\n",
       "    x.observe(notebookContainer, {childList: true});\n",
       "}}\n",
       "\n",
       "// Listen for the clearing of the current output cell\n",
       "var outputEl = gd.closest('.output');\n",
       "if (outputEl) {{\n",
       "    x.observe(outputEl, {childList: true});\n",
       "}}\n",
       "\n",
       "                        })                };                });            </script>        </div>"
      ]
     },
     "metadata": {},
     "output_type": "display_data"
    }
   ],
   "source": [
    "fig = px.scatter(laliga_stats, x= 'GF', y='GF-xG', size= 'Pts', color= 'Squad', \n",
    "                opacity= 1, hover_name= 'Squad', hover_data= ['Posicion'],\n",
    "                color_discrete_sequence=px.colors.qualitative.Dark24,\n",
    "                width= 950, template= 'seaborn', \n",
    "                title= '<b>Goals vs Goals Against</b><br>La Liga 2020-2021 (Fixtures 1-20)')\n",
    "\n",
    "fig.add_hline(y=0, line_width=2, line_color= 'black', opacity= 0.8)\n",
    "fig.add_vline(x= laliga_stats['GF'].mean(), line_width=2, line_color= 'black', opacity= 0.8)\n",
    "fig.add_shape(type='rect', x0= 10, y0= -8, \n",
    "              x1=laliga_stats['GF'].mean(), y1=0, \n",
    "              fillcolor= 'red', opacity= 0.2)\n",
    "fig.add_shape(type='rect', x0= laliga_stats['GF'].mean(), y0= -8, \n",
    "              x1= 42, y1= 0, \n",
    "              fillcolor= 'yellow', opacity= 0.2)\n",
    "fig.add_shape(type='rect', x0= 10, y0= 0, \n",
    "              x1= laliga_stats['GF'].mean(), y1= 14, \n",
    "              fillcolor= 'yellow', opacity= 0.2)\n",
    "fig.add_shape(type='rect', x0= laliga_stats['GF'].mean(), y0= 0, \n",
    "              x1= 42, y1= 14, \n",
    "              fillcolor= 'green', opacity= 0.2)\n",
    "\n",
    "fig.update_layout(title={'y': 0.95,\n",
    "                        'xanchor': 'center',\n",
    "                        'yanchor': 'top'},\n",
    "                  title_font= dict(size=25))\n",
    "\n",
    "fig.show()"
   ]
  },
  {
   "cell_type": "code",
   "execution_count": 73,
   "metadata": {},
   "outputs": [
    {
     "data": {
      "application/vnd.plotly.v1+json": {
       "config": {
        "plotlyServerURL": "https://plot.ly"
       },
       "data": [
        {
         "customdata": [
          [
           1
          ]
         ],
         "hovertemplate": "<b>%{hovertext}</b><br><br>Squad=Atlético Madrid<br>GA=%{x}<br>PsxG-GA=%{y}<br>Pts=%{marker.size}<br>Posicion=%{customdata[0]}<extra></extra>",
         "hovertext": [
          "Atlético Madrid"
         ],
         "legendgroup": "Atlético Madrid",
         "marker": {
          "color": "#2E91E5",
          "opacity": 1,
          "size": [
           47
          ],
          "sizemode": "area",
          "sizeref": 0.1175,
          "symbol": "circle"
         },
         "mode": "markers",
         "name": "Atlético Madrid",
         "orientation": "v",
         "showlegend": true,
         "type": "scatter",
         "x": [
          8
         ],
         "xaxis": "x",
         "y": [
          3.9000000000000004
         ],
         "yaxis": "y"
        },
        {
         "customdata": [
          [
           2
          ]
         ],
         "hovertemplate": "<b>%{hovertext}</b><br><br>Squad=Real Madrid<br>GA=%{x}<br>PsxG-GA=%{y}<br>Pts=%{marker.size}<br>Posicion=%{customdata[0]}<extra></extra>",
         "hovertext": [
          "Real Madrid"
         ],
         "legendgroup": "Real Madrid",
         "marker": {
          "color": "#E15F99",
          "opacity": 1,
          "size": [
           40
          ],
          "sizemode": "area",
          "sizeref": 0.1175,
          "symbol": "circle"
         },
         "mode": "markers",
         "name": "Real Madrid",
         "orientation": "v",
         "showlegend": true,
         "type": "scatter",
         "x": [
          16
         ],
         "xaxis": "x",
         "y": [
          -0.5
         ],
         "yaxis": "y"
        },
        {
         "customdata": [
          [
           3
          ]
         ],
         "hovertemplate": "<b>%{hovertext}</b><br><br>Squad=Barcelona<br>GA=%{x}<br>PsxG-GA=%{y}<br>Pts=%{marker.size}<br>Posicion=%{customdata[0]}<extra></extra>",
         "hovertext": [
          "Barcelona"
         ],
         "legendgroup": "Barcelona",
         "marker": {
          "color": "#1CA71C",
          "opacity": 1,
          "size": [
           37
          ],
          "sizemode": "area",
          "sizeref": 0.1175,
          "symbol": "circle"
         },
         "mode": "markers",
         "name": "Barcelona",
         "orientation": "v",
         "showlegend": true,
         "type": "scatter",
         "x": [
          17
         ],
         "xaxis": "x",
         "y": [
          3.5
         ],
         "yaxis": "y"
        },
        {
         "customdata": [
          [
           4
          ]
         ],
         "hovertemplate": "<b>%{hovertext}</b><br><br>Squad=Sevilla<br>GA=%{x}<br>PsxG-GA=%{y}<br>Pts=%{marker.size}<br>Posicion=%{customdata[0]}<extra></extra>",
         "hovertext": [
          "Sevilla"
         ],
         "legendgroup": "Sevilla",
         "marker": {
          "color": "#FB0D0D",
          "opacity": 1,
          "size": [
           36
          ],
          "sizemode": "area",
          "sizeref": 0.1175,
          "symbol": "circle"
         },
         "mode": "markers",
         "name": "Sevilla",
         "orientation": "v",
         "showlegend": true,
         "type": "scatter",
         "x": [
          16
         ],
         "xaxis": "x",
         "y": [
          -1.5
         ],
         "yaxis": "y"
        },
        {
         "customdata": [
          [
           5
          ]
         ],
         "hovertemplate": "<b>%{hovertext}</b><br><br>Squad=Villarreal<br>GA=%{x}<br>PsxG-GA=%{y}<br>Pts=%{marker.size}<br>Posicion=%{customdata[0]}<extra></extra>",
         "hovertext": [
          "Villarreal"
         ],
         "legendgroup": "Villarreal",
         "marker": {
          "color": "#DA16FF",
          "opacity": 1,
          "size": [
           34
          ],
          "sizemode": "area",
          "sizeref": 0.1175,
          "symbol": "circle"
         },
         "mode": "markers",
         "name": "Villarreal",
         "orientation": "v",
         "showlegend": true,
         "type": "scatter",
         "x": [
          19
         ],
         "xaxis": "x",
         "y": [
          -3.8000000000000007
         ],
         "yaxis": "y"
        },
        {
         "customdata": [
          [
           6
          ]
         ],
         "hovertemplate": "<b>%{hovertext}</b><br><br>Squad=Real Sociedad<br>GA=%{x}<br>PsxG-GA=%{y}<br>Pts=%{marker.size}<br>Posicion=%{customdata[0]}<extra></extra>",
         "hovertext": [
          "Real Sociedad"
         ],
         "legendgroup": "Real Sociedad",
         "marker": {
          "color": "#222A2A",
          "opacity": 1,
          "size": [
           31
          ],
          "sizemode": "area",
          "sizeref": 0.1175,
          "symbol": "circle"
         },
         "mode": "markers",
         "name": "Real Sociedad",
         "orientation": "v",
         "showlegend": true,
         "type": "scatter",
         "x": [
          18
         ],
         "xaxis": "x",
         "y": [
          -1.6999999999999993
         ],
         "yaxis": "y"
        },
        {
         "customdata": [
          [
           7
          ]
         ],
         "hovertemplate": "<b>%{hovertext}</b><br><br>Squad=Granada<br>GA=%{x}<br>PsxG-GA=%{y}<br>Pts=%{marker.size}<br>Posicion=%{customdata[0]}<extra></extra>",
         "hovertext": [
          "Granada"
         ],
         "legendgroup": "Granada",
         "marker": {
          "color": "#B68100",
          "opacity": 1,
          "size": [
           28
          ],
          "sizemode": "area",
          "sizeref": 0.1175,
          "symbol": "circle"
         },
         "mode": "markers",
         "name": "Granada",
         "orientation": "v",
         "showlegend": true,
         "type": "scatter",
         "x": [
          34
         ],
         "xaxis": "x",
         "y": [
          -1.3999999999999986
         ],
         "yaxis": "y"
        },
        {
         "customdata": [
          [
           8
          ]
         ],
         "hovertemplate": "<b>%{hovertext}</b><br><br>Squad=Betis<br>GA=%{x}<br>PsxG-GA=%{y}<br>Pts=%{marker.size}<br>Posicion=%{customdata[0]}<extra></extra>",
         "hovertext": [
          "Betis"
         ],
         "legendgroup": "Betis",
         "marker": {
          "color": "#750D86",
          "opacity": 1,
          "size": [
           27
          ],
          "sizemode": "area",
          "sizeref": 0.1175,
          "symbol": "circle"
         },
         "mode": "markers",
         "name": "Betis",
         "orientation": "v",
         "showlegend": true,
         "type": "scatter",
         "x": [
          34
         ],
         "xaxis": "x",
         "y": [
          -0.7000000000000028
         ],
         "yaxis": "y"
        },
        {
         "customdata": [
          [
           9
          ]
         ],
         "hovertemplate": "<b>%{hovertext}</b><br><br>Squad=Celta Vigo<br>GA=%{x}<br>PsxG-GA=%{y}<br>Pts=%{marker.size}<br>Posicion=%{customdata[0]}<extra></extra>",
         "hovertext": [
          "Celta Vigo"
         ],
         "legendgroup": "Celta Vigo",
         "marker": {
          "color": "#EB663B",
          "opacity": 1,
          "size": [
           24
          ],
          "sizemode": "area",
          "sizeref": 0.1175,
          "symbol": "circle"
         },
         "mode": "markers",
         "name": "Celta Vigo",
         "orientation": "v",
         "showlegend": true,
         "type": "scatter",
         "x": [
          31
         ],
         "xaxis": "x",
         "y": [
          -3.6999999999999993
         ],
         "yaxis": "y"
        },
        {
         "customdata": [
          [
           10
          ]
         ],
         "hovertemplate": "<b>%{hovertext}</b><br><br>Squad=Cádiz<br>GA=%{x}<br>PsxG-GA=%{y}<br>Pts=%{marker.size}<br>Posicion=%{customdata[0]}<extra></extra>",
         "hovertext": [
          "Cádiz"
         ],
         "legendgroup": "Cádiz",
         "marker": {
          "color": "#511CFB",
          "opacity": 1,
          "size": [
           24
          ],
          "sizemode": "area",
          "sizeref": 0.1175,
          "symbol": "circle"
         },
         "mode": "markers",
         "name": "Cádiz",
         "orientation": "v",
         "showlegend": true,
         "type": "scatter",
         "x": [
          27
         ],
         "xaxis": "x",
         "y": [
          -5.300000000000001
         ],
         "yaxis": "y"
        },
        {
         "customdata": [
          [
           11
          ]
         ],
         "hovertemplate": "<b>%{hovertext}</b><br><br>Squad=Levante<br>GA=%{x}<br>PsxG-GA=%{y}<br>Pts=%{marker.size}<br>Posicion=%{customdata[0]}<extra></extra>",
         "hovertext": [
          "Levante"
         ],
         "legendgroup": "Levante",
         "marker": {
          "color": "#00A08B",
          "opacity": 1,
          "size": [
           23
          ],
          "sizemode": "area",
          "sizeref": 0.1175,
          "symbol": "circle"
         },
         "mode": "markers",
         "name": "Levante",
         "orientation": "v",
         "showlegend": true,
         "type": "scatter",
         "x": [
          28
         ],
         "xaxis": "x",
         "y": [
          -1
         ],
         "yaxis": "y"
        },
        {
         "customdata": [
          [
           12
          ]
         ],
         "hovertemplate": "<b>%{hovertext}</b><br><br>Squad=Getafe<br>GA=%{x}<br>PsxG-GA=%{y}<br>Pts=%{marker.size}<br>Posicion=%{customdata[0]}<extra></extra>",
         "hovertext": [
          "Getafe"
         ],
         "legendgroup": "Getafe",
         "marker": {
          "color": "#FB00D1",
          "opacity": 1,
          "size": [
           23
          ],
          "sizemode": "area",
          "sizeref": 0.1175,
          "symbol": "circle"
         },
         "mode": "markers",
         "name": "Getafe",
         "orientation": "v",
         "showlegend": true,
         "type": "scatter",
         "x": [
          18
         ],
         "xaxis": "x",
         "y": [
          -0.6999999999999993
         ],
         "yaxis": "y"
        },
        {
         "customdata": [
          [
           13
          ]
         ],
         "hovertemplate": "<b>%{hovertext}</b><br><br>Squad=Athletic Club<br>GA=%{x}<br>PsxG-GA=%{y}<br>Pts=%{marker.size}<br>Posicion=%{customdata[0]}<extra></extra>",
         "hovertext": [
          "Athletic Club"
         ],
         "legendgroup": "Athletic Club",
         "marker": {
          "color": "#FC0080",
          "opacity": 1,
          "size": [
           21
          ],
          "sizemode": "area",
          "sizeref": 0.1175,
          "symbol": "circle"
         },
         "mode": "markers",
         "name": "Athletic Club",
         "orientation": "v",
         "showlegend": true,
         "type": "scatter",
         "x": [
          22
         ],
         "xaxis": "x",
         "y": [
          -4.399999999999999
         ],
         "yaxis": "y"
        },
        {
         "customdata": [
          [
           14
          ]
         ],
         "hovertemplate": "<b>%{hovertext}</b><br><br>Squad=Valencia<br>GA=%{x}<br>PsxG-GA=%{y}<br>Pts=%{marker.size}<br>Posicion=%{customdata[0]}<extra></extra>",
         "hovertext": [
          "Valencia"
         ],
         "legendgroup": "Valencia",
         "marker": {
          "color": "#B2828D",
          "opacity": 1,
          "size": [
           20
          ],
          "sizemode": "area",
          "sizeref": 0.1175,
          "symbol": "circle"
         },
         "mode": "markers",
         "name": "Valencia",
         "orientation": "v",
         "showlegend": true,
         "type": "scatter",
         "x": [
          29
         ],
         "xaxis": "x",
         "y": [
          0.8999999999999986
         ],
         "yaxis": "y"
        },
        {
         "customdata": [
          [
           15
          ]
         ],
         "hovertemplate": "<b>%{hovertext}</b><br><br>Squad=Eibar<br>GA=%{x}<br>PsxG-GA=%{y}<br>Pts=%{marker.size}<br>Posicion=%{customdata[0]}<extra></extra>",
         "hovertext": [
          "Eibar"
         ],
         "legendgroup": "Eibar",
         "marker": {
          "color": "#6C7C32",
          "opacity": 1,
          "size": [
           20
          ],
          "sizemode": "area",
          "sizeref": 0.1175,
          "symbol": "circle"
         },
         "mode": "markers",
         "name": "Eibar",
         "orientation": "v",
         "showlegend": true,
         "type": "scatter",
         "x": [
          21
         ],
         "xaxis": "x",
         "y": [
          3.1999999999999993
         ],
         "yaxis": "y"
        },
        {
         "customdata": [
          [
           16
          ]
         ],
         "hovertemplate": "<b>%{hovertext}</b><br><br>Squad=Valladolid<br>GA=%{x}<br>PsxG-GA=%{y}<br>Pts=%{marker.size}<br>Posicion=%{customdata[0]}<extra></extra>",
         "hovertext": [
          "Valladolid"
         ],
         "legendgroup": "Valladolid",
         "marker": {
          "color": "#778AAE",
          "opacity": 1,
          "size": [
           20
          ],
          "sizemode": "area",
          "sizeref": 0.1175,
          "symbol": "circle"
         },
         "mode": "markers",
         "name": "Valladolid",
         "orientation": "v",
         "showlegend": true,
         "type": "scatter",
         "x": [
          29
         ],
         "xaxis": "x",
         "y": [
          1.5
         ],
         "yaxis": "y"
        },
        {
         "customdata": [
          [
           17
          ]
         ],
         "hovertemplate": "<b>%{hovertext}</b><br><br>Squad=Osasuna<br>GA=%{x}<br>PsxG-GA=%{y}<br>Pts=%{marker.size}<br>Posicion=%{customdata[0]}<extra></extra>",
         "hovertext": [
          "Osasuna"
         ],
         "legendgroup": "Osasuna",
         "marker": {
          "color": "#862A16",
          "opacity": 1,
          "size": [
           19
          ],
          "sizemode": "area",
          "sizeref": 0.1175,
          "symbol": "circle"
         },
         "mode": "markers",
         "name": "Osasuna",
         "orientation": "v",
         "showlegend": true,
         "type": "scatter",
         "x": [
          29
         ],
         "xaxis": "x",
         "y": [
          0.10000000000000142
         ],
         "yaxis": "y"
        },
        {
         "customdata": [
          [
           18
          ]
         ],
         "hovertemplate": "<b>%{hovertext}</b><br><br>Squad=Alavés<br>GA=%{x}<br>PsxG-GA=%{y}<br>Pts=%{marker.size}<br>Posicion=%{customdata[0]}<extra></extra>",
         "hovertext": [
          "Alavés"
         ],
         "legendgroup": "Alavés",
         "marker": {
          "color": "#A777F1",
          "opacity": 1,
          "size": [
           18
          ],
          "sizemode": "area",
          "sizeref": 0.1175,
          "symbol": "circle"
         },
         "mode": "markers",
         "name": "Alavés",
         "orientation": "v",
         "showlegend": true,
         "type": "scatter",
         "x": [
          29
         ],
         "xaxis": "x",
         "y": [
          -1.1000000000000014
         ],
         "yaxis": "y"
        },
        {
         "customdata": [
          [
           19
          ]
         ],
         "hovertemplate": "<b>%{hovertext}</b><br><br>Squad=Elche<br>GA=%{x}<br>PsxG-GA=%{y}<br>Pts=%{marker.size}<br>Posicion=%{customdata[0]}<extra></extra>",
         "hovertext": [
          "Elche"
         ],
         "legendgroup": "Elche",
         "marker": {
          "color": "#620042",
          "opacity": 1,
          "size": [
           17
          ],
          "sizemode": "area",
          "sizeref": 0.1175,
          "symbol": "circle"
         },
         "mode": "markers",
         "name": "Elche",
         "orientation": "v",
         "showlegend": true,
         "type": "scatter",
         "x": [
          25
         ],
         "xaxis": "x",
         "y": [
          2
         ],
         "yaxis": "y"
        },
        {
         "customdata": [
          [
           20
          ]
         ],
         "hovertemplate": "<b>%{hovertext}</b><br><br>Squad=Huesca<br>GA=%{x}<br>PsxG-GA=%{y}<br>Pts=%{marker.size}<br>Posicion=%{customdata[0]}<extra></extra>",
         "hovertext": [
          "Huesca"
         ],
         "legendgroup": "Huesca",
         "marker": {
          "color": "#1616A7",
          "opacity": 1,
          "size": [
           13
          ],
          "sizemode": "area",
          "sizeref": 0.1175,
          "symbol": "circle"
         },
         "mode": "markers",
         "name": "Huesca",
         "orientation": "v",
         "showlegend": true,
         "type": "scatter",
         "x": [
          29
         ],
         "xaxis": "x",
         "y": [
          -3.5
         ],
         "yaxis": "y"
        }
       ],
       "layout": {
        "legend": {
         "itemsizing": "constant",
         "title": {
          "text": "Squad"
         },
         "tracegroupgap": 0
        },
        "shapes": [
         {
          "line": {
           "color": "black",
           "width": 2
          },
          "opacity": 0.8,
          "type": "line",
          "x0": 0,
          "x1": 1,
          "xref": "x domain",
          "y0": 0,
          "y1": 0,
          "yref": "y"
         },
         {
          "line": {
           "color": "black",
           "width": 2
          },
          "opacity": 0.8,
          "type": "line",
          "x0": 23.95,
          "x1": 23.95,
          "xref": "x",
          "y0": 0,
          "y1": 1,
          "yref": "y domain"
         },
         {
          "fillcolor": "yellow",
          "opacity": 0.2,
          "type": "rect",
          "x0": 5,
          "x1": 23.95,
          "y0": -7,
          "y1": 0
         },
         {
          "fillcolor": "red",
          "opacity": 0.2,
          "type": "rect",
          "x0": 23.95,
          "x1": 38,
          "y0": -7,
          "y1": 0
         },
         {
          "fillcolor": "green",
          "opacity": 0.2,
          "type": "rect",
          "x0": 5,
          "x1": 23.95,
          "y0": 0,
          "y1": 6
         },
         {
          "fillcolor": "yellow",
          "opacity": 0.2,
          "type": "rect",
          "x0": 23.95,
          "x1": 38,
          "y0": 0,
          "y1": 6
         }
        ],
        "template": {
         "data": {
          "bar": [
           {
            "error_x": {
             "color": "rgb(36,36,36)"
            },
            "error_y": {
             "color": "rgb(36,36,36)"
            },
            "marker": {
             "line": {
              "color": "rgb(234,234,242)",
              "width": 0.5
             }
            },
            "type": "bar"
           }
          ],
          "barpolar": [
           {
            "marker": {
             "line": {
              "color": "rgb(234,234,242)",
              "width": 0.5
             }
            },
            "type": "barpolar"
           }
          ],
          "carpet": [
           {
            "aaxis": {
             "endlinecolor": "rgb(36,36,36)",
             "gridcolor": "white",
             "linecolor": "white",
             "minorgridcolor": "white",
             "startlinecolor": "rgb(36,36,36)"
            },
            "baxis": {
             "endlinecolor": "rgb(36,36,36)",
             "gridcolor": "white",
             "linecolor": "white",
             "minorgridcolor": "white",
             "startlinecolor": "rgb(36,36,36)"
            },
            "type": "carpet"
           }
          ],
          "choropleth": [
           {
            "colorbar": {
             "outlinewidth": 0,
             "tickcolor": "rgb(36,36,36)",
             "ticklen": 8,
             "ticks": "outside",
             "tickwidth": 2
            },
            "type": "choropleth"
           }
          ],
          "contour": [
           {
            "colorbar": {
             "outlinewidth": 0,
             "tickcolor": "rgb(36,36,36)",
             "ticklen": 8,
             "ticks": "outside",
             "tickwidth": 2
            },
            "colorscale": [
             [
              0,
              "rgb(2,4,25)"
             ],
             [
              0.06274509803921569,
              "rgb(24,15,41)"
             ],
             [
              0.12549019607843137,
              "rgb(47,23,57)"
             ],
             [
              0.18823529411764706,
              "rgb(71,28,72)"
             ],
             [
              0.25098039215686274,
              "rgb(97,30,82)"
             ],
             [
              0.3137254901960784,
              "rgb(123,30,89)"
             ],
             [
              0.3764705882352941,
              "rgb(150,27,91)"
             ],
             [
              0.4392156862745098,
              "rgb(177,22,88)"
             ],
             [
              0.5019607843137255,
              "rgb(203,26,79)"
             ],
             [
              0.5647058823529412,
              "rgb(223,47,67)"
             ],
             [
              0.6274509803921569,
              "rgb(236,76,61)"
             ],
             [
              0.6901960784313725,
              "rgb(242,107,73)"
             ],
             [
              0.7529411764705882,
              "rgb(244,135,95)"
             ],
             [
              0.8156862745098039,
              "rgb(245,162,122)"
             ],
             [
              0.8784313725490196,
              "rgb(246,188,153)"
             ],
             [
              0.9411764705882353,
              "rgb(247,212,187)"
             ],
             [
              1,
              "rgb(250,234,220)"
             ]
            ],
            "type": "contour"
           }
          ],
          "contourcarpet": [
           {
            "colorbar": {
             "outlinewidth": 0,
             "tickcolor": "rgb(36,36,36)",
             "ticklen": 8,
             "ticks": "outside",
             "tickwidth": 2
            },
            "type": "contourcarpet"
           }
          ],
          "heatmap": [
           {
            "colorbar": {
             "outlinewidth": 0,
             "tickcolor": "rgb(36,36,36)",
             "ticklen": 8,
             "ticks": "outside",
             "tickwidth": 2
            },
            "colorscale": [
             [
              0,
              "rgb(2,4,25)"
             ],
             [
              0.06274509803921569,
              "rgb(24,15,41)"
             ],
             [
              0.12549019607843137,
              "rgb(47,23,57)"
             ],
             [
              0.18823529411764706,
              "rgb(71,28,72)"
             ],
             [
              0.25098039215686274,
              "rgb(97,30,82)"
             ],
             [
              0.3137254901960784,
              "rgb(123,30,89)"
             ],
             [
              0.3764705882352941,
              "rgb(150,27,91)"
             ],
             [
              0.4392156862745098,
              "rgb(177,22,88)"
             ],
             [
              0.5019607843137255,
              "rgb(203,26,79)"
             ],
             [
              0.5647058823529412,
              "rgb(223,47,67)"
             ],
             [
              0.6274509803921569,
              "rgb(236,76,61)"
             ],
             [
              0.6901960784313725,
              "rgb(242,107,73)"
             ],
             [
              0.7529411764705882,
              "rgb(244,135,95)"
             ],
             [
              0.8156862745098039,
              "rgb(245,162,122)"
             ],
             [
              0.8784313725490196,
              "rgb(246,188,153)"
             ],
             [
              0.9411764705882353,
              "rgb(247,212,187)"
             ],
             [
              1,
              "rgb(250,234,220)"
             ]
            ],
            "type": "heatmap"
           }
          ],
          "heatmapgl": [
           {
            "colorbar": {
             "outlinewidth": 0,
             "tickcolor": "rgb(36,36,36)",
             "ticklen": 8,
             "ticks": "outside",
             "tickwidth": 2
            },
            "colorscale": [
             [
              0,
              "rgb(2,4,25)"
             ],
             [
              0.06274509803921569,
              "rgb(24,15,41)"
             ],
             [
              0.12549019607843137,
              "rgb(47,23,57)"
             ],
             [
              0.18823529411764706,
              "rgb(71,28,72)"
             ],
             [
              0.25098039215686274,
              "rgb(97,30,82)"
             ],
             [
              0.3137254901960784,
              "rgb(123,30,89)"
             ],
             [
              0.3764705882352941,
              "rgb(150,27,91)"
             ],
             [
              0.4392156862745098,
              "rgb(177,22,88)"
             ],
             [
              0.5019607843137255,
              "rgb(203,26,79)"
             ],
             [
              0.5647058823529412,
              "rgb(223,47,67)"
             ],
             [
              0.6274509803921569,
              "rgb(236,76,61)"
             ],
             [
              0.6901960784313725,
              "rgb(242,107,73)"
             ],
             [
              0.7529411764705882,
              "rgb(244,135,95)"
             ],
             [
              0.8156862745098039,
              "rgb(245,162,122)"
             ],
             [
              0.8784313725490196,
              "rgb(246,188,153)"
             ],
             [
              0.9411764705882353,
              "rgb(247,212,187)"
             ],
             [
              1,
              "rgb(250,234,220)"
             ]
            ],
            "type": "heatmapgl"
           }
          ],
          "histogram": [
           {
            "marker": {
             "colorbar": {
              "outlinewidth": 0,
              "tickcolor": "rgb(36,36,36)",
              "ticklen": 8,
              "ticks": "outside",
              "tickwidth": 2
             }
            },
            "type": "histogram"
           }
          ],
          "histogram2d": [
           {
            "colorbar": {
             "outlinewidth": 0,
             "tickcolor": "rgb(36,36,36)",
             "ticklen": 8,
             "ticks": "outside",
             "tickwidth": 2
            },
            "colorscale": [
             [
              0,
              "rgb(2,4,25)"
             ],
             [
              0.06274509803921569,
              "rgb(24,15,41)"
             ],
             [
              0.12549019607843137,
              "rgb(47,23,57)"
             ],
             [
              0.18823529411764706,
              "rgb(71,28,72)"
             ],
             [
              0.25098039215686274,
              "rgb(97,30,82)"
             ],
             [
              0.3137254901960784,
              "rgb(123,30,89)"
             ],
             [
              0.3764705882352941,
              "rgb(150,27,91)"
             ],
             [
              0.4392156862745098,
              "rgb(177,22,88)"
             ],
             [
              0.5019607843137255,
              "rgb(203,26,79)"
             ],
             [
              0.5647058823529412,
              "rgb(223,47,67)"
             ],
             [
              0.6274509803921569,
              "rgb(236,76,61)"
             ],
             [
              0.6901960784313725,
              "rgb(242,107,73)"
             ],
             [
              0.7529411764705882,
              "rgb(244,135,95)"
             ],
             [
              0.8156862745098039,
              "rgb(245,162,122)"
             ],
             [
              0.8784313725490196,
              "rgb(246,188,153)"
             ],
             [
              0.9411764705882353,
              "rgb(247,212,187)"
             ],
             [
              1,
              "rgb(250,234,220)"
             ]
            ],
            "type": "histogram2d"
           }
          ],
          "histogram2dcontour": [
           {
            "colorbar": {
             "outlinewidth": 0,
             "tickcolor": "rgb(36,36,36)",
             "ticklen": 8,
             "ticks": "outside",
             "tickwidth": 2
            },
            "colorscale": [
             [
              0,
              "rgb(2,4,25)"
             ],
             [
              0.06274509803921569,
              "rgb(24,15,41)"
             ],
             [
              0.12549019607843137,
              "rgb(47,23,57)"
             ],
             [
              0.18823529411764706,
              "rgb(71,28,72)"
             ],
             [
              0.25098039215686274,
              "rgb(97,30,82)"
             ],
             [
              0.3137254901960784,
              "rgb(123,30,89)"
             ],
             [
              0.3764705882352941,
              "rgb(150,27,91)"
             ],
             [
              0.4392156862745098,
              "rgb(177,22,88)"
             ],
             [
              0.5019607843137255,
              "rgb(203,26,79)"
             ],
             [
              0.5647058823529412,
              "rgb(223,47,67)"
             ],
             [
              0.6274509803921569,
              "rgb(236,76,61)"
             ],
             [
              0.6901960784313725,
              "rgb(242,107,73)"
             ],
             [
              0.7529411764705882,
              "rgb(244,135,95)"
             ],
             [
              0.8156862745098039,
              "rgb(245,162,122)"
             ],
             [
              0.8784313725490196,
              "rgb(246,188,153)"
             ],
             [
              0.9411764705882353,
              "rgb(247,212,187)"
             ],
             [
              1,
              "rgb(250,234,220)"
             ]
            ],
            "type": "histogram2dcontour"
           }
          ],
          "mesh3d": [
           {
            "colorbar": {
             "outlinewidth": 0,
             "tickcolor": "rgb(36,36,36)",
             "ticklen": 8,
             "ticks": "outside",
             "tickwidth": 2
            },
            "type": "mesh3d"
           }
          ],
          "parcoords": [
           {
            "line": {
             "colorbar": {
              "outlinewidth": 0,
              "tickcolor": "rgb(36,36,36)",
              "ticklen": 8,
              "ticks": "outside",
              "tickwidth": 2
             }
            },
            "type": "parcoords"
           }
          ],
          "pie": [
           {
            "automargin": true,
            "type": "pie"
           }
          ],
          "scatter": [
           {
            "marker": {
             "colorbar": {
              "outlinewidth": 0,
              "tickcolor": "rgb(36,36,36)",
              "ticklen": 8,
              "ticks": "outside",
              "tickwidth": 2
             }
            },
            "type": "scatter"
           }
          ],
          "scatter3d": [
           {
            "line": {
             "colorbar": {
              "outlinewidth": 0,
              "tickcolor": "rgb(36,36,36)",
              "ticklen": 8,
              "ticks": "outside",
              "tickwidth": 2
             }
            },
            "marker": {
             "colorbar": {
              "outlinewidth": 0,
              "tickcolor": "rgb(36,36,36)",
              "ticklen": 8,
              "ticks": "outside",
              "tickwidth": 2
             }
            },
            "type": "scatter3d"
           }
          ],
          "scattercarpet": [
           {
            "marker": {
             "colorbar": {
              "outlinewidth": 0,
              "tickcolor": "rgb(36,36,36)",
              "ticklen": 8,
              "ticks": "outside",
              "tickwidth": 2
             }
            },
            "type": "scattercarpet"
           }
          ],
          "scattergeo": [
           {
            "marker": {
             "colorbar": {
              "outlinewidth": 0,
              "tickcolor": "rgb(36,36,36)",
              "ticklen": 8,
              "ticks": "outside",
              "tickwidth": 2
             }
            },
            "type": "scattergeo"
           }
          ],
          "scattergl": [
           {
            "marker": {
             "colorbar": {
              "outlinewidth": 0,
              "tickcolor": "rgb(36,36,36)",
              "ticklen": 8,
              "ticks": "outside",
              "tickwidth": 2
             }
            },
            "type": "scattergl"
           }
          ],
          "scattermapbox": [
           {
            "marker": {
             "colorbar": {
              "outlinewidth": 0,
              "tickcolor": "rgb(36,36,36)",
              "ticklen": 8,
              "ticks": "outside",
              "tickwidth": 2
             }
            },
            "type": "scattermapbox"
           }
          ],
          "scatterpolar": [
           {
            "marker": {
             "colorbar": {
              "outlinewidth": 0,
              "tickcolor": "rgb(36,36,36)",
              "ticklen": 8,
              "ticks": "outside",
              "tickwidth": 2
             }
            },
            "type": "scatterpolar"
           }
          ],
          "scatterpolargl": [
           {
            "marker": {
             "colorbar": {
              "outlinewidth": 0,
              "tickcolor": "rgb(36,36,36)",
              "ticklen": 8,
              "ticks": "outside",
              "tickwidth": 2
             }
            },
            "type": "scatterpolargl"
           }
          ],
          "scatterternary": [
           {
            "marker": {
             "colorbar": {
              "outlinewidth": 0,
              "tickcolor": "rgb(36,36,36)",
              "ticklen": 8,
              "ticks": "outside",
              "tickwidth": 2
             }
            },
            "type": "scatterternary"
           }
          ],
          "surface": [
           {
            "colorbar": {
             "outlinewidth": 0,
             "tickcolor": "rgb(36,36,36)",
             "ticklen": 8,
             "ticks": "outside",
             "tickwidth": 2
            },
            "colorscale": [
             [
              0,
              "rgb(2,4,25)"
             ],
             [
              0.06274509803921569,
              "rgb(24,15,41)"
             ],
             [
              0.12549019607843137,
              "rgb(47,23,57)"
             ],
             [
              0.18823529411764706,
              "rgb(71,28,72)"
             ],
             [
              0.25098039215686274,
              "rgb(97,30,82)"
             ],
             [
              0.3137254901960784,
              "rgb(123,30,89)"
             ],
             [
              0.3764705882352941,
              "rgb(150,27,91)"
             ],
             [
              0.4392156862745098,
              "rgb(177,22,88)"
             ],
             [
              0.5019607843137255,
              "rgb(203,26,79)"
             ],
             [
              0.5647058823529412,
              "rgb(223,47,67)"
             ],
             [
              0.6274509803921569,
              "rgb(236,76,61)"
             ],
             [
              0.6901960784313725,
              "rgb(242,107,73)"
             ],
             [
              0.7529411764705882,
              "rgb(244,135,95)"
             ],
             [
              0.8156862745098039,
              "rgb(245,162,122)"
             ],
             [
              0.8784313725490196,
              "rgb(246,188,153)"
             ],
             [
              0.9411764705882353,
              "rgb(247,212,187)"
             ],
             [
              1,
              "rgb(250,234,220)"
             ]
            ],
            "type": "surface"
           }
          ],
          "table": [
           {
            "cells": {
             "fill": {
              "color": "rgb(231,231,240)"
             },
             "line": {
              "color": "white"
             }
            },
            "header": {
             "fill": {
              "color": "rgb(183,183,191)"
             },
             "line": {
              "color": "white"
             }
            },
            "type": "table"
           }
          ]
         },
         "layout": {
          "annotationdefaults": {
           "arrowcolor": "rgb(67,103,167)"
          },
          "autotypenumbers": "strict",
          "coloraxis": {
           "colorbar": {
            "outlinewidth": 0,
            "tickcolor": "rgb(36,36,36)",
            "ticklen": 8,
            "ticks": "outside",
            "tickwidth": 2
           }
          },
          "colorscale": {
           "sequential": [
            [
             0,
             "rgb(2,4,25)"
            ],
            [
             0.06274509803921569,
             "rgb(24,15,41)"
            ],
            [
             0.12549019607843137,
             "rgb(47,23,57)"
            ],
            [
             0.18823529411764706,
             "rgb(71,28,72)"
            ],
            [
             0.25098039215686274,
             "rgb(97,30,82)"
            ],
            [
             0.3137254901960784,
             "rgb(123,30,89)"
            ],
            [
             0.3764705882352941,
             "rgb(150,27,91)"
            ],
            [
             0.4392156862745098,
             "rgb(177,22,88)"
            ],
            [
             0.5019607843137255,
             "rgb(203,26,79)"
            ],
            [
             0.5647058823529412,
             "rgb(223,47,67)"
            ],
            [
             0.6274509803921569,
             "rgb(236,76,61)"
            ],
            [
             0.6901960784313725,
             "rgb(242,107,73)"
            ],
            [
             0.7529411764705882,
             "rgb(244,135,95)"
            ],
            [
             0.8156862745098039,
             "rgb(245,162,122)"
            ],
            [
             0.8784313725490196,
             "rgb(246,188,153)"
            ],
            [
             0.9411764705882353,
             "rgb(247,212,187)"
            ],
            [
             1,
             "rgb(250,234,220)"
            ]
           ],
           "sequentialminus": [
            [
             0,
             "rgb(2,4,25)"
            ],
            [
             0.06274509803921569,
             "rgb(24,15,41)"
            ],
            [
             0.12549019607843137,
             "rgb(47,23,57)"
            ],
            [
             0.18823529411764706,
             "rgb(71,28,72)"
            ],
            [
             0.25098039215686274,
             "rgb(97,30,82)"
            ],
            [
             0.3137254901960784,
             "rgb(123,30,89)"
            ],
            [
             0.3764705882352941,
             "rgb(150,27,91)"
            ],
            [
             0.4392156862745098,
             "rgb(177,22,88)"
            ],
            [
             0.5019607843137255,
             "rgb(203,26,79)"
            ],
            [
             0.5647058823529412,
             "rgb(223,47,67)"
            ],
            [
             0.6274509803921569,
             "rgb(236,76,61)"
            ],
            [
             0.6901960784313725,
             "rgb(242,107,73)"
            ],
            [
             0.7529411764705882,
             "rgb(244,135,95)"
            ],
            [
             0.8156862745098039,
             "rgb(245,162,122)"
            ],
            [
             0.8784313725490196,
             "rgb(246,188,153)"
            ],
            [
             0.9411764705882353,
             "rgb(247,212,187)"
            ],
            [
             1,
             "rgb(250,234,220)"
            ]
           ]
          },
          "colorway": [
           "rgb(76,114,176)",
           "rgb(221,132,82)",
           "rgb(85,168,104)",
           "rgb(196,78,82)",
           "rgb(129,114,179)",
           "rgb(147,120,96)",
           "rgb(218,139,195)",
           "rgb(140,140,140)",
           "rgb(204,185,116)",
           "rgb(100,181,205)"
          ],
          "font": {
           "color": "rgb(36,36,36)"
          },
          "geo": {
           "bgcolor": "white",
           "lakecolor": "white",
           "landcolor": "rgb(234,234,242)",
           "showlakes": true,
           "showland": true,
           "subunitcolor": "white"
          },
          "hoverlabel": {
           "align": "left"
          },
          "hovermode": "closest",
          "paper_bgcolor": "white",
          "plot_bgcolor": "rgb(234,234,242)",
          "polar": {
           "angularaxis": {
            "gridcolor": "white",
            "linecolor": "white",
            "showgrid": true,
            "ticks": ""
           },
           "bgcolor": "rgb(234,234,242)",
           "radialaxis": {
            "gridcolor": "white",
            "linecolor": "white",
            "showgrid": true,
            "ticks": ""
           }
          },
          "scene": {
           "xaxis": {
            "backgroundcolor": "rgb(234,234,242)",
            "gridcolor": "white",
            "gridwidth": 2,
            "linecolor": "white",
            "showbackground": true,
            "showgrid": true,
            "ticks": "",
            "zerolinecolor": "white"
           },
           "yaxis": {
            "backgroundcolor": "rgb(234,234,242)",
            "gridcolor": "white",
            "gridwidth": 2,
            "linecolor": "white",
            "showbackground": true,
            "showgrid": true,
            "ticks": "",
            "zerolinecolor": "white"
           },
           "zaxis": {
            "backgroundcolor": "rgb(234,234,242)",
            "gridcolor": "white",
            "gridwidth": 2,
            "linecolor": "white",
            "showbackground": true,
            "showgrid": true,
            "ticks": "",
            "zerolinecolor": "white"
           }
          },
          "shapedefaults": {
           "fillcolor": "rgb(67,103,167)",
           "line": {
            "width": 0
           },
           "opacity": 0.5
          },
          "ternary": {
           "aaxis": {
            "gridcolor": "white",
            "linecolor": "white",
            "showgrid": true,
            "ticks": ""
           },
           "baxis": {
            "gridcolor": "white",
            "linecolor": "white",
            "showgrid": true,
            "ticks": ""
           },
           "bgcolor": "rgb(234,234,242)",
           "caxis": {
            "gridcolor": "white",
            "linecolor": "white",
            "showgrid": true,
            "ticks": ""
           }
          },
          "xaxis": {
           "automargin": true,
           "gridcolor": "white",
           "linecolor": "white",
           "showgrid": true,
           "ticks": "",
           "title": {
            "standoff": 15
           },
           "zerolinecolor": "white"
          },
          "yaxis": {
           "automargin": true,
           "gridcolor": "white",
           "linecolor": "white",
           "showgrid": true,
           "ticks": "",
           "title": {
            "standoff": 15
           },
           "zerolinecolor": "white"
          }
         }
        },
        "title": {
         "font": {
          "size": 25
         },
         "text": "<b>Goals vs Goals Against</b><br>La Liga 2020-2021 (Fixtures 1-20)",
         "xanchor": "center",
         "y": 0.95,
         "yanchor": "top"
        },
        "width": 950,
        "xaxis": {
         "anchor": "y",
         "domain": [
          0,
          1
         ],
         "title": {
          "text": "GA"
         }
        },
        "yaxis": {
         "anchor": "x",
         "domain": [
          0,
          1
         ],
         "title": {
          "text": "PsxG-GA"
         }
        }
       }
      },
      "text/html": [
       "<div>                            <div id=\"2b0275be-742e-40ab-a40a-0604ba943061\" class=\"plotly-graph-div\" style=\"height:525px; width:950px;\"></div>            <script type=\"text/javascript\">                require([\"plotly\"], function(Plotly) {                    window.PLOTLYENV=window.PLOTLYENV || {};                                    if (document.getElementById(\"2b0275be-742e-40ab-a40a-0604ba943061\")) {                    Plotly.newPlot(                        \"2b0275be-742e-40ab-a40a-0604ba943061\",                        [{\"customdata\": [[1]], \"hovertemplate\": \"<b>%{hovertext}</b><br><br>Squad=Atl\\u00e9tico Madrid<br>GA=%{x}<br>PsxG-GA=%{y}<br>Pts=%{marker.size}<br>Posicion=%{customdata[0]}<extra></extra>\", \"hovertext\": [\"Atl\\u00e9tico Madrid\"], \"legendgroup\": \"Atl\\u00e9tico Madrid\", \"marker\": {\"color\": \"#2E91E5\", \"opacity\": 1, \"size\": [47], \"sizemode\": \"area\", \"sizeref\": 0.1175, \"symbol\": \"circle\"}, \"mode\": \"markers\", \"name\": \"Atl\\u00e9tico Madrid\", \"orientation\": \"v\", \"showlegend\": true, \"type\": \"scatter\", \"x\": [8], \"xaxis\": \"x\", \"y\": [3.9000000000000004], \"yaxis\": \"y\"}, {\"customdata\": [[2]], \"hovertemplate\": \"<b>%{hovertext}</b><br><br>Squad=Real Madrid<br>GA=%{x}<br>PsxG-GA=%{y}<br>Pts=%{marker.size}<br>Posicion=%{customdata[0]}<extra></extra>\", \"hovertext\": [\"Real Madrid\"], \"legendgroup\": \"Real Madrid\", \"marker\": {\"color\": \"#E15F99\", \"opacity\": 1, \"size\": [40], \"sizemode\": \"area\", \"sizeref\": 0.1175, \"symbol\": \"circle\"}, \"mode\": \"markers\", \"name\": \"Real Madrid\", \"orientation\": \"v\", \"showlegend\": true, \"type\": \"scatter\", \"x\": [16], \"xaxis\": \"x\", \"y\": [-0.5], \"yaxis\": \"y\"}, {\"customdata\": [[3]], \"hovertemplate\": \"<b>%{hovertext}</b><br><br>Squad=Barcelona<br>GA=%{x}<br>PsxG-GA=%{y}<br>Pts=%{marker.size}<br>Posicion=%{customdata[0]}<extra></extra>\", \"hovertext\": [\"Barcelona\"], \"legendgroup\": \"Barcelona\", \"marker\": {\"color\": \"#1CA71C\", \"opacity\": 1, \"size\": [37], \"sizemode\": \"area\", \"sizeref\": 0.1175, \"symbol\": \"circle\"}, \"mode\": \"markers\", \"name\": \"Barcelona\", \"orientation\": \"v\", \"showlegend\": true, \"type\": \"scatter\", \"x\": [17], \"xaxis\": \"x\", \"y\": [3.5], \"yaxis\": \"y\"}, {\"customdata\": [[4]], \"hovertemplate\": \"<b>%{hovertext}</b><br><br>Squad=Sevilla<br>GA=%{x}<br>PsxG-GA=%{y}<br>Pts=%{marker.size}<br>Posicion=%{customdata[0]}<extra></extra>\", \"hovertext\": [\"Sevilla\"], \"legendgroup\": \"Sevilla\", \"marker\": {\"color\": \"#FB0D0D\", \"opacity\": 1, \"size\": [36], \"sizemode\": \"area\", \"sizeref\": 0.1175, \"symbol\": \"circle\"}, \"mode\": \"markers\", \"name\": \"Sevilla\", \"orientation\": \"v\", \"showlegend\": true, \"type\": \"scatter\", \"x\": [16], \"xaxis\": \"x\", \"y\": [-1.5], \"yaxis\": \"y\"}, {\"customdata\": [[5]], \"hovertemplate\": \"<b>%{hovertext}</b><br><br>Squad=Villarreal<br>GA=%{x}<br>PsxG-GA=%{y}<br>Pts=%{marker.size}<br>Posicion=%{customdata[0]}<extra></extra>\", \"hovertext\": [\"Villarreal\"], \"legendgroup\": \"Villarreal\", \"marker\": {\"color\": \"#DA16FF\", \"opacity\": 1, \"size\": [34], \"sizemode\": \"area\", \"sizeref\": 0.1175, \"symbol\": \"circle\"}, \"mode\": \"markers\", \"name\": \"Villarreal\", \"orientation\": \"v\", \"showlegend\": true, \"type\": \"scatter\", \"x\": [19], \"xaxis\": \"x\", \"y\": [-3.8000000000000007], \"yaxis\": \"y\"}, {\"customdata\": [[6]], \"hovertemplate\": \"<b>%{hovertext}</b><br><br>Squad=Real Sociedad<br>GA=%{x}<br>PsxG-GA=%{y}<br>Pts=%{marker.size}<br>Posicion=%{customdata[0]}<extra></extra>\", \"hovertext\": [\"Real Sociedad\"], \"legendgroup\": \"Real Sociedad\", \"marker\": {\"color\": \"#222A2A\", \"opacity\": 1, \"size\": [31], \"sizemode\": \"area\", \"sizeref\": 0.1175, \"symbol\": \"circle\"}, \"mode\": \"markers\", \"name\": \"Real Sociedad\", \"orientation\": \"v\", \"showlegend\": true, \"type\": \"scatter\", \"x\": [18], \"xaxis\": \"x\", \"y\": [-1.6999999999999993], \"yaxis\": \"y\"}, {\"customdata\": [[7]], \"hovertemplate\": \"<b>%{hovertext}</b><br><br>Squad=Granada<br>GA=%{x}<br>PsxG-GA=%{y}<br>Pts=%{marker.size}<br>Posicion=%{customdata[0]}<extra></extra>\", \"hovertext\": [\"Granada\"], \"legendgroup\": \"Granada\", \"marker\": {\"color\": \"#B68100\", \"opacity\": 1, \"size\": [28], \"sizemode\": \"area\", \"sizeref\": 0.1175, \"symbol\": \"circle\"}, \"mode\": \"markers\", \"name\": \"Granada\", \"orientation\": \"v\", \"showlegend\": true, \"type\": \"scatter\", \"x\": [34], \"xaxis\": \"x\", \"y\": [-1.3999999999999986], \"yaxis\": \"y\"}, {\"customdata\": [[8]], \"hovertemplate\": \"<b>%{hovertext}</b><br><br>Squad=Betis<br>GA=%{x}<br>PsxG-GA=%{y}<br>Pts=%{marker.size}<br>Posicion=%{customdata[0]}<extra></extra>\", \"hovertext\": [\"Betis\"], \"legendgroup\": \"Betis\", \"marker\": {\"color\": \"#750D86\", \"opacity\": 1, \"size\": [27], \"sizemode\": \"area\", \"sizeref\": 0.1175, \"symbol\": \"circle\"}, \"mode\": \"markers\", \"name\": \"Betis\", \"orientation\": \"v\", \"showlegend\": true, \"type\": \"scatter\", \"x\": [34], \"xaxis\": \"x\", \"y\": [-0.7000000000000028], \"yaxis\": \"y\"}, {\"customdata\": [[9]], \"hovertemplate\": \"<b>%{hovertext}</b><br><br>Squad=Celta Vigo<br>GA=%{x}<br>PsxG-GA=%{y}<br>Pts=%{marker.size}<br>Posicion=%{customdata[0]}<extra></extra>\", \"hovertext\": [\"Celta Vigo\"], \"legendgroup\": \"Celta Vigo\", \"marker\": {\"color\": \"#EB663B\", \"opacity\": 1, \"size\": [24], \"sizemode\": \"area\", \"sizeref\": 0.1175, \"symbol\": \"circle\"}, \"mode\": \"markers\", \"name\": \"Celta Vigo\", \"orientation\": \"v\", \"showlegend\": true, \"type\": \"scatter\", \"x\": [31], \"xaxis\": \"x\", \"y\": [-3.6999999999999993], \"yaxis\": \"y\"}, {\"customdata\": [[10]], \"hovertemplate\": \"<b>%{hovertext}</b><br><br>Squad=C\\u00e1diz<br>GA=%{x}<br>PsxG-GA=%{y}<br>Pts=%{marker.size}<br>Posicion=%{customdata[0]}<extra></extra>\", \"hovertext\": [\"C\\u00e1diz\"], \"legendgroup\": \"C\\u00e1diz\", \"marker\": {\"color\": \"#511CFB\", \"opacity\": 1, \"size\": [24], \"sizemode\": \"area\", \"sizeref\": 0.1175, \"symbol\": \"circle\"}, \"mode\": \"markers\", \"name\": \"C\\u00e1diz\", \"orientation\": \"v\", \"showlegend\": true, \"type\": \"scatter\", \"x\": [27], \"xaxis\": \"x\", \"y\": [-5.300000000000001], \"yaxis\": \"y\"}, {\"customdata\": [[11]], \"hovertemplate\": \"<b>%{hovertext}</b><br><br>Squad=Levante<br>GA=%{x}<br>PsxG-GA=%{y}<br>Pts=%{marker.size}<br>Posicion=%{customdata[0]}<extra></extra>\", \"hovertext\": [\"Levante\"], \"legendgroup\": \"Levante\", \"marker\": {\"color\": \"#00A08B\", \"opacity\": 1, \"size\": [23], \"sizemode\": \"area\", \"sizeref\": 0.1175, \"symbol\": \"circle\"}, \"mode\": \"markers\", \"name\": \"Levante\", \"orientation\": \"v\", \"showlegend\": true, \"type\": \"scatter\", \"x\": [28], \"xaxis\": \"x\", \"y\": [-1.0], \"yaxis\": \"y\"}, {\"customdata\": [[12]], \"hovertemplate\": \"<b>%{hovertext}</b><br><br>Squad=Getafe<br>GA=%{x}<br>PsxG-GA=%{y}<br>Pts=%{marker.size}<br>Posicion=%{customdata[0]}<extra></extra>\", \"hovertext\": [\"Getafe\"], \"legendgroup\": \"Getafe\", \"marker\": {\"color\": \"#FB00D1\", \"opacity\": 1, \"size\": [23], \"sizemode\": \"area\", \"sizeref\": 0.1175, \"symbol\": \"circle\"}, \"mode\": \"markers\", \"name\": \"Getafe\", \"orientation\": \"v\", \"showlegend\": true, \"type\": \"scatter\", \"x\": [18], \"xaxis\": \"x\", \"y\": [-0.6999999999999993], \"yaxis\": \"y\"}, {\"customdata\": [[13]], \"hovertemplate\": \"<b>%{hovertext}</b><br><br>Squad=Athletic Club<br>GA=%{x}<br>PsxG-GA=%{y}<br>Pts=%{marker.size}<br>Posicion=%{customdata[0]}<extra></extra>\", \"hovertext\": [\"Athletic Club\"], \"legendgroup\": \"Athletic Club\", \"marker\": {\"color\": \"#FC0080\", \"opacity\": 1, \"size\": [21], \"sizemode\": \"area\", \"sizeref\": 0.1175, \"symbol\": \"circle\"}, \"mode\": \"markers\", \"name\": \"Athletic Club\", \"orientation\": \"v\", \"showlegend\": true, \"type\": \"scatter\", \"x\": [22], \"xaxis\": \"x\", \"y\": [-4.399999999999999], \"yaxis\": \"y\"}, {\"customdata\": [[14]], \"hovertemplate\": \"<b>%{hovertext}</b><br><br>Squad=Valencia<br>GA=%{x}<br>PsxG-GA=%{y}<br>Pts=%{marker.size}<br>Posicion=%{customdata[0]}<extra></extra>\", \"hovertext\": [\"Valencia\"], \"legendgroup\": \"Valencia\", \"marker\": {\"color\": \"#B2828D\", \"opacity\": 1, \"size\": [20], \"sizemode\": \"area\", \"sizeref\": 0.1175, \"symbol\": \"circle\"}, \"mode\": \"markers\", \"name\": \"Valencia\", \"orientation\": \"v\", \"showlegend\": true, \"type\": \"scatter\", \"x\": [29], \"xaxis\": \"x\", \"y\": [0.8999999999999986], \"yaxis\": \"y\"}, {\"customdata\": [[15]], \"hovertemplate\": \"<b>%{hovertext}</b><br><br>Squad=Eibar<br>GA=%{x}<br>PsxG-GA=%{y}<br>Pts=%{marker.size}<br>Posicion=%{customdata[0]}<extra></extra>\", \"hovertext\": [\"Eibar\"], \"legendgroup\": \"Eibar\", \"marker\": {\"color\": \"#6C7C32\", \"opacity\": 1, \"size\": [20], \"sizemode\": \"area\", \"sizeref\": 0.1175, \"symbol\": \"circle\"}, \"mode\": \"markers\", \"name\": \"Eibar\", \"orientation\": \"v\", \"showlegend\": true, \"type\": \"scatter\", \"x\": [21], \"xaxis\": \"x\", \"y\": [3.1999999999999993], \"yaxis\": \"y\"}, {\"customdata\": [[16]], \"hovertemplate\": \"<b>%{hovertext}</b><br><br>Squad=Valladolid<br>GA=%{x}<br>PsxG-GA=%{y}<br>Pts=%{marker.size}<br>Posicion=%{customdata[0]}<extra></extra>\", \"hovertext\": [\"Valladolid\"], \"legendgroup\": \"Valladolid\", \"marker\": {\"color\": \"#778AAE\", \"opacity\": 1, \"size\": [20], \"sizemode\": \"area\", \"sizeref\": 0.1175, \"symbol\": \"circle\"}, \"mode\": \"markers\", \"name\": \"Valladolid\", \"orientation\": \"v\", \"showlegend\": true, \"type\": \"scatter\", \"x\": [29], \"xaxis\": \"x\", \"y\": [1.5], \"yaxis\": \"y\"}, {\"customdata\": [[17]], \"hovertemplate\": \"<b>%{hovertext}</b><br><br>Squad=Osasuna<br>GA=%{x}<br>PsxG-GA=%{y}<br>Pts=%{marker.size}<br>Posicion=%{customdata[0]}<extra></extra>\", \"hovertext\": [\"Osasuna\"], \"legendgroup\": \"Osasuna\", \"marker\": {\"color\": \"#862A16\", \"opacity\": 1, \"size\": [19], \"sizemode\": \"area\", \"sizeref\": 0.1175, \"symbol\": \"circle\"}, \"mode\": \"markers\", \"name\": \"Osasuna\", \"orientation\": \"v\", \"showlegend\": true, \"type\": \"scatter\", \"x\": [29], \"xaxis\": \"x\", \"y\": [0.10000000000000142], \"yaxis\": \"y\"}, {\"customdata\": [[18]], \"hovertemplate\": \"<b>%{hovertext}</b><br><br>Squad=Alav\\u00e9s<br>GA=%{x}<br>PsxG-GA=%{y}<br>Pts=%{marker.size}<br>Posicion=%{customdata[0]}<extra></extra>\", \"hovertext\": [\"Alav\\u00e9s\"], \"legendgroup\": \"Alav\\u00e9s\", \"marker\": {\"color\": \"#A777F1\", \"opacity\": 1, \"size\": [18], \"sizemode\": \"area\", \"sizeref\": 0.1175, \"symbol\": \"circle\"}, \"mode\": \"markers\", \"name\": \"Alav\\u00e9s\", \"orientation\": \"v\", \"showlegend\": true, \"type\": \"scatter\", \"x\": [29], \"xaxis\": \"x\", \"y\": [-1.1000000000000014], \"yaxis\": \"y\"}, {\"customdata\": [[19]], \"hovertemplate\": \"<b>%{hovertext}</b><br><br>Squad=Elche<br>GA=%{x}<br>PsxG-GA=%{y}<br>Pts=%{marker.size}<br>Posicion=%{customdata[0]}<extra></extra>\", \"hovertext\": [\"Elche\"], \"legendgroup\": \"Elche\", \"marker\": {\"color\": \"#620042\", \"opacity\": 1, \"size\": [17], \"sizemode\": \"area\", \"sizeref\": 0.1175, \"symbol\": \"circle\"}, \"mode\": \"markers\", \"name\": \"Elche\", \"orientation\": \"v\", \"showlegend\": true, \"type\": \"scatter\", \"x\": [25], \"xaxis\": \"x\", \"y\": [2.0], \"yaxis\": \"y\"}, {\"customdata\": [[20]], \"hovertemplate\": \"<b>%{hovertext}</b><br><br>Squad=Huesca<br>GA=%{x}<br>PsxG-GA=%{y}<br>Pts=%{marker.size}<br>Posicion=%{customdata[0]}<extra></extra>\", \"hovertext\": [\"Huesca\"], \"legendgroup\": \"Huesca\", \"marker\": {\"color\": \"#1616A7\", \"opacity\": 1, \"size\": [13], \"sizemode\": \"area\", \"sizeref\": 0.1175, \"symbol\": \"circle\"}, \"mode\": \"markers\", \"name\": \"Huesca\", \"orientation\": \"v\", \"showlegend\": true, \"type\": \"scatter\", \"x\": [29], \"xaxis\": \"x\", \"y\": [-3.5], \"yaxis\": \"y\"}],                        {\"legend\": {\"itemsizing\": \"constant\", \"title\": {\"text\": \"Squad\"}, \"tracegroupgap\": 0}, \"shapes\": [{\"line\": {\"color\": \"black\", \"width\": 2}, \"opacity\": 0.8, \"type\": \"line\", \"x0\": 0, \"x1\": 1, \"xref\": \"x domain\", \"y0\": 0, \"y1\": 0, \"yref\": \"y\"}, {\"line\": {\"color\": \"black\", \"width\": 2}, \"opacity\": 0.8, \"type\": \"line\", \"x0\": 23.95, \"x1\": 23.95, \"xref\": \"x\", \"y0\": 0, \"y1\": 1, \"yref\": \"y domain\"}, {\"fillcolor\": \"yellow\", \"opacity\": 0.2, \"type\": \"rect\", \"x0\": 5, \"x1\": 23.95, \"y0\": -7, \"y1\": 0}, {\"fillcolor\": \"red\", \"opacity\": 0.2, \"type\": \"rect\", \"x0\": 23.95, \"x1\": 38, \"y0\": -7, \"y1\": 0}, {\"fillcolor\": \"green\", \"opacity\": 0.2, \"type\": \"rect\", \"x0\": 5, \"x1\": 23.95, \"y0\": 0, \"y1\": 6}, {\"fillcolor\": \"yellow\", \"opacity\": 0.2, \"type\": \"rect\", \"x0\": 23.95, \"x1\": 38, \"y0\": 0, \"y1\": 6}], \"template\": {\"data\": {\"bar\": [{\"error_x\": {\"color\": \"rgb(36,36,36)\"}, \"error_y\": {\"color\": \"rgb(36,36,36)\"}, \"marker\": {\"line\": {\"color\": \"rgb(234,234,242)\", \"width\": 0.5}}, \"type\": \"bar\"}], \"barpolar\": [{\"marker\": {\"line\": {\"color\": \"rgb(234,234,242)\", \"width\": 0.5}}, \"type\": \"barpolar\"}], \"carpet\": [{\"aaxis\": {\"endlinecolor\": \"rgb(36,36,36)\", \"gridcolor\": \"white\", \"linecolor\": \"white\", \"minorgridcolor\": \"white\", \"startlinecolor\": \"rgb(36,36,36)\"}, \"baxis\": {\"endlinecolor\": \"rgb(36,36,36)\", \"gridcolor\": \"white\", \"linecolor\": \"white\", \"minorgridcolor\": \"white\", \"startlinecolor\": \"rgb(36,36,36)\"}, \"type\": \"carpet\"}], \"choropleth\": [{\"colorbar\": {\"outlinewidth\": 0, \"tickcolor\": \"rgb(36,36,36)\", \"ticklen\": 8, \"ticks\": \"outside\", \"tickwidth\": 2}, \"type\": \"choropleth\"}], \"contour\": [{\"colorbar\": {\"outlinewidth\": 0, \"tickcolor\": \"rgb(36,36,36)\", \"ticklen\": 8, \"ticks\": \"outside\", \"tickwidth\": 2}, \"colorscale\": [[0.0, \"rgb(2,4,25)\"], [0.06274509803921569, \"rgb(24,15,41)\"], [0.12549019607843137, \"rgb(47,23,57)\"], [0.18823529411764706, \"rgb(71,28,72)\"], [0.25098039215686274, \"rgb(97,30,82)\"], [0.3137254901960784, \"rgb(123,30,89)\"], [0.3764705882352941, \"rgb(150,27,91)\"], [0.4392156862745098, \"rgb(177,22,88)\"], [0.5019607843137255, \"rgb(203,26,79)\"], [0.5647058823529412, \"rgb(223,47,67)\"], [0.6274509803921569, \"rgb(236,76,61)\"], [0.6901960784313725, \"rgb(242,107,73)\"], [0.7529411764705882, \"rgb(244,135,95)\"], [0.8156862745098039, \"rgb(245,162,122)\"], [0.8784313725490196, \"rgb(246,188,153)\"], [0.9411764705882353, \"rgb(247,212,187)\"], [1.0, \"rgb(250,234,220)\"]], \"type\": \"contour\"}], \"contourcarpet\": [{\"colorbar\": {\"outlinewidth\": 0, \"tickcolor\": \"rgb(36,36,36)\", \"ticklen\": 8, \"ticks\": \"outside\", \"tickwidth\": 2}, \"type\": \"contourcarpet\"}], \"heatmap\": [{\"colorbar\": {\"outlinewidth\": 0, \"tickcolor\": \"rgb(36,36,36)\", \"ticklen\": 8, \"ticks\": \"outside\", \"tickwidth\": 2}, \"colorscale\": [[0.0, \"rgb(2,4,25)\"], [0.06274509803921569, \"rgb(24,15,41)\"], [0.12549019607843137, \"rgb(47,23,57)\"], [0.18823529411764706, \"rgb(71,28,72)\"], [0.25098039215686274, \"rgb(97,30,82)\"], [0.3137254901960784, \"rgb(123,30,89)\"], [0.3764705882352941, \"rgb(150,27,91)\"], [0.4392156862745098, \"rgb(177,22,88)\"], [0.5019607843137255, \"rgb(203,26,79)\"], [0.5647058823529412, \"rgb(223,47,67)\"], [0.6274509803921569, \"rgb(236,76,61)\"], [0.6901960784313725, \"rgb(242,107,73)\"], [0.7529411764705882, \"rgb(244,135,95)\"], [0.8156862745098039, \"rgb(245,162,122)\"], [0.8784313725490196, \"rgb(246,188,153)\"], [0.9411764705882353, \"rgb(247,212,187)\"], [1.0, \"rgb(250,234,220)\"]], \"type\": \"heatmap\"}], \"heatmapgl\": [{\"colorbar\": {\"outlinewidth\": 0, \"tickcolor\": \"rgb(36,36,36)\", \"ticklen\": 8, \"ticks\": \"outside\", \"tickwidth\": 2}, \"colorscale\": [[0.0, \"rgb(2,4,25)\"], [0.06274509803921569, \"rgb(24,15,41)\"], [0.12549019607843137, \"rgb(47,23,57)\"], [0.18823529411764706, \"rgb(71,28,72)\"], [0.25098039215686274, \"rgb(97,30,82)\"], [0.3137254901960784, \"rgb(123,30,89)\"], [0.3764705882352941, \"rgb(150,27,91)\"], [0.4392156862745098, \"rgb(177,22,88)\"], [0.5019607843137255, \"rgb(203,26,79)\"], [0.5647058823529412, \"rgb(223,47,67)\"], [0.6274509803921569, \"rgb(236,76,61)\"], [0.6901960784313725, \"rgb(242,107,73)\"], [0.7529411764705882, \"rgb(244,135,95)\"], [0.8156862745098039, \"rgb(245,162,122)\"], [0.8784313725490196, \"rgb(246,188,153)\"], [0.9411764705882353, \"rgb(247,212,187)\"], [1.0, \"rgb(250,234,220)\"]], \"type\": \"heatmapgl\"}], \"histogram\": [{\"marker\": {\"colorbar\": {\"outlinewidth\": 0, \"tickcolor\": \"rgb(36,36,36)\", \"ticklen\": 8, \"ticks\": \"outside\", \"tickwidth\": 2}}, \"type\": \"histogram\"}], \"histogram2d\": [{\"colorbar\": {\"outlinewidth\": 0, \"tickcolor\": \"rgb(36,36,36)\", \"ticklen\": 8, \"ticks\": \"outside\", \"tickwidth\": 2}, \"colorscale\": [[0.0, \"rgb(2,4,25)\"], [0.06274509803921569, \"rgb(24,15,41)\"], [0.12549019607843137, \"rgb(47,23,57)\"], [0.18823529411764706, \"rgb(71,28,72)\"], [0.25098039215686274, \"rgb(97,30,82)\"], [0.3137254901960784, \"rgb(123,30,89)\"], [0.3764705882352941, \"rgb(150,27,91)\"], [0.4392156862745098, \"rgb(177,22,88)\"], [0.5019607843137255, \"rgb(203,26,79)\"], [0.5647058823529412, \"rgb(223,47,67)\"], [0.6274509803921569, \"rgb(236,76,61)\"], [0.6901960784313725, \"rgb(242,107,73)\"], [0.7529411764705882, \"rgb(244,135,95)\"], [0.8156862745098039, \"rgb(245,162,122)\"], [0.8784313725490196, \"rgb(246,188,153)\"], [0.9411764705882353, \"rgb(247,212,187)\"], [1.0, \"rgb(250,234,220)\"]], \"type\": \"histogram2d\"}], \"histogram2dcontour\": [{\"colorbar\": {\"outlinewidth\": 0, \"tickcolor\": \"rgb(36,36,36)\", \"ticklen\": 8, \"ticks\": \"outside\", \"tickwidth\": 2}, \"colorscale\": [[0.0, \"rgb(2,4,25)\"], [0.06274509803921569, \"rgb(24,15,41)\"], [0.12549019607843137, \"rgb(47,23,57)\"], [0.18823529411764706, \"rgb(71,28,72)\"], [0.25098039215686274, \"rgb(97,30,82)\"], [0.3137254901960784, \"rgb(123,30,89)\"], [0.3764705882352941, \"rgb(150,27,91)\"], [0.4392156862745098, \"rgb(177,22,88)\"], [0.5019607843137255, \"rgb(203,26,79)\"], [0.5647058823529412, \"rgb(223,47,67)\"], [0.6274509803921569, \"rgb(236,76,61)\"], [0.6901960784313725, \"rgb(242,107,73)\"], [0.7529411764705882, \"rgb(244,135,95)\"], [0.8156862745098039, \"rgb(245,162,122)\"], [0.8784313725490196, \"rgb(246,188,153)\"], [0.9411764705882353, \"rgb(247,212,187)\"], [1.0, \"rgb(250,234,220)\"]], \"type\": \"histogram2dcontour\"}], \"mesh3d\": [{\"colorbar\": {\"outlinewidth\": 0, \"tickcolor\": \"rgb(36,36,36)\", \"ticklen\": 8, \"ticks\": \"outside\", \"tickwidth\": 2}, \"type\": \"mesh3d\"}], \"parcoords\": [{\"line\": {\"colorbar\": {\"outlinewidth\": 0, \"tickcolor\": \"rgb(36,36,36)\", \"ticklen\": 8, \"ticks\": \"outside\", \"tickwidth\": 2}}, \"type\": \"parcoords\"}], \"pie\": [{\"automargin\": true, \"type\": \"pie\"}], \"scatter\": [{\"marker\": {\"colorbar\": {\"outlinewidth\": 0, \"tickcolor\": \"rgb(36,36,36)\", \"ticklen\": 8, \"ticks\": \"outside\", \"tickwidth\": 2}}, \"type\": \"scatter\"}], \"scatter3d\": [{\"line\": {\"colorbar\": {\"outlinewidth\": 0, \"tickcolor\": \"rgb(36,36,36)\", \"ticklen\": 8, \"ticks\": \"outside\", \"tickwidth\": 2}}, \"marker\": {\"colorbar\": {\"outlinewidth\": 0, \"tickcolor\": \"rgb(36,36,36)\", \"ticklen\": 8, \"ticks\": \"outside\", \"tickwidth\": 2}}, \"type\": \"scatter3d\"}], \"scattercarpet\": [{\"marker\": {\"colorbar\": {\"outlinewidth\": 0, \"tickcolor\": \"rgb(36,36,36)\", \"ticklen\": 8, \"ticks\": \"outside\", \"tickwidth\": 2}}, \"type\": \"scattercarpet\"}], \"scattergeo\": [{\"marker\": {\"colorbar\": {\"outlinewidth\": 0, \"tickcolor\": \"rgb(36,36,36)\", \"ticklen\": 8, \"ticks\": \"outside\", \"tickwidth\": 2}}, \"type\": \"scattergeo\"}], \"scattergl\": [{\"marker\": {\"colorbar\": {\"outlinewidth\": 0, \"tickcolor\": \"rgb(36,36,36)\", \"ticklen\": 8, \"ticks\": \"outside\", \"tickwidth\": 2}}, \"type\": \"scattergl\"}], \"scattermapbox\": [{\"marker\": {\"colorbar\": {\"outlinewidth\": 0, \"tickcolor\": \"rgb(36,36,36)\", \"ticklen\": 8, \"ticks\": \"outside\", \"tickwidth\": 2}}, \"type\": \"scattermapbox\"}], \"scatterpolar\": [{\"marker\": {\"colorbar\": {\"outlinewidth\": 0, \"tickcolor\": \"rgb(36,36,36)\", \"ticklen\": 8, \"ticks\": \"outside\", \"tickwidth\": 2}}, \"type\": \"scatterpolar\"}], \"scatterpolargl\": [{\"marker\": {\"colorbar\": {\"outlinewidth\": 0, \"tickcolor\": \"rgb(36,36,36)\", \"ticklen\": 8, \"ticks\": \"outside\", \"tickwidth\": 2}}, \"type\": \"scatterpolargl\"}], \"scatterternary\": [{\"marker\": {\"colorbar\": {\"outlinewidth\": 0, \"tickcolor\": \"rgb(36,36,36)\", \"ticklen\": 8, \"ticks\": \"outside\", \"tickwidth\": 2}}, \"type\": \"scatterternary\"}], \"surface\": [{\"colorbar\": {\"outlinewidth\": 0, \"tickcolor\": \"rgb(36,36,36)\", \"ticklen\": 8, \"ticks\": \"outside\", \"tickwidth\": 2}, \"colorscale\": [[0.0, \"rgb(2,4,25)\"], [0.06274509803921569, \"rgb(24,15,41)\"], [0.12549019607843137, \"rgb(47,23,57)\"], [0.18823529411764706, \"rgb(71,28,72)\"], [0.25098039215686274, \"rgb(97,30,82)\"], [0.3137254901960784, \"rgb(123,30,89)\"], [0.3764705882352941, \"rgb(150,27,91)\"], [0.4392156862745098, \"rgb(177,22,88)\"], [0.5019607843137255, \"rgb(203,26,79)\"], [0.5647058823529412, \"rgb(223,47,67)\"], [0.6274509803921569, \"rgb(236,76,61)\"], [0.6901960784313725, \"rgb(242,107,73)\"], [0.7529411764705882, \"rgb(244,135,95)\"], [0.8156862745098039, \"rgb(245,162,122)\"], [0.8784313725490196, \"rgb(246,188,153)\"], [0.9411764705882353, \"rgb(247,212,187)\"], [1.0, \"rgb(250,234,220)\"]], \"type\": \"surface\"}], \"table\": [{\"cells\": {\"fill\": {\"color\": \"rgb(231,231,240)\"}, \"line\": {\"color\": \"white\"}}, \"header\": {\"fill\": {\"color\": \"rgb(183,183,191)\"}, \"line\": {\"color\": \"white\"}}, \"type\": \"table\"}]}, \"layout\": {\"annotationdefaults\": {\"arrowcolor\": \"rgb(67,103,167)\"}, \"autotypenumbers\": \"strict\", \"coloraxis\": {\"colorbar\": {\"outlinewidth\": 0, \"tickcolor\": \"rgb(36,36,36)\", \"ticklen\": 8, \"ticks\": \"outside\", \"tickwidth\": 2}}, \"colorscale\": {\"sequential\": [[0.0, \"rgb(2,4,25)\"], [0.06274509803921569, \"rgb(24,15,41)\"], [0.12549019607843137, \"rgb(47,23,57)\"], [0.18823529411764706, \"rgb(71,28,72)\"], [0.25098039215686274, \"rgb(97,30,82)\"], [0.3137254901960784, \"rgb(123,30,89)\"], [0.3764705882352941, \"rgb(150,27,91)\"], [0.4392156862745098, \"rgb(177,22,88)\"], [0.5019607843137255, \"rgb(203,26,79)\"], [0.5647058823529412, \"rgb(223,47,67)\"], [0.6274509803921569, \"rgb(236,76,61)\"], [0.6901960784313725, \"rgb(242,107,73)\"], [0.7529411764705882, \"rgb(244,135,95)\"], [0.8156862745098039, \"rgb(245,162,122)\"], [0.8784313725490196, \"rgb(246,188,153)\"], [0.9411764705882353, \"rgb(247,212,187)\"], [1.0, \"rgb(250,234,220)\"]], \"sequentialminus\": [[0.0, \"rgb(2,4,25)\"], [0.06274509803921569, \"rgb(24,15,41)\"], [0.12549019607843137, \"rgb(47,23,57)\"], [0.18823529411764706, \"rgb(71,28,72)\"], [0.25098039215686274, \"rgb(97,30,82)\"], [0.3137254901960784, \"rgb(123,30,89)\"], [0.3764705882352941, \"rgb(150,27,91)\"], [0.4392156862745098, \"rgb(177,22,88)\"], [0.5019607843137255, \"rgb(203,26,79)\"], [0.5647058823529412, \"rgb(223,47,67)\"], [0.6274509803921569, \"rgb(236,76,61)\"], [0.6901960784313725, \"rgb(242,107,73)\"], [0.7529411764705882, \"rgb(244,135,95)\"], [0.8156862745098039, \"rgb(245,162,122)\"], [0.8784313725490196, \"rgb(246,188,153)\"], [0.9411764705882353, \"rgb(247,212,187)\"], [1.0, \"rgb(250,234,220)\"]]}, \"colorway\": [\"rgb(76,114,176)\", \"rgb(221,132,82)\", \"rgb(85,168,104)\", \"rgb(196,78,82)\", \"rgb(129,114,179)\", \"rgb(147,120,96)\", \"rgb(218,139,195)\", \"rgb(140,140,140)\", \"rgb(204,185,116)\", \"rgb(100,181,205)\"], \"font\": {\"color\": \"rgb(36,36,36)\"}, \"geo\": {\"bgcolor\": \"white\", \"lakecolor\": \"white\", \"landcolor\": \"rgb(234,234,242)\", \"showlakes\": true, \"showland\": true, \"subunitcolor\": \"white\"}, \"hoverlabel\": {\"align\": \"left\"}, \"hovermode\": \"closest\", \"paper_bgcolor\": \"white\", \"plot_bgcolor\": \"rgb(234,234,242)\", \"polar\": {\"angularaxis\": {\"gridcolor\": \"white\", \"linecolor\": \"white\", \"showgrid\": true, \"ticks\": \"\"}, \"bgcolor\": \"rgb(234,234,242)\", \"radialaxis\": {\"gridcolor\": \"white\", \"linecolor\": \"white\", \"showgrid\": true, \"ticks\": \"\"}}, \"scene\": {\"xaxis\": {\"backgroundcolor\": \"rgb(234,234,242)\", \"gridcolor\": \"white\", \"gridwidth\": 2, \"linecolor\": \"white\", \"showbackground\": true, \"showgrid\": true, \"ticks\": \"\", \"zerolinecolor\": \"white\"}, \"yaxis\": {\"backgroundcolor\": \"rgb(234,234,242)\", \"gridcolor\": \"white\", \"gridwidth\": 2, \"linecolor\": \"white\", \"showbackground\": true, \"showgrid\": true, \"ticks\": \"\", \"zerolinecolor\": \"white\"}, \"zaxis\": {\"backgroundcolor\": \"rgb(234,234,242)\", \"gridcolor\": \"white\", \"gridwidth\": 2, \"linecolor\": \"white\", \"showbackground\": true, \"showgrid\": true, \"ticks\": \"\", \"zerolinecolor\": \"white\"}}, \"shapedefaults\": {\"fillcolor\": \"rgb(67,103,167)\", \"line\": {\"width\": 0}, \"opacity\": 0.5}, \"ternary\": {\"aaxis\": {\"gridcolor\": \"white\", \"linecolor\": \"white\", \"showgrid\": true, \"ticks\": \"\"}, \"baxis\": {\"gridcolor\": \"white\", \"linecolor\": \"white\", \"showgrid\": true, \"ticks\": \"\"}, \"bgcolor\": \"rgb(234,234,242)\", \"caxis\": {\"gridcolor\": \"white\", \"linecolor\": \"white\", \"showgrid\": true, \"ticks\": \"\"}}, \"xaxis\": {\"automargin\": true, \"gridcolor\": \"white\", \"linecolor\": \"white\", \"showgrid\": true, \"ticks\": \"\", \"title\": {\"standoff\": 15}, \"zerolinecolor\": \"white\"}, \"yaxis\": {\"automargin\": true, \"gridcolor\": \"white\", \"linecolor\": \"white\", \"showgrid\": true, \"ticks\": \"\", \"title\": {\"standoff\": 15}, \"zerolinecolor\": \"white\"}}}, \"title\": {\"font\": {\"size\": 25}, \"text\": \"<b>Goals vs Goals Against</b><br>La Liga 2020-2021 (Fixtures 1-20)\", \"xanchor\": \"center\", \"y\": 0.95, \"yanchor\": \"top\"}, \"width\": 950, \"xaxis\": {\"anchor\": \"y\", \"domain\": [0.0, 1.0], \"title\": {\"text\": \"GA\"}}, \"yaxis\": {\"anchor\": \"x\", \"domain\": [0.0, 1.0], \"title\": {\"text\": \"PsxG-GA\"}}},                        {\"responsive\": true}                    ).then(function(){\n",
       "                            \n",
       "var gd = document.getElementById('2b0275be-742e-40ab-a40a-0604ba943061');\n",
       "var x = new MutationObserver(function (mutations, observer) {{\n",
       "        var display = window.getComputedStyle(gd).display;\n",
       "        if (!display || display === 'none') {{\n",
       "            console.log([gd, 'removed!']);\n",
       "            Plotly.purge(gd);\n",
       "            observer.disconnect();\n",
       "        }}\n",
       "}});\n",
       "\n",
       "// Listen for the removal of the full notebook cells\n",
       "var notebookContainer = gd.closest('#notebook-container');\n",
       "if (notebookContainer) {{\n",
       "    x.observe(notebookContainer, {childList: true});\n",
       "}}\n",
       "\n",
       "// Listen for the clearing of the current output cell\n",
       "var outputEl = gd.closest('.output');\n",
       "if (outputEl) {{\n",
       "    x.observe(outputEl, {childList: true});\n",
       "}}\n",
       "\n",
       "                        })                };                });            </script>        </div>"
      ]
     },
     "metadata": {},
     "output_type": "display_data"
    }
   ],
   "source": [
    "fig = px.scatter(laliga_stats, x= 'GA', y='PsxG-GA', size= 'Pts', color= 'Squad', \n",
    "                opacity= 1, hover_name= 'Squad', hover_data= ['Posicion'],\n",
    "                color_discrete_sequence=px.colors.qualitative.Dark24,\n",
    "                width= 950, template= 'seaborn', \n",
    "                title= '<b>Goals vs Goals Against</b><br>La Liga 2020-2021 (Fixtures 1-20)')\n",
    "\n",
    "fig.add_hline(y=0, line_width=2, line_color= 'black', opacity= 0.8)\n",
    "fig.add_vline(x= laliga_stats['GA'].mean(), line_width=2, line_color= 'black', opacity= 0.8)\n",
    "fig.add_shape(type='rect', x0= 5, y0= -7, \n",
    "              x1=laliga_stats['GA'].mean(), y1=0, \n",
    "              fillcolor= 'yellow', opacity= 0.2)\n",
    "fig.add_shape(type='rect', x0= laliga_stats['GA'].mean(), y0= -7, \n",
    "              x1= 38, y1= 0, \n",
    "              fillcolor= 'red', opacity= 0.2)\n",
    "fig.add_shape(type='rect', x0= 5, y0= 0, \n",
    "              x1= laliga_stats['GA'].mean(), y1= 6, \n",
    "              fillcolor= 'green', opacity= 0.2)\n",
    "fig.add_shape(type='rect', x0= laliga_stats['GA'].mean(), y0= 0, \n",
    "              x1= 38, y1= 6, \n",
    "              fillcolor= 'yellow', opacity= 0.2)\n",
    "\n",
    "fig.update_layout(title={'y': 0.95,\n",
    "                        'xanchor': 'center',\n",
    "                        'yanchor': 'top'},\n",
    "                  title_font= dict(size=25))\n",
    "\n",
    "fig.show()"
   ]
  },
  {
   "cell_type": "code",
   "execution_count": 13,
   "metadata": {},
   "outputs": [],
   "source": [
    "#laliga_stats.to_csv('./data/laliga_stats.txt', sep=',', index= False)"
   ]
  }
 ],
 "metadata": {
  "kernelspec": {
   "display_name": "Python 3",
   "language": "python",
   "name": "python3"
  },
  "language_info": {
   "codemirror_mode": {
    "name": "ipython",
    "version": 3
   },
   "file_extension": ".py",
   "mimetype": "text/x-python",
   "name": "python",
   "nbconvert_exporter": "python",
   "pygments_lexer": "ipython3",
   "version": "3.7.9"
  }
 },
 "nbformat": 4,
 "nbformat_minor": 4
}
